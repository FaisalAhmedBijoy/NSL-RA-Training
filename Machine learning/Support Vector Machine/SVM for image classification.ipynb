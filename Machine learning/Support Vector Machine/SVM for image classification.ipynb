{
 "cells": [
  {
   "cell_type": "code",
   "execution_count": 1,
   "metadata": {},
   "outputs": [],
   "source": [
    "import numpy as np\n",
    "import pandas as pd\n",
    "import matplotlib.pyplot as plt\n",
    "import cv2\n",
    "import os\n"
   ]
  },
  {
   "cell_type": "code",
   "execution_count": 2,
   "metadata": {},
   "outputs": [
    {
     "name": "stdout",
     "output_type": "stream",
     "text": [
      "Current Directory C:\\Users\\Shimul\\Documents\\Thesis room identification\n"
     ]
    }
   ],
   "source": [
    "print('Current Directory',os.getcwd())"
   ]
  },
  {
   "cell_type": "code",
   "execution_count": 3,
   "metadata": {},
   "outputs": [],
   "source": [
    "Directory='C:/Users/Shimul/Documents/Thesis room identification/preprocessed_dataset'\n",
    "Categories=['building','mosque','temple','tinshed']\n"
   ]
  },
  {
   "cell_type": "code",
   "execution_count": 4,
   "metadata": {
    "scrolled": true
   },
   "outputs": [
    {
     "data": {
      "text/plain": [
       "['test', 'train', 'validation']"
      ]
     },
     "execution_count": 4,
     "metadata": {},
     "output_type": "execute_result"
    }
   ],
   "source": [
    "os.listdir(Directory)"
   ]
  },
  {
   "cell_type": "code",
   "execution_count": 5,
   "metadata": {},
   "outputs": [
    {
     "name": "stdout",
     "output_type": "stream",
     "text": [
      "building41.png\n",
      "building42.png\n",
      "building43.png\n",
      "building44.png\n",
      "building45.png\n",
      "building46.png\n",
      "building47.png\n",
      "building48.png\n",
      "building49.png\n",
      "building50.png\n",
      "building51.png\n",
      "building52.png\n",
      "mosque21.png\n",
      "mosque22.png\n",
      "mosque23.png\n",
      "mosque24.png\n",
      "mosque25.png\n",
      "mosque26.png\n",
      "mosque27.png\n",
      "mosque28.png\n",
      "mosque29.png\n",
      "mosque30.png\n",
      "mosque31.png\n",
      "mosque32.png\n",
      "mosque33.png\n",
      "mosque34.png\n",
      "mosque35.png\n",
      "mosque36.png\n",
      "temple51.png\n",
      "temple52.png\n",
      "temple53.png\n",
      "temple54.png\n",
      "temple55.png\n",
      "temple56.png\n",
      "temple57.png\n",
      "temple58.png\n",
      "temple59.png\n",
      "temple60.png\n",
      "temple61.png\n",
      "temple62.png\n",
      "temple63.png\n",
      "temple64.png\n",
      "temple65.png\n",
      "temple66.png\n",
      "temple67.png\n",
      "tinshed16.png\n",
      "tinshed17.png\n",
      "tinshed18.png\n",
      "tinshed19.png\n",
      "tinshed20.png\n",
      "tinshed21.png\n",
      "tinshed22.png\n",
      "tinshed23.png\n",
      "tinshed24.png\n",
      "tinshed25.png\n",
      "building0.png\n",
      "building1.png\n",
      "building10.png\n",
      "building11.png\n",
      "building12.png\n",
      "building13.png\n",
      "building14.png\n",
      "building15.png\n",
      "building16.png\n",
      "building17.png\n",
      "building18.png\n",
      "building19.png\n",
      "building2.png\n",
      "building20.png\n",
      "building21.png\n",
      "building22.png\n",
      "building23.png\n",
      "building24.png\n",
      "building25.png\n",
      "building26.png\n",
      "building27.png\n",
      "building28.png\n",
      "building29.png\n",
      "building3.png\n",
      "building30.png\n",
      "building31.png\n",
      "building32.png\n",
      "building33.png\n",
      "building34.png\n",
      "building35.png\n",
      "building36.png\n",
      "building37.png\n",
      "building38.png\n",
      "building39.png\n",
      "building4.png\n",
      "building40.png\n",
      "building41.png\n",
      "building42.png\n",
      "building43.png\n",
      "building44.png\n",
      "building45.png\n",
      "building46.png\n",
      "building47.png\n",
      "building48.png\n",
      "building49.png\n",
      "building5.png\n",
      "building50.png\n",
      "building51.png\n",
      "building52.png\n",
      "building6.png\n",
      "building7.png\n",
      "building8.png\n",
      "building9.png\n",
      "mosque0.png\n",
      "mosque1.png\n",
      "mosque10.png\n",
      "mosque11.png\n",
      "mosque12.png\n",
      "mosque13.png\n",
      "mosque14.png\n",
      "mosque15.png\n",
      "mosque16.png\n",
      "mosque17.png\n",
      "mosque18.png\n",
      "mosque19.png\n",
      "mosque2.png\n",
      "mosque20.png\n",
      "mosque21.png\n",
      "mosque22.png\n",
      "mosque23.png\n",
      "mosque24.png\n",
      "mosque25.png\n",
      "mosque26.png\n",
      "mosque27.png\n",
      "mosque28.png\n",
      "mosque29.png\n",
      "mosque3.png\n",
      "mosque30.png\n",
      "mosque31.png\n",
      "mosque32.png\n",
      "mosque33.png\n",
      "mosque34.png\n",
      "mosque35.png\n",
      "mosque36.png\n",
      "mosque4.png\n",
      "mosque5.png\n",
      "mosque6.png\n",
      "mosque7.png\n",
      "mosque8.png\n",
      "mosque9.png\n",
      "temple0.png\n",
      "temple1.png\n",
      "temple10.png\n",
      "temple11.png\n",
      "temple12.png\n",
      "temple13.png\n",
      "temple14.png\n",
      "temple15.png\n",
      "temple16.png\n",
      "temple17.png\n",
      "temple18.png\n",
      "temple19.png\n",
      "temple2.png\n",
      "temple20.png\n",
      "temple21.png\n",
      "temple22.png\n",
      "temple23.png\n",
      "temple24.png\n",
      "temple25.png\n",
      "temple26.png\n",
      "temple27.png\n",
      "temple28.png\n",
      "temple29.png\n",
      "temple3.png\n",
      "temple30.png\n",
      "temple31.png\n",
      "temple32.png\n",
      "temple33.png\n",
      "temple34.png\n",
      "temple35.png\n",
      "temple36.png\n",
      "temple37.png\n",
      "temple38.png\n",
      "temple39.png\n",
      "temple4.png\n",
      "temple40.png\n",
      "temple41.png\n",
      "temple42.png\n",
      "temple43.png\n",
      "temple44.png\n",
      "temple45.png\n",
      "temple46.png\n",
      "temple47.png\n",
      "temple48.png\n",
      "temple49.png\n",
      "temple5.png\n",
      "temple50.png\n",
      "temple51.png\n",
      "temple52.png\n",
      "temple53.png\n",
      "temple54.png\n",
      "temple55.png\n",
      "temple56.png\n",
      "temple57.png\n",
      "temple58.png\n",
      "temple59.png\n",
      "temple6.png\n",
      "temple60.png\n",
      "temple61.png\n",
      "temple62.png\n",
      "temple63.png\n",
      "temple64.png\n",
      "temple65.png\n",
      "temple66.png\n",
      "temple67.png\n",
      "temple7.png\n",
      "temple8.png\n",
      "temple9.png\n",
      "tinshed0.png\n",
      "tinshed1.png\n",
      "tinshed10.png\n",
      "tinshed11.png\n",
      "tinshed12.png\n",
      "tinshed13.png\n",
      "tinshed14.png\n",
      "tinshed15.png\n",
      "tinshed16.png\n",
      "tinshed17.png\n",
      "tinshed18.png\n",
      "tinshed19.png\n",
      "tinshed2.png\n",
      "tinshed20.png\n",
      "tinshed21.png\n",
      "tinshed22.png\n",
      "tinshed23.png\n",
      "tinshed24.png\n",
      "tinshed25.png\n",
      "tinshed3.png\n",
      "tinshed4.png\n",
      "tinshed5.png\n",
      "tinshed6.png\n",
      "tinshed7.png\n",
      "tinshed8.png\n",
      "tinshed9.png\n",
      "building41.png\n",
      "building42.png\n",
      "building43.png\n",
      "building44.png\n",
      "building45.png\n",
      "mosque21.png\n",
      "mosque22.png\n",
      "mosque23.png\n",
      "mosque24.png\n",
      "mosque25.png\n",
      "mosque26.png\n",
      "mosque33.png\n",
      "temple51.png\n",
      "temple52.png\n",
      "temple53.png\n",
      "temple54.png\n",
      "temple55.png\n",
      "temple63.png\n",
      "temple64.png\n",
      "temple65.png\n",
      "temple66.png\n",
      "temple67.png\n",
      "tinshed16.png\n",
      "tinshed17.png\n",
      "tinshed18.png\n",
      "tinshed19.png\n",
      "tinshed20.png\n"
     ]
    }
   ],
   "source": [
    "for dirname, _, filenames in os.walk(Directory):\n",
    "    for filename in filenames:\n",
    "        os.path.join(dirname, filename)\n",
    "        #print(dirname)\n",
    "        print(filename)"
   ]
  },
  {
   "cell_type": "code",
   "execution_count": 6,
   "metadata": {},
   "outputs": [],
   "source": [
    "training_data=[]\n"
   ]
  },
  {
   "cell_type": "code",
   "execution_count": 7,
   "metadata": {},
   "outputs": [],
   "source": [
    "train_directory='C:/Users/Shimul/Documents/Thesis room identification/preprocessed_dataset/train'"
   ]
  },
  {
   "cell_type": "code",
   "execution_count": 8,
   "metadata": {
    "scrolled": false
   },
   "outputs": [
    {
     "name": "stdout",
     "output_type": "stream",
     "text": [
      "C:/Users/Shimul/Documents/Thesis room identification/preprocessed_dataset/train\\building\n",
      "0\n",
      "C:/Users/Shimul/Documents/Thesis room identification/preprocessed_dataset/train\\mosque\n",
      "1\n",
      "C:/Users/Shimul/Documents/Thesis room identification/preprocessed_dataset/train\\temple\n",
      "2\n",
      "C:/Users/Shimul/Documents/Thesis room identification/preprocessed_dataset/train\\tinshed\n",
      "3\n"
     ]
    }
   ],
   "source": [
    "def create_training_data():\n",
    "    for category in Categories:\n",
    "        path=os.path.join(train_directory,category)\n",
    "        print(path)\n",
    "        class_number=Categories.index(category)\n",
    "        print(class_number)\n",
    "        for img in os.listdir(path):\n",
    "                img_array=cv2.imread(os.path.join(path,img))\n",
    "                #print(img_array.shape)\n",
    "                training_data.append([img_array,class_number])\n",
    "        \n",
    "create_training_data()"
   ]
  },
  {
   "cell_type": "code",
   "execution_count": 9,
   "metadata": {},
   "outputs": [
    {
     "data": {
      "text/plain": [
       "184"
      ]
     },
     "execution_count": 9,
     "metadata": {},
     "output_type": "execute_result"
    }
   ],
   "source": [
    "image_length=len(training_data)\n",
    "image_length"
   ]
  },
  {
   "cell_type": "markdown",
   "metadata": {},
   "source": [
    "# SVM Classifier in 2D data"
   ]
  },
  {
   "cell_type": "code",
   "execution_count": 10,
   "metadata": {},
   "outputs": [],
   "source": [
    "x=[]\n",
    "y=[]"
   ]
  },
  {
   "cell_type": "code",
   "execution_count": 11,
   "metadata": {},
   "outputs": [],
   "source": [
    "for categories,label in training_data:\n",
    "    x.append(categories)\n",
    "    y.append(label)"
   ]
  },
  {
   "cell_type": "code",
   "execution_count": 12,
   "metadata": {},
   "outputs": [
    {
     "data": {
      "text/plain": [
       "(array([92, 79, 60], dtype=uint8), 0)"
      ]
     },
     "execution_count": 12,
     "metadata": {},
     "output_type": "execute_result"
    }
   ],
   "source": [
    "x[0][0][0],y[0]"
   ]
  },
  {
   "cell_type": "code",
   "execution_count": 13,
   "metadata": {},
   "outputs": [],
   "source": [
    "x=np.array(x).reshape(image_length,-1)\n"
   ]
  },
  {
   "cell_type": "code",
   "execution_count": 14,
   "metadata": {
    "scrolled": true
   },
   "outputs": [
    {
     "data": {
      "text/plain": [
       "(184, 750000)"
      ]
     },
     "execution_count": 14,
     "metadata": {},
     "output_type": "execute_result"
    }
   ],
   "source": [
    "x.shape"
   ]
  },
  {
   "cell_type": "markdown",
   "metadata": {},
   "source": [
    "## Flatten and normalize the data"
   ]
  },
  {
   "cell_type": "code",
   "execution_count": 15,
   "metadata": {},
   "outputs": [],
   "source": [
    "x=x/255.0\n"
   ]
  },
  {
   "cell_type": "code",
   "execution_count": 16,
   "metadata": {},
   "outputs": [
    {
     "data": {
      "text/plain": [
       "0.3607843137254902"
      ]
     },
     "execution_count": 16,
     "metadata": {},
     "output_type": "execute_result"
    }
   ],
   "source": [
    "x[0][0]"
   ]
  },
  {
   "cell_type": "code",
   "execution_count": 17,
   "metadata": {},
   "outputs": [
    {
     "data": {
      "text/plain": [
       "(184,)"
      ]
     },
     "execution_count": 17,
     "metadata": {},
     "output_type": "execute_result"
    }
   ],
   "source": [
    "y=np.array(y)\n",
    "y.shape"
   ]
  },
  {
   "cell_type": "markdown",
   "metadata": {},
   "source": [
    "## Train test split"
   ]
  },
  {
   "cell_type": "code",
   "execution_count": 29,
   "metadata": {},
   "outputs": [],
   "source": [
    "from sklearn.model_selection import train_test_split\n",
    "x_train,x_test,y_train,y_test=train_test_split(x,y,test_size=0.2)"
   ]
  },
  {
   "cell_type": "code",
   "execution_count": 19,
   "metadata": {},
   "outputs": [
    {
     "data": {
      "text/plain": [
       "((147, 750000), (147,))"
      ]
     },
     "execution_count": 19,
     "metadata": {},
     "output_type": "execute_result"
    }
   ],
   "source": [
    "x_train.shape, y_train.shape"
   ]
  },
  {
   "cell_type": "markdown",
   "metadata": {},
   "source": [
    "## Fitting with SVM "
   ]
  },
  {
   "cell_type": "code",
   "execution_count": 20,
   "metadata": {},
   "outputs": [],
   "source": [
    "from sklearn.svm import SVC\n",
    "svc=SVC(kernel='linear',gamma='auto')"
   ]
  },
  {
   "cell_type": "code",
   "execution_count": 30,
   "metadata": {},
   "outputs": [],
   "source": [
    "history=svc.fit(x_train,y_train)"
   ]
  },
  {
   "cell_type": "code",
   "execution_count": 31,
   "metadata": {},
   "outputs": [],
   "source": [
    "accuracy=svc.score(x_test,y_test)"
   ]
  },
  {
   "cell_type": "code",
   "execution_count": 32,
   "metadata": {
    "scrolled": true
   },
   "outputs": [
    {
     "name": "stdout",
     "output_type": "stream",
     "text": [
      "Accuracy of the classifier:  62.16216216216216\n"
     ]
    }
   ],
   "source": [
    "print('Accuracy of the classifier: ',accuracy*100)"
   ]
  },
  {
   "cell_type": "markdown",
   "metadata": {},
   "source": [
    "## Testing the model"
   ]
  },
  {
   "cell_type": "code",
   "execution_count": 24,
   "metadata": {},
   "outputs": [
    {
     "data": {
      "text/plain": [
       "array([1, 0, 2, 2, 2, 0, 1, 1, 1, 0, 2, 3, 2, 1, 2, 0, 0, 3, 1, 0, 0, 1,\n",
       "       2, 0, 0, 2, 1, 2, 3, 2, 1, 2, 0, 0, 1, 2, 1])"
      ]
     },
     "execution_count": 24,
     "metadata": {},
     "output_type": "execute_result"
    }
   ],
   "source": [
    "predict_y=svc.predict(x_test)\n",
    "predict_y"
   ]
  },
  {
   "cell_type": "code",
   "execution_count": 25,
   "metadata": {
    "scrolled": true
   },
   "outputs": [
    {
     "name": "stdout",
     "output_type": "stream",
     "text": [
      "Accuracy predicted:  0.5405405405405406\n"
     ]
    }
   ],
   "source": [
    "from sklearn.metrics import accuracy_score\n",
    "print('Accuracy predicted: ',accuracy_score(y_test,predict_y))"
   ]
  },
  {
   "cell_type": "markdown",
   "metadata": {},
   "source": [
    "## classification report"
   ]
  },
  {
   "cell_type": "code",
   "execution_count": 26,
   "metadata": {
    "scrolled": true
   },
   "outputs": [
    {
     "name": "stdout",
     "output_type": "stream",
     "text": [
      "Classification report \n",
      "               precision    recall  f1-score   support\n",
      "\n",
      "           0       0.55      0.50      0.52        12\n",
      "           1       0.45      0.62      0.53         8\n",
      "           2       0.58      0.58      0.58        12\n",
      "           3       0.67      0.40      0.50         5\n",
      "\n",
      "    accuracy                           0.54        37\n",
      "   macro avg       0.56      0.53      0.53        37\n",
      "weighted avg       0.55      0.54      0.54        37\n",
      "\n"
     ]
    }
   ],
   "source": [
    "from sklearn.metrics import classification_report\n",
    "print('Classification report \\n',classification_report(y_test,predict_y))"
   ]
  },
  {
   "cell_type": "code",
   "execution_count": 27,
   "metadata": {
    "scrolled": true
   },
   "outputs": [
    {
     "data": {
      "text/html": [
       "<div>\n",
       "<style scoped>\n",
       "    .dataframe tbody tr th:only-of-type {\n",
       "        vertical-align: middle;\n",
       "    }\n",
       "\n",
       "    .dataframe tbody tr th {\n",
       "        vertical-align: top;\n",
       "    }\n",
       "\n",
       "    .dataframe thead th {\n",
       "        text-align: right;\n",
       "    }\n",
       "</style>\n",
       "<table border=\"1\" class=\"dataframe\">\n",
       "  <thead>\n",
       "    <tr style=\"text-align: right;\">\n",
       "      <th></th>\n",
       "      <th>original</th>\n",
       "      <th>predicted</th>\n",
       "    </tr>\n",
       "  </thead>\n",
       "  <tbody>\n",
       "    <tr>\n",
       "      <th>0</th>\n",
       "      <td>0</td>\n",
       "      <td>1</td>\n",
       "    </tr>\n",
       "    <tr>\n",
       "      <th>1</th>\n",
       "      <td>0</td>\n",
       "      <td>0</td>\n",
       "    </tr>\n",
       "    <tr>\n",
       "      <th>2</th>\n",
       "      <td>2</td>\n",
       "      <td>2</td>\n",
       "    </tr>\n",
       "    <tr>\n",
       "      <th>3</th>\n",
       "      <td>2</td>\n",
       "      <td>2</td>\n",
       "    </tr>\n",
       "    <tr>\n",
       "      <th>4</th>\n",
       "      <td>2</td>\n",
       "      <td>2</td>\n",
       "    </tr>\n",
       "    <tr>\n",
       "      <th>5</th>\n",
       "      <td>0</td>\n",
       "      <td>0</td>\n",
       "    </tr>\n",
       "    <tr>\n",
       "      <th>6</th>\n",
       "      <td>0</td>\n",
       "      <td>1</td>\n",
       "    </tr>\n",
       "    <tr>\n",
       "      <th>7</th>\n",
       "      <td>1</td>\n",
       "      <td>1</td>\n",
       "    </tr>\n",
       "    <tr>\n",
       "      <th>8</th>\n",
       "      <td>2</td>\n",
       "      <td>1</td>\n",
       "    </tr>\n",
       "    <tr>\n",
       "      <th>9</th>\n",
       "      <td>2</td>\n",
       "      <td>0</td>\n",
       "    </tr>\n",
       "    <tr>\n",
       "      <th>10</th>\n",
       "      <td>2</td>\n",
       "      <td>2</td>\n",
       "    </tr>\n",
       "    <tr>\n",
       "      <th>11</th>\n",
       "      <td>3</td>\n",
       "      <td>3</td>\n",
       "    </tr>\n",
       "    <tr>\n",
       "      <th>12</th>\n",
       "      <td>1</td>\n",
       "      <td>2</td>\n",
       "    </tr>\n",
       "    <tr>\n",
       "      <th>13</th>\n",
       "      <td>3</td>\n",
       "      <td>1</td>\n",
       "    </tr>\n",
       "    <tr>\n",
       "      <th>14</th>\n",
       "      <td>0</td>\n",
       "      <td>2</td>\n",
       "    </tr>\n",
       "    <tr>\n",
       "      <th>15</th>\n",
       "      <td>0</td>\n",
       "      <td>0</td>\n",
       "    </tr>\n",
       "    <tr>\n",
       "      <th>16</th>\n",
       "      <td>0</td>\n",
       "      <td>0</td>\n",
       "    </tr>\n",
       "    <tr>\n",
       "      <th>17</th>\n",
       "      <td>0</td>\n",
       "      <td>3</td>\n",
       "    </tr>\n",
       "    <tr>\n",
       "      <th>18</th>\n",
       "      <td>1</td>\n",
       "      <td>1</td>\n",
       "    </tr>\n",
       "    <tr>\n",
       "      <th>19</th>\n",
       "      <td>1</td>\n",
       "      <td>0</td>\n",
       "    </tr>\n",
       "    <tr>\n",
       "      <th>20</th>\n",
       "      <td>3</td>\n",
       "      <td>0</td>\n",
       "    </tr>\n",
       "    <tr>\n",
       "      <th>21</th>\n",
       "      <td>2</td>\n",
       "      <td>1</td>\n",
       "    </tr>\n",
       "    <tr>\n",
       "      <th>22</th>\n",
       "      <td>2</td>\n",
       "      <td>2</td>\n",
       "    </tr>\n",
       "    <tr>\n",
       "      <th>23</th>\n",
       "      <td>0</td>\n",
       "      <td>0</td>\n",
       "    </tr>\n",
       "    <tr>\n",
       "      <th>24</th>\n",
       "      <td>0</td>\n",
       "      <td>0</td>\n",
       "    </tr>\n",
       "    <tr>\n",
       "      <th>25</th>\n",
       "      <td>2</td>\n",
       "      <td>2</td>\n",
       "    </tr>\n",
       "    <tr>\n",
       "      <th>26</th>\n",
       "      <td>1</td>\n",
       "      <td>1</td>\n",
       "    </tr>\n",
       "    <tr>\n",
       "      <th>27</th>\n",
       "      <td>0</td>\n",
       "      <td>2</td>\n",
       "    </tr>\n",
       "    <tr>\n",
       "      <th>28</th>\n",
       "      <td>3</td>\n",
       "      <td>3</td>\n",
       "    </tr>\n",
       "    <tr>\n",
       "      <th>29</th>\n",
       "      <td>2</td>\n",
       "      <td>2</td>\n",
       "    </tr>\n",
       "    <tr>\n",
       "      <th>30</th>\n",
       "      <td>1</td>\n",
       "      <td>1</td>\n",
       "    </tr>\n",
       "    <tr>\n",
       "      <th>31</th>\n",
       "      <td>1</td>\n",
       "      <td>2</td>\n",
       "    </tr>\n",
       "    <tr>\n",
       "      <th>32</th>\n",
       "      <td>2</td>\n",
       "      <td>0</td>\n",
       "    </tr>\n",
       "    <tr>\n",
       "      <th>33</th>\n",
       "      <td>2</td>\n",
       "      <td>0</td>\n",
       "    </tr>\n",
       "    <tr>\n",
       "      <th>34</th>\n",
       "      <td>1</td>\n",
       "      <td>1</td>\n",
       "    </tr>\n",
       "    <tr>\n",
       "      <th>35</th>\n",
       "      <td>0</td>\n",
       "      <td>2</td>\n",
       "    </tr>\n",
       "    <tr>\n",
       "      <th>36</th>\n",
       "      <td>3</td>\n",
       "      <td>1</td>\n",
       "    </tr>\n",
       "  </tbody>\n",
       "</table>\n",
       "</div>"
      ],
      "text/plain": [
       "    original  predicted\n",
       "0          0          1\n",
       "1          0          0\n",
       "2          2          2\n",
       "3          2          2\n",
       "4          2          2\n",
       "5          0          0\n",
       "6          0          1\n",
       "7          1          1\n",
       "8          2          1\n",
       "9          2          0\n",
       "10         2          2\n",
       "11         3          3\n",
       "12         1          2\n",
       "13         3          1\n",
       "14         0          2\n",
       "15         0          0\n",
       "16         0          0\n",
       "17         0          3\n",
       "18         1          1\n",
       "19         1          0\n",
       "20         3          0\n",
       "21         2          1\n",
       "22         2          2\n",
       "23         0          0\n",
       "24         0          0\n",
       "25         2          2\n",
       "26         1          1\n",
       "27         0          2\n",
       "28         3          3\n",
       "29         2          2\n",
       "30         1          1\n",
       "31         1          2\n",
       "32         2          0\n",
       "33         2          0\n",
       "34         1          1\n",
       "35         0          2\n",
       "36         3          1"
      ]
     },
     "execution_count": 27,
     "metadata": {},
     "output_type": "execute_result"
    }
   ],
   "source": [
    "import pandas as pd\n",
    "result=pd.DataFrame({'original':y_test, 'predicted':predict_y})\n",
    "result"
   ]
  },
  {
   "cell_type": "code",
   "execution_count": 28,
   "metadata": {},
   "outputs": [],
   "source": [
    "from mlxtend.plotting import plot_decision_regions\n",
    "#plot_decision_regions(X=x,y=y,clf=svc)\n",
    "#plt.plot(x,y)"
   ]
  }
 ],
 "metadata": {
  "kernelspec": {
   "display_name": "Python 3",
   "language": "python",
   "name": "python3"
  },
  "language_info": {
   "codemirror_mode": {
    "name": "ipython",
    "version": 3
   },
   "file_extension": ".py",
   "mimetype": "text/x-python",
   "name": "python",
   "nbconvert_exporter": "python",
   "pygments_lexer": "ipython3",
   "version": "3.8.5"
  }
 },
 "nbformat": 4,
 "nbformat_minor": 4
}
