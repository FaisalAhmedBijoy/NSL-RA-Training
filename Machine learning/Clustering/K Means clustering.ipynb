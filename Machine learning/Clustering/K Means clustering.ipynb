{
 "cells": [
  {
   "cell_type": "code",
   "execution_count": 1,
   "metadata": {},
   "outputs": [
    {
     "name": "stdout",
     "output_type": "stream",
     "text": [
      "K Means Clustering\n"
     ]
    }
   ],
   "source": [
    "print(\"K Means Clustering\")"
   ]
  },
  {
   "cell_type": "code",
   "execution_count": 12,
   "metadata": {},
   "outputs": [],
   "source": [
    "from sklearn.datasets import make_blobs\n",
    "x,y=make_blobs(n_samples=150,n_features=2,cluster_std=0.5,centers=3,shuffle=True,random_state=0)"
   ]
  },
  {
   "cell_type": "code",
   "execution_count": 99,
   "metadata": {},
   "outputs": [
    {
     "data": {
      "text/plain": [
       "array([1, 0, 0, 0, 1, 0, 0, 1, 2, 0, 1, 2, 2, 0, 0, 2, 2, 1, 2, 1, 0, 1,\n",
       "       0, 0, 2, 1, 1, 0, 2, 1, 2, 2, 2, 2, 0, 1, 1, 1, 0, 0, 2, 2, 0, 1,\n",
       "       1, 1, 2, 0, 2, 0, 1, 0, 0, 1, 1, 2, 0, 1, 2, 0, 2, 2, 2, 2, 0, 2,\n",
       "       0, 1, 0, 0, 0, 1, 1, 0, 1, 0, 0, 2, 2, 0, 1, 1, 0, 0, 1, 1, 1, 2,\n",
       "       2, 1, 1, 0, 1, 0, 1, 0, 2, 2, 1, 1, 1, 1, 2, 1, 1, 0, 2, 0, 0, 0,\n",
       "       2, 0, 1, 2, 0, 2, 0, 0, 2, 2, 0, 1, 0, 0, 1, 1, 2, 1, 2, 2, 2, 2,\n",
       "       1, 2, 2, 2, 0, 2, 1, 2, 0, 0, 1, 1, 2, 2, 2, 2, 1, 1])"
      ]
     },
     "execution_count": 99,
     "metadata": {},
     "output_type": "execute_result"
    }
   ],
   "source": [
    "y"
   ]
  },
  {
   "cell_type": "code",
   "execution_count": 102,
   "metadata": {},
   "outputs": [
    {
     "data": {
      "text/plain": [
       "array([[ 2.60509732,  1.22529553],\n",
       "       [ 0.5323772 ,  3.31338909],\n",
       "       [ 0.802314  ,  4.38196181],\n",
       "       [ 0.5285368 ,  4.49723858],\n",
       "       [ 2.61858548,  0.35769791],\n",
       "       [ 1.59141542,  4.90497725],\n",
       "       [ 1.74265969,  5.03846671],\n",
       "       [ 2.37533328,  0.08918564],\n",
       "       [-2.12133364,  2.66447408],\n",
       "       [ 1.72039618,  5.25173192],\n",
       "       [ 3.1368855 ,  1.56592763],\n",
       "       [-0.37494566,  2.38787435],\n",
       "       [-1.84562253,  2.71924635],\n",
       "       [ 0.72144399,  4.08475018],\n",
       "       [ 0.16117091,  4.53517846],\n",
       "       [-1.99912714,  2.71285741],\n",
       "       [-1.47804153,  3.2093591 ],\n",
       "       [ 1.8706766 ,  0.77797407],\n",
       "       [-1.5933443 ,  2.76898682],\n",
       "       [ 2.03562611,  0.31361691],\n",
       "       [ 0.64003985,  4.12401075],\n",
       "       [ 2.4411628 ,  1.30941574],\n",
       "       [ 1.13280393,  3.87673946],\n",
       "       [ 1.04829186,  5.03092408],\n",
       "       [-1.26637157,  2.62998828],\n",
       "       [ 2.31690585,  0.81189049],\n",
       "       [ 2.36230721,  1.358767  ],\n",
       "       [ 1.2091013 ,  3.53566548],\n",
       "       [-2.54224625,  3.95012869],\n",
       "       [ 1.4815332 ,  0.67875364],\n",
       "       [-1.59487886,  3.48632794],\n",
       "       [-1.82556205,  2.7989214 ],\n",
       "       [-1.13374003,  2.68467271],\n",
       "       [-1.758702  ,  3.158623  ],\n",
       "       [ 0.3498724 ,  4.69253251],\n",
       "       [ 1.68548602,  1.66917096],\n",
       "       [ 2.989047  ,  1.35068599],\n",
       "       [ 1.73734448,  1.23588031],\n",
       "       [ 0.65910903,  4.12241674],\n",
       "       [ 1.15445328,  4.65707391],\n",
       "       [-1.32738084,  1.53158588],\n",
       "       [-1.6814105 ,  2.07988036],\n",
       "       [ 0.34102758,  4.78848568],\n",
       "       [ 1.87827057,  0.21018801],\n",
       "       [ 2.13860427,  1.21517938],\n",
       "       [ 2.48368283,  0.57215086],\n",
       "       [-1.18113464,  3.26525683],\n",
       "       [ 2.11114739,  3.57660449],\n",
       "       [-1.19371247,  2.68752237],\n",
       "       [ 1.45131429,  4.22810872],\n",
       "       [ 1.83769075,  1.82229552],\n",
       "       [ 0.44089377,  4.83101319],\n",
       "       [ 1.08040757,  4.79210685],\n",
       "       [ 1.84845803,  0.52393625],\n",
       "       [ 2.3914149 ,  1.10139458],\n",
       "       [-1.44865074,  3.03397278],\n",
       "       [ 0.72086751,  3.71347124],\n",
       "       [ 3.01673853,  1.63792106],\n",
       "       [-1.18199493,  3.56880538],\n",
       "       [ 1.34081536,  4.36827878],\n",
       "       [-2.31837321,  3.22307195],\n",
       "       [-0.54894786,  3.11292892],\n",
       "       [-1.6823471 ,  2.96658234],\n",
       "       [-1.53541422,  3.10745813],\n",
       "       [ 1.06498315,  4.10289686],\n",
       "       [-0.39724954,  2.89675369],\n",
       "       [ 1.03972612,  4.50478201],\n",
       "       [ 1.62465468,  1.85269614],\n",
       "       [-0.30022483,  4.63059663],\n",
       "       [ 0.12313498,  5.27917503],\n",
       "       [ 1.54597042,  3.68637442],\n",
       "       [ 1.44254976,  1.31984515],\n",
       "       [ 2.52889351,  0.82015861],\n",
       "       [ 0.38970838,  5.27559792],\n",
       "       [ 1.5381461 ,  1.23846092],\n",
       "       [ 0.82049381,  4.33187   ],\n",
       "       [ 1.56565986,  4.21382491],\n",
       "       [-1.93358614,  2.1846701 ],\n",
       "       [-1.38373217,  3.22230418],\n",
       "       [ 0.96217896,  4.51795326],\n",
       "       [ 1.71810119,  0.91357894],\n",
       "       [ 1.65356269,  0.55288877],\n",
       "       [ 0.4519936 ,  3.59377836],\n",
       "       [ 1.19820169,  4.47062449],\n",
       "       [ 2.20438661,  1.56085661],\n",
       "       [ 3.24683991,  1.3699034 ],\n",
       "       [ 2.51569693,  1.05702749],\n",
       "       [-1.79833475,  3.12590728],\n",
       "       [-2.0495307 ,  3.52345491],\n",
       "       [ 2.36788325,  0.09663483],\n",
       "       [ 2.24348029,  0.34796326],\n",
       "       [ 0.99914934,  4.2101954 ],\n",
       "       [ 1.30963873,  1.11735951],\n",
       "       [ 0.77468161,  4.91500986],\n",
       "       [ 1.70798359,  0.82284639],\n",
       "       [ 1.91784543,  3.6299078 ],\n",
       "       [-2.00487651,  2.74489137],\n",
       "       [-2.10499523,  3.30848131],\n",
       "       [ 1.39731382,  0.66687136],\n",
       "       [ 2.02114672,  1.75433502],\n",
       "       [ 1.67030948,  1.16728826],\n",
       "       [ 2.52997792,  0.94143928],\n",
       "       [-2.18016744,  3.7469476 ],\n",
       "       [ 2.00604126,  0.56592452],\n",
       "       [ 1.50307585,  0.9237462 ],\n",
       "       [ 1.05374379,  4.49286859],\n",
       "       [-1.72662853,  3.10291021],\n",
       "       [ 1.72330962,  4.2012082 ],\n",
       "       [ 0.92466065,  4.50908658],\n",
       "       [ 0.39369516,  4.75420057],\n",
       "       [-1.31377465,  3.25633628],\n",
       "       [ 0.78260667,  4.15263595],\n",
       "       [ 1.82750127,  0.90640324],\n",
       "       [-1.2649585 ,  2.9620933 ],\n",
       "       [ 0.98152009,  5.19672257],\n",
       "       [-2.49504392,  3.01227156],\n",
       "       [ 1.00952869,  4.45502328],\n",
       "       [ 1.40848818,  3.93270482],\n",
       "       [-1.28003312,  2.85983029],\n",
       "       [-1.82506103,  2.89159861],\n",
       "       [ 0.5408715 ,  4.0143625 ],\n",
       "       [ 2.64928242,  1.05613497],\n",
       "       [ 0.5226209 ,  4.32976003],\n",
       "       [ 0.16932115,  4.19741719],\n",
       "       [ 1.8062513 ,  1.86242969],\n",
       "       [ 1.92126584,  1.29889186],\n",
       "       [-1.53906708,  2.54886681],\n",
       "       [ 1.68289011,  0.48444439],\n",
       "       [-2.29730252,  2.94951326],\n",
       "       [-1.45592743,  2.75821805],\n",
       "       [-1.38694171,  2.86880707],\n",
       "       [-1.07181456,  3.07649137],\n",
       "       [ 1.40883907,  1.03118909],\n",
       "       [-1.58598604,  2.57779316],\n",
       "       [-1.58217434,  3.42796862],\n",
       "       [-0.77966174,  1.88288975],\n",
       "       [ 0.56969694,  3.44064603],\n",
       "       [-1.8531083 ,  2.72240557],\n",
       "       [ 1.59885641,  1.4561718 ],\n",
       "       [-1.84094779,  2.6773687 ],\n",
       "       [ 1.35678894,  4.36462484],\n",
       "       [ 1.1774409 ,  3.96138228],\n",
       "       [ 1.73345832, -0.21403792],\n",
       "       [ 2.34356293,  0.79351428],\n",
       "       [-0.95073823,  3.45769156],\n",
       "       [-2.23893447,  2.67122232],\n",
       "       [-1.87292894,  3.68607079],\n",
       "       [-1.8897027 ,  2.22620028],\n",
       "       [ 2.25327088,  0.35113291],\n",
       "       [ 1.55515985,  0.12527811]])"
      ]
     },
     "execution_count": 102,
     "metadata": {},
     "output_type": "execute_result"
    }
   ],
   "source": [
    "x"
   ]
  },
  {
   "cell_type": "code",
   "execution_count": null,
   "metadata": {},
   "outputs": [],
   "source": []
  },
  {
   "cell_type": "code",
   "execution_count": 103,
   "metadata": {
    "scrolled": true
   },
   "outputs": [
    {
     "data": {
      "image/png": "[encoded data removed]",
      "text/plain": [
       "<Figure size 432x288 with 1 Axes>"
      ]
     },
     "metadata": {
      "needs_background": "light"
     },
     "output_type": "display_data"
    }
   ],
   "source": [
    "import matplotlib.pyplot as plt \n",
    "plt.scatter(x[:,0],x[:,1],s=50)\n",
    "plt.grid()\n",
    "plt.show()"
   ]
  },
  {
   "cell_type": "code",
   "execution_count": 22,
   "metadata": {},
   "outputs": [
    {
     "data": {
      "text/plain": [
       "KMeans(algorithm='auto', copy_x=True, init='random', max_iter=300, n_clusters=3,\n",
       "       n_init=10, n_jobs=None, precompute_distances='auto', random_state=0,\n",
       "       tol=0.0001, verbose=0)"
      ]
     },
     "execution_count": 22,
     "metadata": {},
     "output_type": "execute_result"
    }
   ],
   "source": [
    "from sklearn.cluster import KMeans\n",
    "km=KMeans(n_clusters=3,init='random',n_init=10,max_iter=300,random_state=0 )\n",
    "km"
   ]
  },
  {
   "cell_type": "code",
   "execution_count": 23,
   "metadata": {},
   "outputs": [],
   "source": [
    "y_km=km.fit_predict(x)"
   ]
  },
  {
   "cell_type": "code",
   "execution_count": 24,
   "metadata": {
    "scrolled": true
   },
   "outputs": [
    {
     "data": {
      "text/plain": [
       "array([1, 0, 0, 0, 1, 0, 0, 1, 2, 0, 1, 2, 2, 0, 0, 2, 2, 1, 2, 1, 0, 1,\n",
       "       0, 0, 2, 1, 1, 0, 2, 1, 2, 2, 2, 2, 0, 1, 1, 1, 0, 0, 2, 2, 0, 1,\n",
       "       1, 1, 2, 0, 2, 0, 1, 0, 0, 1, 1, 2, 0, 1, 2, 0, 2, 2, 2, 2, 0, 2,\n",
       "       0, 1, 0, 0, 0, 1, 1, 0, 1, 0, 0, 2, 2, 0, 1, 1, 0, 0, 1, 1, 1, 2,\n",
       "       2, 1, 1, 0, 1, 0, 1, 0, 2, 2, 1, 1, 1, 1, 2, 1, 1, 0, 2, 0, 0, 0,\n",
       "       2, 0, 1, 2, 0, 2, 0, 0, 2, 2, 0, 1, 0, 0, 1, 1, 2, 1, 2, 2, 2, 2,\n",
       "       1, 2, 2, 2, 0, 2, 1, 2, 0, 0, 1, 1, 2, 2, 2, 2, 1, 1])"
      ]
     },
     "execution_count": 24,
     "metadata": {},
     "output_type": "execute_result"
    }
   ],
   "source": [
    "y_km"
   ]
  },
  {
   "cell_type": "code",
   "execution_count": 69,
   "metadata": {},
   "outputs": [
    {
     "data": {
      "text/plain": [
       "0.816496580927726"
      ]
     },
     "execution_count": 69,
     "metadata": {},
     "output_type": "execute_result"
    }
   ],
   "source": [
    "y_km.std()"
   ]
  },
  {
   "cell_type": "code",
   "execution_count": 49,
   "metadata": {},
   "outputs": [
    {
     "data": {
      "text/plain": [
       "array([2.60509732, 1.22529553])"
      ]
     },
     "execution_count": 49,
     "metadata": {},
     "output_type": "execute_result"
    }
   ],
   "source": [
    "x[0]"
   ]
  },
  {
   "cell_type": "code",
   "execution_count": 34,
   "metadata": {},
   "outputs": [
    {
     "data": {
      "text/plain": [
       "array([ 2.60509732,  0.5323772 ,  0.802314  ,  0.5285368 ,  2.61858548,\n",
       "        1.59141542,  1.74265969,  2.37533328, -2.12133364,  1.72039618,\n",
       "        3.1368855 , -0.37494566, -1.84562253,  0.72144399,  0.16117091,\n",
       "       -1.99912714, -1.47804153,  1.8706766 , -1.5933443 ,  2.03562611,\n",
       "        0.64003985,  2.4411628 ,  1.13280393,  1.04829186, -1.26637157,\n",
       "        2.31690585,  2.36230721,  1.2091013 , -2.54224625,  1.4815332 ,\n",
       "       -1.59487886, -1.82556205, -1.13374003, -1.758702  ,  0.3498724 ,\n",
       "        1.68548602,  2.989047  ,  1.73734448,  0.65910903,  1.15445328,\n",
       "       -1.32738084, -1.6814105 ,  0.34102758,  1.87827057,  2.13860427,\n",
       "        2.48368283, -1.18113464,  2.11114739, -1.19371247,  1.45131429,\n",
       "        1.83769075,  0.44089377,  1.08040757,  1.84845803,  2.3914149 ,\n",
       "       -1.44865074,  0.72086751,  3.01673853, -1.18199493,  1.34081536,\n",
       "       -2.31837321, -0.54894786, -1.6823471 , -1.53541422,  1.06498315,\n",
       "       -0.39724954,  1.03972612,  1.62465468, -0.30022483,  0.12313498,\n",
       "        1.54597042,  1.44254976,  2.52889351,  0.38970838,  1.5381461 ,\n",
       "        0.82049381,  1.56565986, -1.93358614, -1.38373217,  0.96217896,\n",
       "        1.71810119,  1.65356269,  0.4519936 ,  1.19820169,  2.20438661,\n",
       "        3.24683991,  2.51569693, -1.79833475, -2.0495307 ,  2.36788325,\n",
       "        2.24348029,  0.99914934,  1.30963873,  0.77468161,  1.70798359,\n",
       "        1.91784543, -2.00487651, -2.10499523,  1.39731382,  2.02114672,\n",
       "        1.67030948,  2.52997792, -2.18016744,  2.00604126,  1.50307585,\n",
       "        1.05374379, -1.72662853,  1.72330962,  0.92466065,  0.39369516,\n",
       "       -1.31377465,  0.78260667,  1.82750127, -1.2649585 ,  0.98152009,\n",
       "       -2.49504392,  1.00952869,  1.40848818, -1.28003312, -1.82506103,\n",
       "        0.5408715 ,  2.64928242,  0.5226209 ,  0.16932115,  1.8062513 ,\n",
       "        1.92126584, -1.53906708,  1.68289011, -2.29730252, -1.45592743,\n",
       "       -1.38694171, -1.07181456,  1.40883907, -1.58598604, -1.58217434,\n",
       "       -0.77966174,  0.56969694, -1.8531083 ,  1.59885641, -1.84094779,\n",
       "        1.35678894,  1.1774409 ,  1.73345832,  2.34356293, -0.95073823,\n",
       "       -2.23893447, -1.87292894, -1.8897027 ,  2.25327088,  1.55515985])"
      ]
     },
     "execution_count": 34,
     "metadata": {},
     "output_type": "execute_result"
    }
   ],
   "source": [
    "x[:,0]"
   ]
  },
  {
   "cell_type": "code",
   "execution_count": 35,
   "metadata": {},
   "outputs": [
    {
     "data": {
      "text/plain": [
       "array([ 1.22529553,  3.31338909,  4.38196181,  4.49723858,  0.35769791,\n",
       "        4.90497725,  5.03846671,  0.08918564,  2.66447408,  5.25173192,\n",
       "        1.56592763,  2.38787435,  2.71924635,  4.08475018,  4.53517846,\n",
       "        2.71285741,  3.2093591 ,  0.77797407,  2.76898682,  0.31361691,\n",
       "        4.12401075,  1.30941574,  3.87673946,  5.03092408,  2.62998828,\n",
       "        0.81189049,  1.358767  ,  3.53566548,  3.95012869,  0.67875364,\n",
       "        3.48632794,  2.7989214 ,  2.68467271,  3.158623  ,  4.69253251,\n",
       "        1.66917096,  1.35068599,  1.23588031,  4.12241674,  4.65707391,\n",
       "        1.53158588,  2.07988036,  4.78848568,  0.21018801,  1.21517938,\n",
       "        0.57215086,  3.26525683,  3.57660449,  2.68752237,  4.22810872,\n",
       "        1.82229552,  4.83101319,  4.79210685,  0.52393625,  1.10139458,\n",
       "        3.03397278,  3.71347124,  1.63792106,  3.56880538,  4.36827878,\n",
       "        3.22307195,  3.11292892,  2.96658234,  3.10745813,  4.10289686,\n",
       "        2.89675369,  4.50478201,  1.85269614,  4.63059663,  5.27917503,\n",
       "        3.68637442,  1.31984515,  0.82015861,  5.27559792,  1.23846092,\n",
       "        4.33187   ,  4.21382491,  2.1846701 ,  3.22230418,  4.51795326,\n",
       "        0.91357894,  0.55288877,  3.59377836,  4.47062449,  1.56085661,\n",
       "        1.3699034 ,  1.05702749,  3.12590728,  3.52345491,  0.09663483,\n",
       "        0.34796326,  4.2101954 ,  1.11735951,  4.91500986,  0.82284639,\n",
       "        3.6299078 ,  2.74489137,  3.30848131,  0.66687136,  1.75433502,\n",
       "        1.16728826,  0.94143928,  3.7469476 ,  0.56592452,  0.9237462 ,\n",
       "        4.49286859,  3.10291021,  4.2012082 ,  4.50908658,  4.75420057,\n",
       "        3.25633628,  4.15263595,  0.90640324,  2.9620933 ,  5.19672257,\n",
       "        3.01227156,  4.45502328,  3.93270482,  2.85983029,  2.89159861,\n",
       "        4.0143625 ,  1.05613497,  4.32976003,  4.19741719,  1.86242969,\n",
       "        1.29889186,  2.54886681,  0.48444439,  2.94951326,  2.75821805,\n",
       "        2.86880707,  3.07649137,  1.03118909,  2.57779316,  3.42796862,\n",
       "        1.88288975,  3.44064603,  2.72240557,  1.4561718 ,  2.6773687 ,\n",
       "        4.36462484,  3.96138228, -0.21403792,  0.79351428,  3.45769156,\n",
       "        2.67122232,  3.68607079,  2.22620028,  0.35113291,  0.12527811])"
      ]
     },
     "execution_count": 35,
     "metadata": {},
     "output_type": "execute_result"
    }
   ],
   "source": [
    "x[:,1]"
   ]
  },
  {
   "cell_type": "code",
   "execution_count": 51,
   "metadata": {},
   "outputs": [
    {
     "data": {
      "text/plain": [
       "<matplotlib.collections.PathCollection at 0x1a437baa9b0>"
      ]
     },
     "execution_count": 51,
     "metadata": {},
     "output_type": "execute_result"
    },
    {
     "data": {
      "image/png": "[encoded data removed]",
      "text/plain": [
       "<Figure size 432x288 with 1 Axes>"
      ]
     },
     "metadata": {
      "needs_background": "light"
     },
     "output_type": "display_data"
    }
   ],
   "source": [
    "plt.scatter(x[:,0],x[:,1])"
   ]
  },
  {
   "cell_type": "code",
   "execution_count": 83,
   "metadata": {
    "scrolled": true
   },
   "outputs": [
    {
     "data": {
      "image/png": "[encoded data removed]",
      "text/plain": [
       "<Figure size 432x288 with 1 Axes>"
      ]
     },
     "metadata": {
      "needs_background": "light"
     },
     "output_type": "display_data"
    }
   ],
   "source": [
    "plt.scatter(x[y_km==0,0],x[y_km==0,1],s=50,c='lightgreen',marker='s',label='cluster 1')\n",
    "plt.scatter(x[y_km==1,0],x[y_km==1,1],s=50,c='orange',marker='o',label='cluster 2')\n",
    "plt.scatter(x[y_km==2,0],x[y_km==2,1],s=50,c='lightblue',marker='v',label='cluster 3')\n",
    "plt.scatter(km.cluster_centers_[:,0],km.cluster_centers_[:,1],s=250,marker='*',c='red',label='centroids')\n",
    "plt.legend()\n",
    "plt.grid()\n",
    "plt.show()"
   ]
  },
  {
   "cell_type": "code",
   "execution_count": 124,
   "metadata": {},
   "outputs": [
    {
     "data": {
      "text/plain": [
       "array([[ 0.9329651 ,  4.35420712],\n",
       "       [ 2.06521743,  0.96137409],\n",
       "       [-1.5947298 ,  2.92236966]])"
      ]
     },
     "execution_count": 124,
     "metadata": {},
     "output_type": "execute_result"
    }
   ],
   "source": [
    "km.cluster_centers_"
   ]
  },
  {
   "cell_type": "code",
   "execution_count": 85,
   "metadata": {},
   "outputs": [
    {
     "data": {
      "text/plain": [
       "array([ 0.5323772 ,  0.802314  ,  0.5285368 ,  1.59141542,  1.74265969,\n",
       "        1.72039618,  0.72144399,  0.16117091,  0.64003985,  1.13280393,\n",
       "        1.04829186,  1.2091013 ,  0.3498724 ,  0.65910903,  1.15445328,\n",
       "        0.34102758,  2.11114739,  1.45131429,  0.44089377,  1.08040757,\n",
       "        0.72086751,  1.34081536,  1.06498315,  1.03972612, -0.30022483,\n",
       "        0.12313498,  1.54597042,  0.38970838,  0.82049381,  1.56565986,\n",
       "        0.96217896,  0.4519936 ,  1.19820169,  0.99914934,  0.77468161,\n",
       "        1.91784543,  1.05374379,  1.72330962,  0.92466065,  0.39369516,\n",
       "        0.78260667,  0.98152009,  1.00952869,  1.40848818,  0.5408715 ,\n",
       "        0.5226209 ,  0.16932115,  0.56969694,  1.35678894,  1.1774409 ])"
      ]
     },
     "execution_count": 85,
     "metadata": {},
     "output_type": "execute_result"
    }
   ],
   "source": [
    "x[y_km==0,0]"
   ]
  },
  {
   "cell_type": "code",
   "execution_count": 80,
   "metadata": {},
   "outputs": [
    {
     "data": {
      "text/plain": [
       "(array([False, False, False, False, False, False, False, False,  True,\n",
       "        False, False,  True,  True, False, False,  True,  True, False,\n",
       "         True, False, False, False, False, False,  True, False, False,\n",
       "        False,  True, False,  True,  True,  True,  True, False, False,\n",
       "        False, False, False, False,  True,  True, False, False, False,\n",
       "        False,  True, False,  True, False, False, False, False, False,\n",
       "        False,  True, False, False,  True, False,  True,  True,  True,\n",
       "         True, False,  True, False, False, False, False, False, False,\n",
       "        False, False, False, False, False,  True,  True, False, False,\n",
       "        False, False, False, False, False, False,  True,  True, False,\n",
       "        False, False, False, False, False, False,  True,  True, False,\n",
       "        False, False, False,  True, False, False, False,  True, False,\n",
       "        False, False,  True, False, False,  True, False,  True, False,\n",
       "        False,  True,  True, False, False, False, False, False, False,\n",
       "         True, False,  True,  True,  True,  True, False,  True,  True,\n",
       "         True, False,  True, False,  True, False, False, False, False,\n",
       "         True,  True,  True,  True, False, False]), 2)"
      ]
     },
     "execution_count": 80,
     "metadata": {},
     "output_type": "execute_result"
    }
   ],
   "source": [
    "y_km==2 ,2"
   ]
  },
  {
   "cell_type": "code",
   "execution_count": 123,
   "metadata": {},
   "outputs": [
    {
     "data": {
      "text/plain": [
       "array([3.31338909, 4.38196181, 4.49723858, 4.90497725, 5.03846671,\n",
       "       5.25173192, 4.08475018, 4.53517846, 4.12401075, 3.87673946,\n",
       "       5.03092408, 3.53566548, 4.69253251, 4.12241674, 4.65707391,\n",
       "       4.78848568, 3.57660449, 4.22810872, 4.83101319, 4.79210685,\n",
       "       3.71347124, 4.36827878, 4.10289686, 4.50478201, 4.63059663,\n",
       "       5.27917503, 3.68637442, 5.27559792, 4.33187   , 4.21382491,\n",
       "       4.51795326, 3.59377836, 4.47062449, 4.2101954 , 4.91500986,\n",
       "       3.6299078 , 4.49286859, 4.2012082 , 4.50908658, 4.75420057,\n",
       "       4.15263595, 5.19672257, 4.45502328, 3.93270482, 4.0143625 ,\n",
       "       4.32976003, 4.19741719, 3.44064603, 4.36462484, 3.96138228])"
      ]
     },
     "execution_count": 123,
     "metadata": {},
     "output_type": "execute_result"
    }
   ],
   "source": [
    "x[y_km==0,1]"
   ]
  },
  {
   "cell_type": "code",
   "execution_count": 114,
   "metadata": {},
   "outputs": [
    {
     "data": {
      "text/plain": [
       "array([ True,  True,  True,  True,  True,  True,  True,  True,  True,\n",
       "        True,  True,  True,  True,  True,  True,  True,  True,  True,\n",
       "        True,  True,  True,  True,  True,  True,  True,  True,  True,\n",
       "        True,  True,  True,  True,  True,  True,  True,  True,  True,\n",
       "        True,  True,  True,  True,  True,  True,  True,  True,  True,\n",
       "        True,  True,  True,  True,  True,  True,  True,  True,  True,\n",
       "        True,  True,  True,  True,  True,  True,  True,  True,  True,\n",
       "        True,  True,  True,  True,  True,  True,  True,  True,  True,\n",
       "        True,  True,  True,  True,  True,  True,  True,  True,  True,\n",
       "        True,  True,  True,  True,  True,  True,  True,  True,  True,\n",
       "        True,  True,  True,  True,  True,  True,  True,  True,  True,\n",
       "        True,  True,  True,  True,  True,  True,  True,  True,  True,\n",
       "        True,  True,  True,  True,  True,  True,  True,  True,  True,\n",
       "        True,  True,  True,  True,  True,  True,  True,  True,  True,\n",
       "        True,  True,  True,  True,  True,  True,  True,  True,  True,\n",
       "        True,  True,  True,  True,  True,  True,  True,  True,  True,\n",
       "        True,  True,  True,  True,  True,  True])"
      ]
     },
     "execution_count": 114,
     "metadata": {},
     "output_type": "execute_result"
    }
   ],
   "source": [
    "y==y_km"
   ]
  },
  {
   "cell_type": "code",
   "execution_count": 119,
   "metadata": {},
   "outputs": [
    {
     "data": {
      "text/plain": [
       "array([[3.1368855 , 1.56592763]])"
      ]
     },
     "execution_count": 119,
     "metadata": {},
     "output_type": "execute_result"
    }
   ],
   "source": [
    "x[True,10]"
   ]
  },
  {
   "cell_type": "code",
   "execution_count": 97,
   "metadata": {},
   "outputs": [
    {
     "data": {
      "text/plain": [
       "array([3.31338909, 4.38196181, 4.49723858, 4.90497725, 5.03846671,\n",
       "       5.25173192, 4.08475018, 4.53517846, 4.12401075, 3.87673946,\n",
       "       5.03092408, 3.53566548, 4.69253251, 4.12241674, 4.65707391,\n",
       "       4.78848568, 3.57660449, 4.22810872, 4.83101319, 4.79210685,\n",
       "       3.71347124, 4.36827878, 4.10289686, 4.50478201, 4.63059663,\n",
       "       5.27917503, 3.68637442, 5.27559792, 4.33187   , 4.21382491,\n",
       "       4.51795326, 3.59377836, 4.47062449, 4.2101954 , 4.91500986,\n",
       "       3.6299078 , 4.49286859, 4.2012082 , 4.50908658, 4.75420057,\n",
       "       4.15263595, 5.19672257, 4.45502328, 3.93270482, 4.0143625 ,\n",
       "       4.32976003, 4.19741719, 3.44064603, 4.36462484, 3.96138228])"
      ]
     },
     "execution_count": 97,
     "metadata": {},
     "output_type": "execute_result"
    }
   ],
   "source": [
    "x[y_km==0,1]"
   ]
  },
  {
   "cell_type": "code",
   "execution_count": 125,
   "metadata": {},
   "outputs": [
    {
     "name": "stdout",
     "output_type": "stream",
     "text": [
      "Make some exercise\n"
     ]
    }
   ],
   "source": [
    "print(\"Make some exercise\")"
   ]
  },
  {
   "cell_type": "code",
   "execution_count": 126,
   "metadata": {},
   "outputs": [],
   "source": [
    "x,y=make_blobs()"
   ]
  },
  {
   "cell_type": "code",
   "execution_count": 130,
   "metadata": {},
   "outputs": [
    {
     "data": {
      "image/png": "[encoded data removed]",
      "text/plain": [
       "<Figure size 432x288 with 1 Axes>"
      ]
     },
     "metadata": {
      "needs_background": "light"
     },
     "output_type": "display_data"
    }
   ],
   "source": [
    "plt.scatter(x[:,0],x[:,1])\n",
    "plt.grid()\n",
    "plt.show()"
   ]
  },
  {
   "cell_type": "code",
   "execution_count": 135,
   "metadata": {},
   "outputs": [],
   "source": [
    "km=KMeans(n_clusters=3)"
   ]
  },
  {
   "cell_type": "code",
   "execution_count": 138,
   "metadata": {},
   "outputs": [
    {
     "data": {
      "text/plain": [
       "KMeans(algorithm='auto', copy_x=True, init='k-means++', max_iter=300,\n",
       "       n_clusters=3, n_init=10, n_jobs=None, precompute_distances='auto',\n",
       "       random_state=None, tol=0.0001, verbose=0)"
      ]
     },
     "execution_count": 138,
     "metadata": {},
     "output_type": "execute_result"
    }
   ],
   "source": [
    "km"
   ]
  },
  {
   "cell_type": "code",
   "execution_count": 136,
   "metadata": {},
   "outputs": [],
   "source": [
    "y_km=km.fit_predict(x)"
   ]
  },
  {
   "cell_type": "code",
   "execution_count": 137,
   "metadata": {
    "scrolled": true
   },
   "outputs": [
    {
     "data": {
      "image/png": "[encoded data removed]",
      "text/plain": [
       "<Figure size 432x288 with 1 Axes>"
      ]
     },
     "metadata": {
      "needs_background": "light"
     },
     "output_type": "display_data"
    }
   ],
   "source": [
    "plt.scatter(x[y_km==0,0],x[y_km==0,1],s=50,c='lightgreen',marker='s',label='cluster 1')\n",
    "plt.scatter(x[y_km==1,0],x[y_km==1,1],s=50,c='orange',marker='o',label='cluster 2')\n",
    "plt.scatter(x[y_km==2,0],x[y_km==2,1],s=50,c='lightblue',marker='v',label='cluster 3')\n",
    "plt.scatter(km.cluster_centers_[:,0],km.cluster_centers_[:,1],s=250,marker='*',c='red',label='centroids')\n",
    "plt.legend()\n",
    "plt.grid()\n",
    "plt.show()"
   ]
  },
  {
   "cell_type": "code",
   "execution_count": 139,
   "metadata": {},
   "outputs": [
    {
     "name": "stdout",
     "output_type": "stream",
     "text": [
      "Experiment with the K Means\n"
     ]
    }
   ],
   "source": [
    "print(\"Experiment with the K Means\")"
   ]
  },
  {
   "cell_type": "code",
   "execution_count": 140,
   "metadata": {},
   "outputs": [
    {
     "data": {
      "text/html": [
       "<div>\n",
       "<style scoped>\n",
       "    .dataframe tbody tr th:only-of-type {\n",
       "        vertical-align: middle;\n",
       "    }\n",
       "\n",
       "    .dataframe tbody tr th {\n",
       "        vertical-align: top;\n",
       "    }\n",
       "\n",
       "    .dataframe thead th {\n",
       "        text-align: right;\n",
       "    }\n",
       "</style>\n",
       "<table border=\"1\" class=\"dataframe\">\n",
       "  <thead>\n",
       "    <tr style=\"text-align: right;\">\n",
       "      <th></th>\n",
       "      <th>x1</th>\n",
       "      <th>x2</th>\n",
       "      <th>y</th>\n",
       "    </tr>\n",
       "  </thead>\n",
       "  <tbody>\n",
       "    <tr>\n",
       "      <th>0</th>\n",
       "      <td>0.24539</td>\n",
       "      <td>0.81725</td>\n",
       "      <td>0</td>\n",
       "    </tr>\n",
       "    <tr>\n",
       "      <th>1</th>\n",
       "      <td>0.21774</td>\n",
       "      <td>0.76462</td>\n",
       "      <td>0</td>\n",
       "    </tr>\n",
       "    <tr>\n",
       "      <th>2</th>\n",
       "      <td>0.20161</td>\n",
       "      <td>0.69737</td>\n",
       "      <td>0</td>\n",
       "    </tr>\n",
       "    <tr>\n",
       "      <th>3</th>\n",
       "      <td>0.20161</td>\n",
       "      <td>0.58041</td>\n",
       "      <td>0</td>\n",
       "    </tr>\n",
       "    <tr>\n",
       "      <th>4</th>\n",
       "      <td>0.24770</td>\n",
       "      <td>0.49561</td>\n",
       "      <td>0</td>\n",
       "    </tr>\n",
       "  </tbody>\n",
       "</table>\n",
       "</div>"
      ],
      "text/plain": [
       "        x1       x2  y\n",
       "0  0.24539  0.81725  0\n",
       "1  0.21774  0.76462  0\n",
       "2  0.20161  0.69737  0\n",
       "3  0.20161  0.58041  0\n",
       "4  0.24770  0.49561  0"
      ]
     },
     "execution_count": 140,
     "metadata": {},
     "output_type": "execute_result"
    }
   ],
   "source": [
    "import pandas as pd\n",
    "import numpy as np\n",
    "df=pd.read_csv('modified_dataset.csv')\n",
    "df.head()"
   ]
  },
  {
   "cell_type": "code",
   "execution_count": 141,
   "metadata": {},
   "outputs": [],
   "source": [
    "x=np.array(df[['x1','x2']])\n",
    "y=np.array(df['y'])"
   ]
  },
  {
   "cell_type": "code",
   "execution_count": 142,
   "metadata": {},
   "outputs": [
    {
     "data": {
      "text/plain": [
       "<matplotlib.collections.PathCollection at 0x1a4399f9358>"
      ]
     },
     "execution_count": 142,
     "metadata": {},
     "output_type": "execute_result"
    },
    {
     "data": {
      "image/png": "[encoded data removed]",
      "text/plain": [
       "<Figure size 432x288 with 1 Axes>"
      ]
     },
     "metadata": {
      "needs_background": "light"
     },
     "output_type": "display_data"
    }
   ],
   "source": [
    "plt.scatter(x[:,0],x[:,1])"
   ]
  },
  {
   "cell_type": "code",
   "execution_count": 144,
   "metadata": {},
   "outputs": [
    {
     "data": {
      "text/plain": [
       "array([0, 0, 0, 0, 0, 0, 0, 0, 0, 0, 0, 0, 0, 0, 0, 0, 0, 0, 0, 0, 0, 0,\n",
       "       0, 0, 0, 0, 0, 0, 0, 0, 0, 0, 1, 1, 1, 1, 1, 1, 1, 1, 1, 1, 1, 1,\n",
       "       1, 1, 1, 1, 1, 1, 1, 1, 1, 1, 1, 1, 1, 1, 1, 1, 1, 1, 1, 1, 1, 1,\n",
       "       1, 1, 1, 1, 1, 1, 1, 1, 1, 1, 1, 1, 1, 1, 1, 1, 1, 1, 1, 1, 1, 1,\n",
       "       1, 1, 1, 1, 1, 1, 1, 1], dtype=int64)"
      ]
     },
     "execution_count": 144,
     "metadata": {},
     "output_type": "execute_result"
    }
   ],
   "source": [
    "y"
   ]
  },
  {
   "cell_type": "code",
   "execution_count": 145,
   "metadata": {},
   "outputs": [],
   "source": [
    "km=KMeans(n_clusters=2)"
   ]
  },
  {
   "cell_type": "code",
   "execution_count": 146,
   "metadata": {},
   "outputs": [
    {
     "data": {
      "text/plain": [
       "KMeans(algorithm='auto', copy_x=True, init='k-means++', max_iter=300,\n",
       "       n_clusters=2, n_init=10, n_jobs=None, precompute_distances='auto',\n",
       "       random_state=None, tol=0.0001, verbose=0)"
      ]
     },
     "execution_count": 146,
     "metadata": {},
     "output_type": "execute_result"
    }
   ],
   "source": [
    "km"
   ]
  },
  {
   "cell_type": "code",
   "execution_count": 147,
   "metadata": {},
   "outputs": [],
   "source": [
    "y_km=km.fit_predict(x)"
   ]
  },
  {
   "cell_type": "code",
   "execution_count": 148,
   "metadata": {},
   "outputs": [
    {
     "data": {
      "text/plain": [
       "array([0, 0, 0, 0, 0, 0, 0, 0, 0, 0, 0, 0, 0, 0, 0, 0, 1, 1, 1, 1, 1, 1,\n",
       "       1, 1, 1, 1, 1, 1, 1, 1, 1, 1, 0, 0, 0, 0, 0, 0, 1, 0, 1, 1, 1, 1,\n",
       "       1, 1, 1, 0, 0, 0, 0, 1, 1, 1, 1, 1, 1, 1, 1, 1, 1, 1, 1, 1, 1, 1,\n",
       "       1, 1, 1, 1, 1, 1, 1, 1, 0, 0, 0, 0, 0, 0, 0, 0, 0, 0, 0, 0, 0, 0,\n",
       "       0, 0, 0, 0, 0, 0, 0, 0])"
      ]
     },
     "execution_count": 148,
     "metadata": {},
     "output_type": "execute_result"
    }
   ],
   "source": [
    "y_km"
   ]
  },
  {
   "cell_type": "code",
   "execution_count": 157,
   "metadata": {
    "scrolled": true
   },
   "outputs": [
    {
     "data": {
      "image/png": "[encoded data removed]",
      "text/plain": [
       "<Figure size 432x288 with 1 Axes>"
      ]
     },
     "metadata": {
      "needs_background": "light"
     },
     "output_type": "display_data"
    }
   ],
   "source": [
    "plt.scatter(x[y_km==0,0],x[y_km==0,1],c='red',marker='s',label='cluster 1')\n",
    "plt.scatter(x[y_km==1,0],x[y_km==1,1],c='green',marker='o',label='cluster 2')\n",
    "plt.scatter(km.cluster_centers_[:,0],km.cluster_centers_[:,1],c='blue',marker='*',label='centeroid')\n",
    "plt.legend()\n",
    "plt.grid()\n",
    "plt.show()"
   ]
  },
  {
   "cell_type": "code",
   "execution_count": 158,
   "metadata": {
    "scrolled": true
   },
   "outputs": [
    {
     "data": {
      "text/plain": [
       "array([[0.23838543, 0.59264245],\n",
       "       [0.71382021, 0.5031414 ]])"
      ]
     },
     "execution_count": 158,
     "metadata": {},
     "output_type": "execute_result"
    }
   ],
   "source": [
    "km.cluster_centers_"
   ]
  },
  {
   "cell_type": "code",
   "execution_count": 1,
   "metadata": {},
   "outputs": [
    {
     "name": "stdout",
     "output_type": "stream",
     "text": [
      "Another Experiment with the K Means Clustering\n"
     ]
    }
   ],
   "source": [
    "print(\"Another Experiment with the K Means Clustering\")"
   ]
  },
  {
   "cell_type": "code",
   "execution_count": 2,
   "metadata": {},
   "outputs": [],
   "source": [
    "from sklearn.datasets import make_blobs\n",
    "from sklearn.cluster import KMeans"
   ]
  },
  {
   "cell_type": "code",
   "execution_count": 12,
   "metadata": {},
   "outputs": [],
   "source": [
    "x,y=make_blobs()"
   ]
  },
  {
   "cell_type": "code",
   "execution_count": 13,
   "metadata": {},
   "outputs": [
    {
     "data": {
      "text/plain": [
       "array([0, 1, 1, 0, 0, 0, 0, 2, 2, 1, 0, 1, 0, 2, 1, 2, 0, 0, 1, 2, 0, 0,\n",
       "       1, 2, 1, 0, 0, 1, 1, 2, 1, 1, 0, 2, 2, 1, 0, 1, 1, 2, 0, 1, 1, 2,\n",
       "       0, 2, 0, 0, 2, 1, 2, 2, 0, 2, 0, 1, 1, 0, 1, 0, 0, 2, 2, 0, 0, 1,\n",
       "       0, 2, 1, 1, 2, 0, 0, 2, 0, 2, 2, 1, 0, 2, 2, 1, 2, 2, 1, 2, 2, 1,\n",
       "       0, 1, 0, 1, 2, 2, 1, 2, 0, 1, 2, 1])"
      ]
     },
     "execution_count": 13,
     "metadata": {},
     "output_type": "execute_result"
    }
   ],
   "source": [
    "y"
   ]
  },
  {
   "cell_type": "code",
   "execution_count": 14,
   "metadata": {},
   "outputs": [
    {
     "data": {
      "text/plain": [
       "<matplotlib.collections.PathCollection at 0x1c37e316b38>"
      ]
     },
     "execution_count": 14,
     "metadata": {},
     "output_type": "execute_result"
    },
    {
     "data": {
      "image/png": "[encoded data removed]",
      "text/plain": [
       "<Figure size 432x288 with 1 Axes>"
      ]
     },
     "metadata": {
      "needs_background": "light"
     },
     "output_type": "display_data"
    }
   ],
   "source": [
    "import matplotlib.pyplot as plt\n",
    "plt.scatter(x[:,0],x[:,1],c=y)"
   ]
  },
  {
   "cell_type": "code",
   "execution_count": 18,
   "metadata": {},
   "outputs": [],
   "source": [
    "km=KMeans(n_clusters=3)\n",
    "y_km=km.fit_predict(x)"
   ]
  },
  {
   "cell_type": "code",
   "execution_count": 28,
   "metadata": {},
   "outputs": [
    {
     "data": {
      "image/png": "[encoded data removed]",
      "text/plain": [
       "<Figure size 432x288 with 1 Axes>"
      ]
     },
     "metadata": {
      "needs_background": "light"
     },
     "output_type": "display_data"
    }
   ],
   "source": [
    "plt.scatter(x[:,0],x[:,1],c=y_km)\n",
    "plt.scatter(km.cluster_centers_[:,0],km.cluster_centers_[:,1],c='red',marker='*',label='centeroid')\n",
    "plt.grid()\n",
    "plt.legend()\n",
    "plt.show()\n"
   ]
  },
  {
   "cell_type": "code",
   "execution_count": 29,
   "metadata": {},
   "outputs": [
    {
     "name": "stdout",
     "output_type": "stream",
     "text": [
      "another experiment\n"
     ]
    }
   ],
   "source": [
    "print(\"another experiment\")"
   ]
  },
  {
   "cell_type": "code",
   "execution_count": 33,
   "metadata": {},
   "outputs": [
    {
     "data": {
      "text/plain": [
       "<matplotlib.collections.PathCollection at 0x1c37ff9a8d0>"
      ]
     },
     "execution_count": 33,
     "metadata": {},
     "output_type": "execute_result"
    },
    {
     "data": {
      "image/png": "[encoded data removed]",
      "text/plain": [
       "<Figure size 432x288 with 1 Axes>"
      ]
     },
     "metadata": {
      "needs_background": "light"
     },
     "output_type": "display_data"
    }
   ],
   "source": [
    "x,y=make_blobs(n_features=5)\n",
    "plt.scatter(x[:,0],x[:,1])"
   ]
  },
  {
   "cell_type": "code",
   "execution_count": 44,
   "metadata": {},
   "outputs": [
    {
     "data": {
      "text/plain": [
       "array([1, 1, 1, 0, 0, 1, 0, 2, 0, 2, 2, 1, 2, 2, 1, 1, 1, 1, 1, 2, 2, 1,\n",
       "       2, 0, 0, 0, 2, 0, 2, 1, 2, 1, 1, 0, 1, 2, 0, 0, 1, 2, 0, 1, 1, 0,\n",
       "       0, 0, 2, 2, 1, 1, 2, 2, 0, 2, 0, 2, 2, 1, 2, 1, 0, 1, 1, 0, 2, 2,\n",
       "       1, 0, 1, 0, 1, 2, 0, 1, 0, 1, 2, 1, 2, 1, 2, 0, 0, 2, 2, 0, 2, 0,\n",
       "       0, 0, 2, 1, 0, 0, 2, 2, 0, 0, 0, 1])"
      ]
     },
     "execution_count": 44,
     "metadata": {},
     "output_type": "execute_result"
    }
   ],
   "source": [
    "km=KMeans()\n",
    "y"
   ]
  },
  {
   "cell_type": "code",
   "execution_count": 35,
   "metadata": {
    "scrolled": false
   },
   "outputs": [
    {
     "data": {
      "text/plain": [
       "<matplotlib.collections.PathCollection at 0x1c37ff3d208>"
      ]
     },
     "execution_count": 35,
     "metadata": {},
     "output_type": "execute_result"
    },
    {
     "data": {
      "image/png": "[encoded data removed]",
      "text/plain": [
       "<Figure size 432x288 with 1 Axes>"
      ]
     },
     "metadata": {
      "needs_background": "light"
     },
     "output_type": "display_data"
    }
   ],
   "source": [
    "plt.scatter(x[:,0],x[:,1],c=y)"
   ]
  },
  {
   "cell_type": "code",
   "execution_count": 50,
   "metadata": {
    "scrolled": true
   },
   "outputs": [
    {
     "data": {
      "text/plain": [
       "<matplotlib.collections.PathCollection at 0x1c30019fda0>"
      ]
     },
     "execution_count": 50,
     "metadata": {},
     "output_type": "execute_result"
    },
    {
     "data": {
      "image/png": "[encoded data removed]",
      "text/plain": [
       "<Figure size 432x288 with 1 Axes>"
      ]
     },
     "metadata": {
      "needs_background": "light"
     },
     "output_type": "display_data"
    }
   ],
   "source": [
    "y_km=km.fit_predict(x)\n",
    "plt.scatter(x[:,0],x[:,1],c=y)\n",
    "plt.scatter(km.cluster_centers_[:,0],km.cluster_centers_[:,1],c='red',marker='*')"
   ]
  },
  {
   "cell_type": "code",
   "execution_count": 43,
   "metadata": {},
   "outputs": [
    {
     "data": {
      "text/plain": [
       "array([4, 0, 4, 1, 1, 0, 1, 7, 6, 5, 5, 0, 2, 5, 0, 0, 0, 4, 0, 7, 7, 0,\n",
       "       2, 6, 3, 3, 5, 6, 5, 4, 2, 4, 4, 3, 4, 5, 1, 1, 4, 7, 1, 4, 4, 6,\n",
       "       1, 1, 7, 5, 0, 4, 2, 7, 6, 2, 3, 7, 5, 4, 7, 4, 1, 4, 0, 3, 7, 2,\n",
       "       4, 3, 4, 3, 4, 5, 6, 0, 3, 4, 5, 4, 5, 4, 7, 3, 1, 2, 2, 3, 2, 3,\n",
       "       3, 3, 5, 0, 1, 6, 7, 7, 3, 3, 3, 4])"
      ]
     },
     "execution_count": 43,
     "metadata": {},
     "output_type": "execute_result"
    }
   ],
   "source": [
    "y_km"
   ]
  }
 ],
 "metadata": {
  "kernelspec": {
   "display_name": "Python 3",
   "language": "python",
   "name": "python3"
  },
  "language_info": {
   "codemirror_mode": {
    "name": "ipython",
    "version": 3
   },
   "file_extension": ".py",
   "mimetype": "text/x-python",
   "name": "python",
   "nbconvert_exporter": "python",
   "pygments_lexer": "ipython3",
   "version": "3.8.5"
  }
 },
 "nbformat": 4,
 "nbformat_minor": 2
}
