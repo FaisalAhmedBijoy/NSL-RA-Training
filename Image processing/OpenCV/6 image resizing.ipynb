{
 "cells": [
  {
   "cell_type": "code",
   "execution_count": 2,
   "metadata": {},
   "outputs": [],
   "source": [
    "import cv2\n",
    "import numpy as np\n",
    "import matplotlib.pyplot as plt\n",
    "import PIL\n",
    "import glob"
   ]
  },
  {
   "cell_type": "code",
   "execution_count": 3,
   "metadata": {},
   "outputs": [],
   "source": [
    "import os"
   ]
  },
  {
   "cell_type": "code",
   "execution_count": 4,
   "metadata": {},
   "outputs": [
    {
     "data": {
      "text/plain": [
       "'C:\\\\Users\\\\Shimul\\\\Documents\\\\Thesis room identification'"
      ]
     },
     "execution_count": 4,
     "metadata": {},
     "output_type": "execute_result"
    }
   ],
   "source": [
    "os.getcwd()"
   ]
  },
  {
   "cell_type": "code",
   "execution_count": 6,
   "metadata": {},
   "outputs": [],
   "source": [
    "building_dataset='C:/Users/Shimul/Documents/Thesis room identification/datasets/train/building'\n",
    "mosque_dataset='C:/Users/Shimul/Documents/Thesis room identification/datasets/train/mosque'\n",
    "temple_dataset='C:/Users/Shimul/Documents/Thesis room identification/datasets/train/temple'\n",
    "tinshed_dataset='C:/Users/Shimul/Documents/Thesis room identification/datasets/train/tinshed'"
   ]
  },
  {
   "cell_type": "code",
   "execution_count": 31,
   "metadata": {},
   "outputs": [],
   "source": [
    "WIDTH=500\n",
    "HEIGHT=500\n",
    "all_image_dataset=[building_dataset,mosque_dataset,temple_dataset,tinshed_dataset]"
   ]
  },
  {
   "cell_type": "code",
   "execution_count": 38,
   "metadata": {},
   "outputs": [],
   "source": [
    "for i,filename in enumerate(glob.glob(building_dataset+'/*')):\n",
    "    image=PIL.Image.open(filename)\n",
    "    image=image.resize((WIDTH,HEIGHT),PIL.Image.ANTIALIAS)\n",
    "    image.save('preprocessed_dataset/building/building'+str(i)+'.png')"
   ]
  },
  {
   "cell_type": "code",
   "execution_count": 39,
   "metadata": {},
   "outputs": [],
   "source": [
    "for i,filename in enumerate(glob.glob(mosque_dataset+'/*')):\n",
    "    image=PIL.Image.open(filename)\n",
    "    image=image.resize((WIDTH,HEIGHT),PIL.Image.ANTIALIAS)\n",
    "    image.save('preprocessed_dataset/mosque/mosque'+str(i)+'.png')"
   ]
  },
  {
   "cell_type": "code",
   "execution_count": 41,
   "metadata": {},
   "outputs": [],
   "source": [
    "for i,filename in enumerate(glob.glob(temple_dataset+'/*')):\n",
    "    image=PIL.Image.open(filename)\n",
    "    image=image.resize((WIDTH,HEIGHT),PIL.Image.ANTIALIAS)\n",
    "    image.save('preprocessed_dataset/temple/temple'+str(i)+'.png')"
   ]
  },
  {
   "cell_type": "code",
   "execution_count": 40,
   "metadata": {},
   "outputs": [],
   "source": [
    "for i,filename in enumerate(glob.glob(tinshed_dataset+'/*')):\n",
    "    image=PIL.Image.open(filename)\n",
    "    image=image.resize((WIDTH,HEIGHT),PIL.Image.ANTIALIAS)\n",
    "    image.save('preprocessed_dataset/tinshed/tinshed'+str(i)+'.png')"
   ]
  },
  {
   "cell_type": "code",
   "execution_count": 26,
   "metadata": {},
   "outputs": [
    {
     "data": {
      "text/plain": [
       "'C:\\\\Users\\\\Shimul\\\\Documents\\\\Thesis room identification'"
      ]
     },
     "execution_count": 26,
     "metadata": {},
     "output_type": "execute_result"
    }
   ],
   "source": [
    "os.getcwd()"
   ]
  }
 ],
 "metadata": {
  "kernelspec": {
   "display_name": "Python 3",
   "language": "python",
   "name": "python3"
  },
  "language_info": {
   "codemirror_mode": {
    "name": "ipython",
    "version": 3
   },
   "file_extension": ".py",
   "mimetype": "text/x-python",
   "name": "python",
   "nbconvert_exporter": "python",
   "pygments_lexer": "ipython3",
   "version": "3.8.5"
  }
 },
 "nbformat": 4,
 "nbformat_minor": 4
}
