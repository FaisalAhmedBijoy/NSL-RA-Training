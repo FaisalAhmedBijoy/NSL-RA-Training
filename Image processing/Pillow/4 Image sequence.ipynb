{
 "cells": [
  {
   "cell_type": "markdown",
   "metadata": {},
   "source": [
    "The Python Imaging Library contains some basic support for image sequences (also called animation formats). Supported sequence formats include FLI/FLC, GIF, and a few experimental formats. TIFF files can also contain more than one frame.\n",
    "PIl automatically loads the first frame in the sequence. it is possible to seek and tell methods to move different frame\n"
   ]
  },
  {
   "cell_type": "markdown",
   "metadata": {},
   "source": [
    "## Reading Sequences"
   ]
  },
  {
   "cell_type": "code",
   "execution_count": 8,
   "metadata": {},
   "outputs": [],
   "source": [
    "from PIL import Image\n",
    "image=Image.open('Images/tenor.gif')\n",
    "image.seek(1) # skip to the second frame\n",
    "try:\n",
    "    while 1:\n",
    "        image.seek(image.tell()+1) # do something to image\n",
    "        #print(image.show)\n",
    "except:\n",
    "    pass # end the sequence\n"
   ]
  },
  {
   "cell_type": "markdown",
   "metadata": {},
   "source": [
    "## Drawing postscript\n",
    "PIL inclues functions to print images, text and graphics on postscript pointers"
   ]
  },
  {
   "cell_type": "code",
   "execution_count": 17,
   "metadata": {},
   "outputs": [
    {
     "name": "stdout",
     "output_type": "stream",
     "text": [
      "%!PS-Adobe-3.0\n",
      "save\n",
      "/showpage { } def\n",
      "%%EndComments\n",
      "%%BeginDocument\n",
      "/S { show } bind def\n",
      "/P { moveto show } bind def\n",
      "/M { moveto } bind def\n",
      "/X { 0 rmoveto } bind def\n",
      "/Y { 0 exch rmoveto } bind def\n",
      "/E {    findfont\n",
      "        dup maxlength dict begin\n",
      "        {\n",
      "                1 index /FID ne { def } { pop pop } ifelse\n",
      "        } forall\n",
      "        /Encoding exch def\n",
      "        dup /FontName exch def\n",
      "        currentdict end definefont pop\n",
      "} bind def\n",
      "/F {    findfont exch scalefont dup setfont\n",
      "        [ exch /setfont cvx ] cvx bind def\n",
      "} bind def\n",
      "/Vm { moveto } bind def\n",
      "/Va { newpath arcn stroke } bind def\n",
      "/Vl { moveto lineto stroke } bind def\n",
      "/Vc { newpath 0 360 arc closepath } bind def\n",
      "/Vr {   exch dup 0 rlineto\n",
      "        exch dup neg 0 exch rlineto\n",
      "        exch neg 0 rlineto\n",
      "        0 exch rlineto\n",
      "        100 div setgray fill 0 setgray } bind def\n",
      "/Tm matrix def\n",
      "/Ve {   Tm currentmatrix pop\n",
      "        translate scale newpath 0 0 .5 0 360 arc closepath\n",
      "        Tm setmatrix\n",
      "} bind def\n",
      "/Vf { currentgray exch setgray fill setgray } bind def\n",
      "%%EndProlog\n",
      "gsave\n",
      "193.920000 344.640000 translate\n",
      "0.960000 0.960000 scale\n"
     ]
    },
    {
     "ename": "ValueError",
     "evalue": "image mode is not supported",
     "output_type": "error",
     "traceback": [
      "\u001b[1;31m---------------------------------------------------------------------------\u001b[0m",
      "\u001b[1;31mValueError\u001b[0m                                Traceback (most recent call last)",
      "\u001b[1;32m<ipython-input-17-b21931bd6dc2>\u001b[0m in \u001b[0;36m<module>\u001b[1;34m\u001b[0m\n\u001b[0;32m      9\u001b[0m \u001b[1;33m\u001b[0m\u001b[0m\n\u001b[0;32m     10\u001b[0m \u001b[1;31m# Draw the image (75 dpi)\u001b[0m\u001b[1;33m\u001b[0m\u001b[1;33m\u001b[0m\u001b[1;33m\u001b[0m\u001b[0m\n\u001b[1;32m---> 11\u001b[1;33m \u001b[0mps\u001b[0m\u001b[1;33m.\u001b[0m\u001b[0mimage\u001b[0m\u001b[1;33m(\u001b[0m\u001b[0mbox\u001b[0m\u001b[1;33m,\u001b[0m\u001b[0mimg\u001b[0m\u001b[1;33m,\u001b[0m\u001b[1;36m75\u001b[0m\u001b[1;33m)\u001b[0m\u001b[1;33m\u001b[0m\u001b[1;33m\u001b[0m\u001b[0m\n\u001b[0m\u001b[0;32m     12\u001b[0m \u001b[0mps\u001b[0m\u001b[1;33m.\u001b[0m\u001b[0mrectangle\u001b[0m\u001b[1;33m(\u001b[0m\u001b[0mbox\u001b[0m\u001b[1;33m)\u001b[0m\u001b[1;33m\u001b[0m\u001b[1;33m\u001b[0m\u001b[0m\n\u001b[0;32m     13\u001b[0m \u001b[1;33m\u001b[0m\u001b[0m\n",
      "\u001b[1;32m~\\Anaconda3\\envs\\tf-gpu\\lib\\site-packages\\PIL\\PSDraw.py\u001b[0m in \u001b[0;36mimage\u001b[1;34m(self, box, im, dpi)\u001b[0m\n\u001b[0;32m    137\u001b[0m             \u001b[0msy\u001b[0m \u001b[1;33m=\u001b[0m \u001b[0my\u001b[0m \u001b[1;33m/\u001b[0m \u001b[0mim\u001b[0m\u001b[1;33m.\u001b[0m\u001b[0msize\u001b[0m\u001b[1;33m[\u001b[0m\u001b[1;36m1\u001b[0m\u001b[1;33m]\u001b[0m\u001b[1;33m\u001b[0m\u001b[1;33m\u001b[0m\u001b[0m\n\u001b[0;32m    138\u001b[0m             \u001b[0mself\u001b[0m\u001b[1;33m.\u001b[0m\u001b[0m_fp_write\u001b[0m\u001b[1;33m(\u001b[0m\u001b[1;34mf\"{sx:f} {sy:f} scale\\n\"\u001b[0m\u001b[1;33m)\u001b[0m\u001b[1;33m\u001b[0m\u001b[1;33m\u001b[0m\u001b[0m\n\u001b[1;32m--> 139\u001b[1;33m         \u001b[0mEpsImagePlugin\u001b[0m\u001b[1;33m.\u001b[0m\u001b[0m_save\u001b[0m\u001b[1;33m(\u001b[0m\u001b[0mim\u001b[0m\u001b[1;33m,\u001b[0m \u001b[0mself\u001b[0m\u001b[1;33m.\u001b[0m\u001b[0mfp\u001b[0m\u001b[1;33m,\u001b[0m \u001b[1;32mNone\u001b[0m\u001b[1;33m,\u001b[0m \u001b[1;36m0\u001b[0m\u001b[1;33m)\u001b[0m\u001b[1;33m\u001b[0m\u001b[1;33m\u001b[0m\u001b[0m\n\u001b[0m\u001b[0;32m    140\u001b[0m         \u001b[0mself\u001b[0m\u001b[1;33m.\u001b[0m\u001b[0m_fp_write\u001b[0m\u001b[1;33m(\u001b[0m\u001b[1;34m\"\\ngrestore\\n\"\u001b[0m\u001b[1;33m)\u001b[0m\u001b[1;33m\u001b[0m\u001b[1;33m\u001b[0m\u001b[0m\n\u001b[0;32m    141\u001b[0m \u001b[1;33m\u001b[0m\u001b[0m\n",
      "\u001b[1;32m~\\Anaconda3\\envs\\tf-gpu\\lib\\site-packages\\PIL\\EpsImagePlugin.py\u001b[0m in \u001b[0;36m_save\u001b[1;34m(im, fp, filename, eps)\u001b[0m\n\u001b[0;32m    361\u001b[0m         \u001b[0moperator\u001b[0m \u001b[1;33m=\u001b[0m \u001b[1;33m(\u001b[0m\u001b[1;36m8\u001b[0m\u001b[1;33m,\u001b[0m \u001b[1;36m4\u001b[0m\u001b[1;33m,\u001b[0m \u001b[1;34m\"false 4 colorimage\"\u001b[0m\u001b[1;33m)\u001b[0m\u001b[1;33m\u001b[0m\u001b[1;33m\u001b[0m\u001b[0m\n\u001b[0;32m    362\u001b[0m     \u001b[1;32melse\u001b[0m\u001b[1;33m:\u001b[0m\u001b[1;33m\u001b[0m\u001b[1;33m\u001b[0m\u001b[0m\n\u001b[1;32m--> 363\u001b[1;33m         \u001b[1;32mraise\u001b[0m \u001b[0mValueError\u001b[0m\u001b[1;33m(\u001b[0m\u001b[1;34m\"image mode is not supported\"\u001b[0m\u001b[1;33m)\u001b[0m\u001b[1;33m\u001b[0m\u001b[1;33m\u001b[0m\u001b[0m\n\u001b[0m\u001b[0;32m    364\u001b[0m \u001b[1;33m\u001b[0m\u001b[0m\n\u001b[0;32m    365\u001b[0m     \u001b[0mbase_fp\u001b[0m \u001b[1;33m=\u001b[0m \u001b[0mfp\u001b[0m\u001b[1;33m\u001b[0m\u001b[1;33m\u001b[0m\u001b[0m\n",
      "\u001b[1;31mValueError\u001b[0m: image mode is not supported"
     ]
    }
   ],
   "source": [
    "from __future__ import print_function\n",
    "from PIL import PSDraw\n",
    "img=Image.open('Images/joy.png')\n",
    "title='Abir Hasan Joy'\n",
    "box=(1*72,2*72,7*72,10*72) # in points\n",
    "\n",
    "ps=PSDraw.PSDraw() # default ia sys.stdout\n",
    "ps.begin_document(title)\n",
    "\n",
    "# Draw the image (75 dpi)\n",
    "ps.image(box,img,75)\n",
    "ps.rectangle(box)\n",
    "\n",
    "# Draw titile\n",
    "ps.setfont('HelveticaNarrow-Bold',36)\n",
    "ps.text((3*72,7*72),title )\n",
    "ps.end_document()"
   ]
  }
 ],
 "metadata": {
  "kernelspec": {
   "display_name": "Python 3",
   "language": "python",
   "name": "python3"
  },
  "language_info": {
   "codemirror_mode": {
    "name": "ipython",
    "version": 3
   },
   "file_extension": ".py",
   "mimetype": "text/x-python",
   "name": "python",
   "nbconvert_exporter": "python",
   "pygments_lexer": "ipython3",
   "version": "3.8.5"
  }
 },
 "nbformat": 4,
 "nbformat_minor": 4
}
