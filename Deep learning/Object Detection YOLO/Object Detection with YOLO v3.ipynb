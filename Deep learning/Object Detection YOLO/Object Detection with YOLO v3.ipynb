{
 "cells": [
  {
   "cell_type": "markdown",
   "metadata": {},
   "source": [
    "## YOLO: You Only Look Once\n",
    "- yolov3.cfg \n",
    "- yolov3.weights\n",
    "- classes.txt"
   ]
  },
  {
   "cell_type": "markdown",
   "metadata": {},
   "source": [
    "## YOLO Theory\n",
    "- https://stackoverflow.com/questions/50575301/yolo-object-detection-how-does-the-algorithm-predict-bounding-boxes-larger-than\n",
    "- https://www.kaggle.com/utkarshxy/object-detection-with-yolo-complete-theory-5mins\n",
    "- https://www.youtube.com/watch?v=1LCb1PVqzeY&t=0s\n",
    "\n"
   ]
  },
  {
   "cell_type": "markdown",
   "metadata": {},
   "source": [
    "## Import Library"
   ]
  },
  {
   "cell_type": "code",
   "execution_count": 2,
   "metadata": {},
   "outputs": [],
   "source": [
    "import cv2\n",
    "import numpy as np\n",
    "import matplotlib.pyplot as plt"
   ]
  },
  {
   "cell_type": "markdown",
   "metadata": {},
   "source": [
    "## Configuration YOLO \n",
    "readNet(model[, config[, framework]]) -> retval\n",
    "   * @brief Read deep learning network represented in one of the supported formats.\n",
    "   * @param[in] model Binary file contains trained weights. The following file\n",
    "   *                  extensions are expected for models from different frameworks:\n",
    "   *                  * `*.caffemodel` (Caffe, http://caffe.berkeleyvision.org/)\n",
    "   *                  * `*.pb` (TensorFlow, https://www.tensorflow.org/)\n",
    "   *                  * `*.t7` | `*.net` (Torch, http://torch.ch/)\n",
    "   *                  * `*.weights` (Darknet, https://pjreddie.com/darknet/)\n",
    "   *                  * `*.bin` (DLDT, https://software.intel.com/openvino-toolkit)\n",
    "   * @param[in] config Text file contains network configuration. It could be a\n",
    "   *                   file with the following extensions:\n",
    "   *                  * `*.prototxt` (Caffe, http://caffe.berkeleyvision.org/)\n",
    "   *                  * `*.pbtxt` (TensorFlow, https://www.tensorflow.org/)\n",
    "   *                  * `*.cfg` (Darknet, https://pjreddie.com/darknet/)\n",
    "   *                  * `*.xml` (DLDT, https://software.intel.com/openvino-"
   ]
  },
  {
   "cell_type": "code",
   "execution_count": 3,
   "metadata": {},
   "outputs": [],
   "source": [
    "net=cv2.dnn.readNet('yolov3.weights','yolov3.cfg')\n",
    "classes=[]\n",
    "with open('classes.txt','r') as f:\n",
    "    classes=f.read().splitlines()"
   ]
  },
  {
   "cell_type": "code",
   "execution_count": 4,
   "metadata": {
    "scrolled": true
   },
   "outputs": [
    {
     "name": "stdout",
     "output_type": "stream",
     "text": [
      "Total classes:  80\n",
      "['person', 'bicycle', 'car', 'motorbike', 'aeroplane', 'bus', 'train', 'truck', 'boat', 'traffic light', 'fire hydrant', 'stop sign', 'parking meter', 'bench', 'bird', 'cat', 'dog', 'horse', 'sheep', 'cow', 'elephant', 'bear', 'zebra', 'giraffe', 'backpack', 'umbrella', 'handbag', 'tie', 'suitcase', 'frisbee', 'skis', 'snowboard', 'sports ball', 'kite', 'baseball bat', 'baseball glove', 'skateboard', 'surfboard', 'tennis racket', 'bottle', 'wine glass', 'cup', 'fork', 'knife', 'spoon', 'bowl', 'banana', 'apple', 'sandwich', 'orange', 'broccoli', 'carrot', 'hot dog', 'pizza', 'donut', 'cake', 'chair', 'sofa', 'pottedplant', 'bed', 'diningtable', 'toilet', 'tvmonitor', 'laptop', 'mouse', 'remote', 'keyboard', 'cell phone', 'microwave', 'oven', 'toaster', 'sink', 'refrigerator', 'book', 'clock', 'vase', 'scissors', 'teddy bear', 'hair drier', 'toothbrush']\n"
     ]
    }
   ],
   "source": [
    "print('Total classes: ', len(classes))\n",
    "print(classes)"
   ]
  },
  {
   "cell_type": "markdown",
   "metadata": {},
   "source": [
    "## Import Image for object Detection"
   ]
  },
  {
   "cell_type": "code",
   "execution_count": 86,
   "metadata": {},
   "outputs": [],
   "source": [
    "image=cv2.imread('people.jpg')\n",
    "cv2.imshow('Input Image: ',image)\n",
    "cv2.waitKey()\n",
    "cv2.destroyAllWindows()"
   ]
  },
  {
   "cell_type": "code",
   "execution_count": 87,
   "metadata": {
    "scrolled": false
   },
   "outputs": [
    {
     "name": "stdout",
     "output_type": "stream",
     "text": [
      "Image shape:  (775, 936, 3)\n",
      "775\n",
      "936\n"
     ]
    }
   ],
   "source": [
    "print('Image shape: ',image.shape)\n",
    "height,width,channel=image.shape\n",
    "print(height)\n",
    "print(width)"
   ]
  },
  {
   "cell_type": "code",
   "execution_count": 88,
   "metadata": {},
   "outputs": [
    {
     "data": {
      "text/plain": [
       "(775, 936, 3)"
      ]
     },
     "execution_count": 88,
     "metadata": {},
     "output_type": "execute_result"
    }
   ],
   "source": [
    "yolo_input_image=np.copy(image)\n",
    "yolo_input_image.shape"
   ]
  },
  {
   "cell_type": "markdown",
   "metadata": {},
   "source": [
    "## Blob from Image\n",
    "blobFromImage(image[, scalefactor[, size[, mean[, swapRB[, crop[, ddepth]]]]]]) -> retval"
   ]
  },
  {
   "cell_type": "code",
   "execution_count": 89,
   "metadata": {},
   "outputs": [],
   "source": [
    "blob=cv2.dnn.blobFromImage(yolo_input_image,1/255,(416,416),(0,0,0),swapRB=True,crop=False)"
   ]
  },
  {
   "cell_type": "code",
   "execution_count": 90,
   "metadata": {
    "scrolled": true
   },
   "outputs": [
    {
     "data": {
      "text/plain": [
       "(1, 3, 416, 416)"
      ]
     },
     "execution_count": 90,
     "metadata": {},
     "output_type": "execute_result"
    }
   ],
   "source": [
    "blob.shape"
   ]
  },
  {
   "cell_type": "code",
   "execution_count": 91,
   "metadata": {
    "scrolled": true
   },
   "outputs": [
    {
     "name": "stdout",
     "output_type": "stream",
     "text": [
      "(3, 416, 416)\n"
     ]
    }
   ],
   "source": [
    "for b in blob:\n",
    "    print(b.shape)\n",
    "    # indicate that there are 3 channel and each channel image size is: (image.height x image.width)"
   ]
  },
  {
   "cell_type": "code",
   "execution_count": 92,
   "metadata": {},
   "outputs": [],
   "source": [
    "for b in blob:\n",
    "    for channel,img_blob in enumerate(b):\n",
    "        cv2.imshow(str(channel),img_blob)\n",
    "cv2.waitKey()\n",
    "cv2.destroyAllWindows()"
   ]
  },
  {
   "cell_type": "markdown",
   "metadata": {},
   "source": [
    "## Initialize YOLO with Blobs"
   ]
  },
  {
   "cell_type": "code",
   "execution_count": 93,
   "metadata": {},
   "outputs": [],
   "source": [
    "net.setInput(blob)"
   ]
  },
  {
   "cell_type": "code",
   "execution_count": 94,
   "metadata": {},
   "outputs": [
    {
     "data": {
      "text/plain": [
       "['yolo_82', 'yolo_94', 'yolo_106']"
      ]
     },
     "execution_count": 94,
     "metadata": {},
     "output_type": "execute_result"
    }
   ],
   "source": [
    "output_layers_name=net.getUnconnectedOutLayersNames()\n",
    "output_layers_name"
   ]
  },
  {
   "cell_type": "code",
   "execution_count": 95,
   "metadata": {},
   "outputs": [],
   "source": [
    "# Runs forward pass to compute output of layer with name @p outputName.\n",
    "layerOutputs=net.forward(output_layers_name)"
   ]
  },
  {
   "cell_type": "code",
   "execution_count": 96,
   "metadata": {},
   "outputs": [
    {
     "data": {
      "text/plain": [
       "3"
      ]
     },
     "execution_count": 96,
     "metadata": {},
     "output_type": "execute_result"
    }
   ],
   "source": [
    "len(layerOutputs)"
   ]
  },
  {
   "cell_type": "code",
   "execution_count": 97,
   "metadata": {
    "scrolled": true
   },
   "outputs": [
    {
     "data": {
      "text/plain": [
       "0.032563165"
      ]
     },
     "execution_count": 97,
     "metadata": {},
     "output_type": "execute_result"
    }
   ],
   "source": [
    "layerOutputs[0][0][0]"
   ]
  },
  {
   "cell_type": "markdown",
   "metadata": {},
   "source": [
    "## Define Box Parameter, Confidence and Class ids"
   ]
  },
  {
   "cell_type": "code",
   "execution_count": 98,
   "metadata": {},
   "outputs": [],
   "source": [
    "boxes=[]\n",
    "confidences=[]\n",
    "class_ids=[]"
   ]
  },
  {
   "cell_type": "code",
   "execution_count": 99,
   "metadata": {
    "scrolled": true
   },
   "outputs": [
    {
     "data": {
      "text/plain": [
       "array([3.2563165e-02, 4.6636049e-02, 4.3901926e-01, 1.3100865e-01,\n",
       "       7.0275079e-09, 0.0000000e+00, 0.0000000e+00, 0.0000000e+00,\n",
       "       0.0000000e+00, 0.0000000e+00, 0.0000000e+00, 0.0000000e+00,\n",
       "       0.0000000e+00, 0.0000000e+00, 0.0000000e+00, 0.0000000e+00,\n",
       "       0.0000000e+00, 0.0000000e+00, 0.0000000e+00, 0.0000000e+00,\n",
       "       0.0000000e+00, 0.0000000e+00, 0.0000000e+00, 0.0000000e+00,\n",
       "       0.0000000e+00, 0.0000000e+00, 0.0000000e+00, 0.0000000e+00,\n",
       "       0.0000000e+00, 0.0000000e+00, 0.0000000e+00, 0.0000000e+00,\n",
       "       0.0000000e+00, 0.0000000e+00, 0.0000000e+00, 0.0000000e+00,\n",
       "       0.0000000e+00, 0.0000000e+00, 0.0000000e+00, 0.0000000e+00,\n",
       "       0.0000000e+00, 0.0000000e+00, 0.0000000e+00, 0.0000000e+00,\n",
       "       0.0000000e+00, 0.0000000e+00, 0.0000000e+00, 0.0000000e+00,\n",
       "       0.0000000e+00, 0.0000000e+00, 0.0000000e+00, 0.0000000e+00,\n",
       "       0.0000000e+00, 0.0000000e+00, 0.0000000e+00, 0.0000000e+00,\n",
       "       0.0000000e+00, 0.0000000e+00, 0.0000000e+00, 0.0000000e+00,\n",
       "       0.0000000e+00, 0.0000000e+00, 0.0000000e+00, 0.0000000e+00,\n",
       "       0.0000000e+00, 0.0000000e+00, 0.0000000e+00, 0.0000000e+00,\n",
       "       0.0000000e+00, 0.0000000e+00, 0.0000000e+00, 0.0000000e+00,\n",
       "       0.0000000e+00, 0.0000000e+00, 0.0000000e+00, 0.0000000e+00,\n",
       "       0.0000000e+00, 0.0000000e+00, 0.0000000e+00, 0.0000000e+00,\n",
       "       0.0000000e+00, 0.0000000e+00, 0.0000000e+00, 0.0000000e+00,\n",
       "       0.0000000e+00], dtype=float32)"
      ]
     },
     "execution_count": 99,
     "metadata": {},
     "output_type": "execute_result"
    }
   ],
   "source": [
    "# First four parameters are: center x, center y, box width , box height\n",
    "# Others parametre indicate the predicted class id\n",
    "layerOutputs[0][0]"
   ]
  },
  {
   "cell_type": "code",
   "execution_count": null,
   "metadata": {},
   "outputs": [],
   "source": []
  },
  {
   "cell_type": "code",
   "execution_count": 100,
   "metadata": {},
   "outputs": [],
   "source": [
    "for output in layerOutputs:\n",
    "    for detection in output:\n",
    "        scores=detection[5:]\n",
    "        class_id=np.argmax(scores)\n",
    "        confidence=scores[class_id]\n",
    "        if confidence>0.5:\n",
    "            center_x=int(detection[0]*width)\n",
    "            center_y=int(detection[1]*height)\n",
    "            w=int(detection[2]*width)\n",
    "            h=int(detection[3]*height)\n",
    "            \n",
    "            x=int(center_x -(w/2))\n",
    "            y=int(center_y -(h/2))\n",
    "            \n",
    "            boxes.append([x,y,w,h])\n",
    "            confidences.append(float(confidence))\n",
    "            class_ids.append(class_id)\n",
    "            "
   ]
  },
  {
   "cell_type": "code",
   "execution_count": 101,
   "metadata": {},
   "outputs": [
    {
     "data": {
      "text/plain": [
       "[0,\n",
       " 0,\n",
       " 0,\n",
       " 0,\n",
       " 0,\n",
       " 0,\n",
       " 0,\n",
       " 0,\n",
       " 0,\n",
       " 0,\n",
       " 60,\n",
       " 60,\n",
       " 60,\n",
       " 0,\n",
       " 0,\n",
       " 0,\n",
       " 0,\n",
       " 0,\n",
       " 0,\n",
       " 0,\n",
       " 0,\n",
       " 0,\n",
       " 0,\n",
       " 0,\n",
       " 0,\n",
       " 0,\n",
       " 0,\n",
       " 0,\n",
       " 0,\n",
       " 0,\n",
       " 0,\n",
       " 0,\n",
       " 0,\n",
       " 0,\n",
       " 0,\n",
       " 0,\n",
       " 0,\n",
       " 0,\n",
       " 0,\n",
       " 0,\n",
       " 0,\n",
       " 0,\n",
       " 0,\n",
       " 0,\n",
       " 0,\n",
       " 0,\n",
       " 0,\n",
       " 0,\n",
       " 0,\n",
       " 0,\n",
       " 0,\n",
       " 0,\n",
       " 0,\n",
       " 0,\n",
       " 0,\n",
       " 0,\n",
       " 0,\n",
       " 0,\n",
       " 40,\n",
       " 41,\n",
       " 41,\n",
       " 41,\n",
       " 41,\n",
       " 41,\n",
       " 41,\n",
       " 41,\n",
       " 40]"
      ]
     },
     "execution_count": 101,
     "metadata": {},
     "output_type": "execute_result"
    }
   ],
   "source": [
    "class_ids"
   ]
  },
  {
   "cell_type": "code",
   "execution_count": 102,
   "metadata": {
    "scrolled": true
   },
   "outputs": [
    {
     "name": "stdout",
     "output_type": "stream",
     "text": [
      "Box found:  67\n",
      "[[1, 196, 193, 179], [-8, 206, 207, 209], [584, 320, 185, 157], [371, 362, 197, 187], [227, 385, 228, 244], [260, 387, 233, 231], [721, 319, 176, 415], [519, 399, 210, 366], [684, 341, 193, 428], [714, 326, 180, 450], [205, 592, 445, 167], [201, 585, 474, 173], [205, 569, 465, 206], [645, 157, 141, 205], [650, 163, 146, 195], [0, 185, 177, 214], [243, 161, 136, 255], [263, 168, 126, 240], [642, 164, 146, 228], [653, 171, 141, 218], [782, 170, 114, 235], [0, 193, 177, 231], [245, 168, 131, 269], [657, 183, 137, 238], [782, 173, 120, 272], [-1, 200, 179, 271], [469, 301, 121, 163], [602, 303, 145, 161], [1, 318, 121, 173], [-4, 303, 165, 199], [108, 321, 85, 146], [104, 320, 96, 167], [468, 298, 124, 189], [475, 302, 136, 188], [603, 308, 146, 180], [615, 311, 143, 177], [0, 328, 124, 186], [128, 346, 146, 183], [602, 320, 143, 205], [613, 317, 148, 216], [124, 343, 158, 233], [138, 341, 163, 238], [379, 356, 155, 223], [385, 343, 174, 243], [121, 352, 161, 276], [236, 379, 155, 248], [246, 386, 173, 230], [379, 364, 151, 235], [384, 356, 175, 254], [727, 321, 153, 339], [233, 390, 160, 252], [250, 384, 166, 255], [538, 401, 190, 255], [729, 316, 150, 419], [537, 398, 198, 308], [713, 338, 145, 418], [729, 309, 150, 476], [550, 400, 171, 345], [26, 460, 31, 46], [520, 577, 35, 60], [522, 578, 38, 60], [357, 586, 38, 63], [361, 589, 35, 57], [521, 583, 36, 59], [523, 583, 38, 59], [356, 593, 37, 78], [419, 640, 40, 79]]\n"
     ]
    }
   ],
   "source": [
    "print('Box found: ',len(boxes))\n",
    "print(boxes)"
   ]
  },
  {
   "cell_type": "markdown",
   "metadata": {},
   "source": [
    "## Non Maximum Supression \n",
    "NMSBoxes(bboxes, scores, score_threshold, nms_threshold[, eta[, top_k]]) -> indices\n",
    "\n",
    "If the two boxes are correlated with each other. we have to choose one box rather than two.In this scenario, <b>NMSBoxes</b> removes the lower scores bounding box if two boxes are mixed with each others"
   ]
  },
  {
   "cell_type": "code",
   "execution_count": 103,
   "metadata": {},
   "outputs": [
    {
     "data": {
      "text/plain": [
       "float"
      ]
     },
     "execution_count": 103,
     "metadata": {},
     "output_type": "execute_result"
    }
   ],
   "source": [
    "type(confidences[0])"
   ]
  },
  {
   "cell_type": "code",
   "execution_count": 104,
   "metadata": {
    "scrolled": true
   },
   "outputs": [
    {
     "data": {
      "text/plain": [
       "int"
      ]
     },
     "execution_count": 104,
     "metadata": {},
     "output_type": "execute_result"
    }
   ],
   "source": [
    "type(boxes[0][0])"
   ]
  },
  {
   "cell_type": "code",
   "execution_count": 105,
   "metadata": {
    "scrolled": true
   },
   "outputs": [
    {
     "data": {
      "text/plain": [
       "array([[34],\n",
       "       [16],\n",
       "       [42],\n",
       "       [21],\n",
       "       [18],\n",
       "       [ 9],\n",
       "       [66],\n",
       "       [32],\n",
       "       [28],\n",
       "       [40],\n",
       "       [60],\n",
       "       [30],\n",
       "       [54],\n",
       "       [11],\n",
       "       [51],\n",
       "       [61],\n",
       "       [20],\n",
       "       [58]], dtype=int32)"
      ]
     },
     "execution_count": 105,
     "metadata": {},
     "output_type": "execute_result"
    }
   ],
   "source": [
    "indexes=cv2.dnn.NMSBoxes(boxes,confidences,0.3,0.4)\n",
    "indexes"
   ]
  },
  {
   "cell_type": "code",
   "execution_count": 106,
   "metadata": {
    "scrolled": true
   },
   "outputs": [
    {
     "name": "stdout",
     "output_type": "stream",
     "text": [
      "After Non Maximum Suppression (NMS):  18\n"
     ]
    },
    {
     "data": {
      "text/plain": [
       "array([34, 16, 42, 21, 18,  9, 66, 32, 28, 40, 60, 30, 54, 11, 51, 61, 20,\n",
       "       58], dtype=int32)"
      ]
     },
     "execution_count": 106,
     "metadata": {},
     "output_type": "execute_result"
    }
   ],
   "source": [
    "print('After Non Maximum Suppression (NMS): ',len(indexes))\n",
    "indexes.flatten()"
   ]
  },
  {
   "cell_type": "markdown",
   "metadata": {},
   "source": [
    "## Draw the Bounding Box on Image "
   ]
  },
  {
   "cell_type": "code",
   "execution_count": 107,
   "metadata": {},
   "outputs": [],
   "source": [
    "font=cv2.FONT_HERSHEY_PLAIN\n",
    "colors=np.random.uniform(0,255,size=(len(boxes),3))"
   ]
  },
  {
   "cell_type": "code",
   "execution_count": 108,
   "metadata": {},
   "outputs": [
    {
     "name": "stdout",
     "output_type": "stream",
     "text": [
      "(67, 3)\n"
     ]
    },
    {
     "data": {
      "text/plain": [
       "array([[209.44495171,  55.13474942, 136.84524274],\n",
       "       [ 87.09833817, 119.36918663,  59.41495622],\n",
       "       [150.84755871, 235.96936183, 155.72133873],\n",
       "       [205.75305396,  94.89788033,  70.10456361],\n",
       "       [216.36528489, 222.54316639, 104.81143333],\n",
       "       [109.94677867, 135.26829369, 143.97084279],\n",
       "       [ 40.60829598,  73.53139886, 185.61902291],\n",
       "       [ 71.97381052, 103.43667405, 142.95401093],\n",
       "       [178.85985686, 210.523659  , 202.42262349],\n",
       "       [152.07275653, 149.36186439,  47.43372557],\n",
       "       [121.59896722,  33.36432299, 212.61459708],\n",
       "       [247.43531759, 225.52080007, 179.21852054],\n",
       "       [222.1744657 ,  24.74637119,  65.67487216],\n",
       "       [182.01838346, 174.95463972, 197.77835304],\n",
       "       [123.70778303, 189.3357475 ,  34.46545299],\n",
       "       [186.49226965, 116.14462533, 239.00225323],\n",
       "       [227.21157013,   2.80756899, 243.28102575],\n",
       "       [186.43206657, 244.82664405, 144.29049591],\n",
       "       [227.34197342,  26.51486501,  46.68035212],\n",
       "       [254.12131523,  17.54540466, 136.95487124],\n",
       "       [138.73493204,  90.40206749, 179.97869624],\n",
       "       [  3.80468336,  34.53397434, 113.15471914],\n",
       "       [ 46.19423373,  77.98517642, 246.97475559],\n",
       "       [ 15.15936254,   6.61833561, 140.48262951],\n",
       "       [240.91577768, 227.1040363 , 127.25780315],\n",
       "       [ 34.25793594,  21.30418868,  35.27495596],\n",
       "       [ 23.73485122,  65.93602349,  12.78053041],\n",
       "       [174.88658897,  48.94366696, 101.16529821],\n",
       "       [111.80478744,  97.09289001, 127.84716418],\n",
       "       [ 85.1871861 , 165.61872989, 113.21594064],\n",
       "       [231.93042134,  45.41597379, 247.8444656 ],\n",
       "       [228.19242789,   5.33227089, 231.76414451],\n",
       "       [242.60854914,  76.79895485,  83.11660139],\n",
       "       [155.4721195 , 226.92186758,   8.27563035],\n",
       "       [150.39094984, 124.07195229, 247.83291485],\n",
       "       [168.22908314,  53.41921783, 139.97922569],\n",
       "       [169.39153851, 219.8286146 , 224.91776958],\n",
       "       [209.03876908,  76.88119353, 126.27728699],\n",
       "       [105.41550959, 220.68282056, 166.69689749],\n",
       "       [218.98608918, 120.57232063, 119.49013624],\n",
       "       [ 96.57344225,  92.69386181,  59.49989749],\n",
       "       [225.54296381, 218.84325193, 176.16501964],\n",
       "       [  4.42550876, 227.94681033, 132.69050342],\n",
       "       [157.60906525,  19.17437643, 124.66983697],\n",
       "       [136.70745504,   5.41698806,  72.31213096],\n",
       "       [ 94.26892413,  58.16251421,  68.7332513 ],\n",
       "       [121.56275572, 191.5210741 , 199.49329008],\n",
       "       [ 74.82653266, 224.16419767, 222.59136898],\n",
       "       [ 95.83481113, 206.93353045, 226.46790078],\n",
       "       [225.54992818, 187.54031435,  45.10392281],\n",
       "       [116.81856523,  51.68457063,  27.72020026],\n",
       "       [162.01203839, 200.42478644, 104.24461788],\n",
       "       [245.89364726, 175.8450429 ,  50.24365463],\n",
       "       [ 27.16238127, 240.89017302,  68.90477405],\n",
       "       [199.49189203,  25.31226967, 135.33913799],\n",
       "       [147.01415523, 141.39334407, 208.32148513],\n",
       "       [194.4668064 , 253.09749688,  95.65815256],\n",
       "       [ 27.0519154 , 150.56444313, 179.34407676],\n",
       "       [208.27691799,  30.76858306, 235.1964267 ],\n",
       "       [209.09455261,  37.81685782, 128.91061478],\n",
       "       [174.14336306,  58.00775461,  99.24681688],\n",
       "       [ 90.15087307, 125.05237646, 193.51424221],\n",
       "       [ 52.31535575, 167.75522184, 136.08202281],\n",
       "       [ 15.15398154, 128.58100884, 165.44306559],\n",
       "       [ 33.84686055, 209.91642998, 189.90891332],\n",
       "       [143.98147504, 178.08009248,  30.0488436 ],\n",
       "       [241.69373416, 143.62810436, 240.22283943]])"
      ]
     },
     "execution_count": 108,
     "metadata": {},
     "output_type": "execute_result"
    }
   ],
   "source": [
    "print(colors.shape)\n",
    "colors"
   ]
  },
  {
   "cell_type": "code",
   "execution_count": 109,
   "metadata": {},
   "outputs": [],
   "source": [
    "if len(indexes)>0:\n",
    "    for i in indexes.flatten():\n",
    "        x,y,w,h=boxes[i]\n",
    "        label=str(classes[class_ids[i]])\n",
    "        color=colors[i]\n",
    "        confidence=str(round(confidences[i],2))\n",
    "        \n",
    "        cv2.rectangle(yolo_input_image,(x,y),(x+w,y+h),color,2)\n",
    "        cv2.putText(yolo_input_image,label+' '+confidence,(x,y+20),font,2,(0,0,255),2 )\n",
    "cv2.imshow('YOLO Input',image)\n",
    "cv2.imshow('YOLO Output',yolo_input_image)\n",
    "cv2.waitKey()\n",
    "cv2.destroyAllWindows()"
   ]
  }
 ],
 "metadata": {
  "kernelspec": {
   "display_name": "Python 3",
   "language": "python",
   "name": "python3"
  },
  "language_info": {
   "codemirror_mode": {
    "name": "ipython",
    "version": 3
   },
   "file_extension": ".py",
   "mimetype": "text/x-python",
   "name": "python",
   "nbconvert_exporter": "python",
   "pygments_lexer": "ipython3",
   "version": "3.8.5"
  }
 },
 "nbformat": 4,
 "nbformat_minor": 4
}
