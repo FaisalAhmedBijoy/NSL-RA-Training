{
 "cells": [
  {
   "cell_type": "markdown",
   "metadata": {},
   "source": [
    "## Import Library"
   ]
  },
  {
   "cell_type": "code",
   "execution_count": 1,
   "metadata": {},
   "outputs": [],
   "source": [
    "import numpy as np\n",
    "import tensorflow as tf\n",
    "from tensorflow import keras\n",
    "from tensorflow.keras import layers"
   ]
  },
  {
   "cell_type": "markdown",
   "metadata": {},
   "source": [
    "## Model with multiple inputs and outputs\n",
    "The functional API makes it easy to manipulate multiple inputs and outputs. This cannot be handled with the <b>Sequential</b> API.\n",
    "\n",
    "For example, if you're building a system for ranking customer issue tickets by priority and routing them to the correct department, then the model will have three inputs:\n",
    "\n",
    "    - the title of the ticket (text input),\n",
    "    - the text body of the ticket (text input), and\n",
    "    - any tags added by the user (categorical input)\n",
    "This model will have two outputs:\n",
    "\n",
    "    - the priority score between 0 and 1 (scalar sigmoid output), and\n",
    "    - the department that should handle the ticket (softmax output over the set of departments)."
   ]
  },
  {
   "cell_type": "code",
   "execution_count": 2,
   "metadata": {},
   "outputs": [],
   "source": [
    "# number of unique issue tags\n",
    "num_tags=12\n",
    "\n",
    "# size of vocabulary obtained when processing text data\n",
    "num_words=10000\n",
    "\n",
    "# number of department for predictions\n",
    "num_departments=4"
   ]
  },
  {
   "cell_type": "markdown",
   "metadata": {},
   "source": [
    "## Define the models inputs"
   ]
  },
  {
   "cell_type": "code",
   "execution_count": 5,
   "metadata": {},
   "outputs": [],
   "source": [
    "#variable length of sequence of ints\n",
    "title_input=keras.Input(shape=(None,),name='title')\n",
    "\n",
    "# variable length\n",
    "body_input=keras.Input(shape=(None,),name='body')\n",
    "\n",
    "#Binary vector of size num tags\n",
    "tags_input=keras.Input(shape=(num_tags,),name='tags')"
   ]
  },
  {
   "cell_type": "markdown",
   "metadata": {},
   "source": [
    "## Define the Features"
   ]
  },
  {
   "cell_type": "code",
   "execution_count": 6,
   "metadata": {},
   "outputs": [],
   "source": [
    "# embed each word in the title into a 64 dimensional vector\n",
    "title_features=layers.Embedding(num_words,64)(title_input)\n",
    "\n",
    "# embed each word in the text into a 64 dimensional vector\n",
    "body_features=layers.Embedding(num_words,64)(body_input)"
   ]
  },
  {
   "cell_type": "code",
   "execution_count": 7,
   "metadata": {},
   "outputs": [],
   "source": [
    "#Reduce the sequence of embeded words in the title into a single 128 D vector\n",
    "title_features=layers.LSTM(128)(title_features)\n",
    "\n",
    "#Reduce the sequence of embeded words in the title into a single 32 D vector\n",
    "body_features=layers.LSTM(32)(body_features)"
   ]
  },
  {
   "cell_type": "markdown",
   "metadata": {},
   "source": [
    "## Merge Layers: Concatenation\n",
    "Merge all available features into a single large vector via concatenation"
   ]
  },
  {
   "cell_type": "code",
   "execution_count": 8,
   "metadata": {},
   "outputs": [],
   "source": [
    "x=layers.concatenate([title_features,body_features,tags_input])"
   ]
  },
  {
   "cell_type": "code",
   "execution_count": 12,
   "metadata": {},
   "outputs": [
    {
     "data": {
      "text/plain": [
       "<bound method Tensor.get_shape of <tf.Tensor 'concatenate/concat:0' shape=(None, 172) dtype=float32>>"
      ]
     },
     "execution_count": 12,
     "metadata": {},
     "output_type": "execute_result"
    }
   ],
   "source": [
    "x.get_shape"
   ]
  },
  {
   "cell_type": "markdown",
   "metadata": {},
   "source": [
    "## Define Model Prediction Layer"
   ]
  },
  {
   "cell_type": "code",
   "execution_count": 13,
   "metadata": {},
   "outputs": [],
   "source": [
    "# stick a logistic regression for priority prediction on top of the features\n",
    "priority_pred=layers.Dense(1,name='priority')(x)\n",
    "\n",
    "# stick a department classifier on top of the features\n",
    "department_pred=layers.Dense(num_departments,name='department')(x)"
   ]
  },
  {
   "cell_type": "markdown",
   "metadata": {},
   "source": [
    "## Compile the model \n",
    "Instantiate an end-to-end model prediction both priority and department"
   ]
  },
  {
   "cell_type": "code",
   "execution_count": 48,
   "metadata": {},
   "outputs": [],
   "source": [
    "model=keras.Model(\n",
    "    inputs=[title_input,body_input,tags_input],\n",
    "    outputs=[priority_pred,department_pred],\n",
    "    name='MultiModel'\n",
    ")"
   ]
  },
  {
   "cell_type": "markdown",
   "metadata": {},
   "source": [
    "## Analysis the model"
   ]
  },
  {
   "cell_type": "code",
   "execution_count": 17,
   "metadata": {},
   "outputs": [
    {
     "name": "stdout",
     "output_type": "stream",
     "text": [
      "Model: \"Multi Model\"\n",
      "__________________________________________________________________________________________________\n",
      "Layer (type)                    Output Shape         Param #     Connected to                     \n",
      "==================================================================================================\n",
      "title (InputLayer)              [(None, None)]       0                                            \n",
      "__________________________________________________________________________________________________\n",
      "body (InputLayer)               [(None, None)]       0                                            \n",
      "__________________________________________________________________________________________________\n",
      "embedding (Embedding)           (None, None, 64)     640000      title[0][0]                      \n",
      "__________________________________________________________________________________________________\n",
      "embedding_1 (Embedding)         (None, None, 64)     640000      body[0][0]                       \n",
      "__________________________________________________________________________________________________\n",
      "lstm (LSTM)                     (None, 128)          98816       embedding[0][0]                  \n",
      "__________________________________________________________________________________________________\n",
      "lstm_1 (LSTM)                   (None, 32)           12416       embedding_1[0][0]                \n",
      "__________________________________________________________________________________________________\n",
      "tags (InputLayer)               [(None, 12)]         0                                            \n",
      "__________________________________________________________________________________________________\n",
      "concatenate (Concatenate)       (None, 172)          0           lstm[0][0]                       \n",
      "                                                                 lstm_1[0][0]                     \n",
      "                                                                 tags[0][0]                       \n",
      "__________________________________________________________________________________________________\n",
      "priority (Dense)                (None, 1)            173         concatenate[0][0]                \n",
      "__________________________________________________________________________________________________\n",
      "department (Dense)              (None, 4)            692         concatenate[0][0]                \n",
      "==================================================================================================\n",
      "Total params: 1,392,097\n",
      "Trainable params: 1,392,097\n",
      "Non-trainable params: 0\n",
      "__________________________________________________________________________________________________\n"
     ]
    }
   ],
   "source": [
    "model.summary()"
   ]
  },
  {
   "cell_type": "code",
   "execution_count": 18,
   "metadata": {},
   "outputs": [
    {
     "data": {
      "image/png": "[encoded data removed]",
      "text/plain": [
       "<IPython.core.display.Image object>"
      ]
     },
     "execution_count": 18,
     "metadata": {},
     "output_type": "execute_result"
    }
   ],
   "source": [
    "keras.utils.plot_model(model,'multi_input_and_output_model.png',show_shapes=True)"
   ]
  },
  {
   "cell_type": "markdown",
   "metadata": {},
   "source": [
    "## Model Compilation\n",
    "When compiling this model, you can assign different losses to each output. You can even assign different weights to each loss -- to modulate their contribution to the total training loss."
   ]
  },
  {
   "cell_type": "code",
   "execution_count": 42,
   "metadata": {},
   "outputs": [
    {
     "data": {
      "text/plain": [
       "'\\n\\nmodel.compile(\\n    optimizer=keras.optimizers.RMSprop(1e-3),\\n    loss=[\\n        keras.losses.BinaryCrossentropy(from_logits=True),\\n        keras.losses.CategoricalCrossentropy(from_logits=True)\\n    ],\\n    loss_weights=[1.0,0.2]\\n\\n)\\n'"
      ]
     },
     "execution_count": 42,
     "metadata": {},
     "output_type": "execute_result"
    }
   ],
   "source": [
    "\"\"\"\n",
    "\n",
    "model.compile(\n",
    "    optimizer=keras.optimizers.RMSprop(1e-3),\n",
    "    loss=[\n",
    "        keras.losses.BinaryCrossentropy(from_logits=True),\n",
    "        keras.losses.CategoricalCrossentropy(from_logits=True)\n",
    "    ],\n",
    "    loss_weights=[1.0,0.2]\n",
    "\n",
    ")\n",
    "\"\"\""
   ]
  },
  {
   "cell_type": "code",
   "execution_count": 49,
   "metadata": {},
   "outputs": [],
   "source": [
    "# Since the model have differentt name, specify the loss like:\n",
    "\n",
    "model.compile(\n",
    "    optimizer=keras.optimizers.RMSprop(1e-3),\n",
    "    loss={\n",
    "        \"priority\": keras.losses.BinaryCrossentropy(from_logits=True),\n",
    "        \"department\": keras.losses.CategoricalCrossentropy(from_logits=True),\n",
    "    },\n",
    "    loss_weights=[1.0, 0.2],\n",
    ")"
   ]
  },
  {
   "cell_type": "markdown",
   "metadata": {},
   "source": [
    "## Prepare input and output for trained the network"
   ]
  },
  {
   "cell_type": "code",
   "execution_count": 21,
   "metadata": {},
   "outputs": [],
   "source": [
    "## Dummy input data\n",
    "title_data=np.random.randint(num_words,size=(1280,10))\n",
    "body_data=np.random.randint(num_words,size=(1280,100))\n",
    "tags_data=np.random.randint(2,size=(1280,num_tags)).astype('float32')"
   ]
  },
  {
   "cell_type": "code",
   "execution_count": 28,
   "metadata": {},
   "outputs": [
    {
     "name": "stdout",
     "output_type": "stream",
     "text": [
      "(1280, 10)\n"
     ]
    },
    {
     "data": {
      "text/plain": [
       "array([5791, 1486, 9700, 1269, 9254, 3751, 8667, 7650, 4904, 2488])"
      ]
     },
     "execution_count": 28,
     "metadata": {},
     "output_type": "execute_result"
    }
   ],
   "source": [
    "print(title_data.shape)\n",
    "title_data[0]"
   ]
  },
  {
   "cell_type": "code",
   "execution_count": 29,
   "metadata": {},
   "outputs": [
    {
     "name": "stdout",
     "output_type": "stream",
     "text": [
      "(1280, 100)\n"
     ]
    },
    {
     "data": {
      "text/plain": [
       "array([5134, 8400, 9191, 1725, 7973,  611, 3280, 5086, 8238, 4851, 8401,\n",
       "        991,  383, 2770, 3919, 8442, 8501,  518, 9927, 2488, 3412, 1412,\n",
       "        959, 7061, 2448, 6664, 9874,  845, 2751, 4739, 5371, 8725, 9011,\n",
       "       9959, 5734,  273,  314, 2719, 5837,  309, 4206,  712,  443, 7541,\n",
       "       1560, 6814, 6793, 5563, 8535, 4111, 8097, 5519, 6027,  481, 8928,\n",
       "       2934,  659, 2051, 7118, 4395, 4505, 3009, 7035, 9911, 6061, 8699,\n",
       "       9011, 1855, 2968, 1404, 4702, 3427, 1565,  953, 5412, 6954, 9404,\n",
       "       4117, 9439, 8094, 3810, 6957, 9843, 6796, 9758, 3091, 1827, 2029,\n",
       "       8296, 4579, 4400, 2768, 2709, 9452, 3196, 2731, 7619, 8684, 9746,\n",
       "       9776])"
      ]
     },
     "execution_count": 29,
     "metadata": {},
     "output_type": "execute_result"
    }
   ],
   "source": [
    "print(body_data.shape)\n",
    "body_data[0]"
   ]
  },
  {
   "cell_type": "code",
   "execution_count": 30,
   "metadata": {
    "scrolled": true
   },
   "outputs": [
    {
     "name": "stdout",
     "output_type": "stream",
     "text": [
      "(1280, 12)\n"
     ]
    },
    {
     "data": {
      "text/plain": [
       "array([0., 0., 1., 0., 1., 0., 0., 0., 1., 0., 0., 1.], dtype=float32)"
      ]
     },
     "execution_count": 30,
     "metadata": {},
     "output_type": "execute_result"
    }
   ],
   "source": [
    "print(tags_data.shape)\n",
    "tags_data[0]"
   ]
  },
  {
   "cell_type": "code",
   "execution_count": 32,
   "metadata": {},
   "outputs": [],
   "source": [
    "## Dummpy target data\n",
    "priority_targets=np.random.random(size=(1280,1))\n",
    "dept_targets=np.random.randint(2,size=(1280,num_departments))"
   ]
  },
  {
   "cell_type": "code",
   "execution_count": 34,
   "metadata": {},
   "outputs": [
    {
     "name": "stdout",
     "output_type": "stream",
     "text": [
      "(1280, 1)\n"
     ]
    },
    {
     "data": {
      "text/plain": [
       "array([0.72158879])"
      ]
     },
     "execution_count": 34,
     "metadata": {},
     "output_type": "execute_result"
    }
   ],
   "source": [
    "print(priority_targets.shape)\n",
    "priority_targets[0]"
   ]
  },
  {
   "cell_type": "code",
   "execution_count": 35,
   "metadata": {
    "scrolled": true
   },
   "outputs": [
    {
     "name": "stdout",
     "output_type": "stream",
     "text": [
      "(1280, 4)\n"
     ]
    },
    {
     "data": {
      "text/plain": [
       "array([1, 0, 0, 1])"
      ]
     },
     "execution_count": 35,
     "metadata": {},
     "output_type": "execute_result"
    }
   ],
   "source": [
    "print(dept_targets.shape)\n",
    "dept_targets[0]\n"
   ]
  },
  {
   "cell_type": "markdown",
   "metadata": {},
   "source": [
    "## Trained Model"
   ]
  },
  {
   "cell_type": "code",
   "execution_count": 51,
   "metadata": {
    "scrolled": true
   },
   "outputs": [
    {
     "name": "stdout",
     "output_type": "stream",
     "text": [
      "Epoch 1/10\n",
      "40/40 [==============================] - 1s 24ms/step - loss: 1.2551 - priority_loss: 0.7005 - department_loss: 2.7733\n",
      "Epoch 2/10\n",
      "40/40 [==============================] - 1s 30ms/step - loss: 1.2544 - priority_loss: 0.7001 - department_loss: 2.7713\n",
      "Epoch 3/10\n",
      "40/40 [==============================] - 2s 45ms/step - loss: 1.2531 - priority_loss: 0.6994 - department_loss: 2.7684\n",
      "Epoch 4/10\n",
      "40/40 [==============================] - 1s 37ms/step - loss: 1.2474 - priority_loss: 0.6937 - department_loss: 2.7684\n",
      "Epoch 5/10\n",
      "40/40 [==============================] - 1s 24ms/step - loss: 1.2454 - priority_loss: 0.6915 - department_loss: 2.7694\n",
      "Epoch 6/10\n",
      "40/40 [==============================] - 1s 28ms/step - loss: 1.2472 - priority_loss: 0.6943 - department_loss: 2.7645\n",
      "Epoch 7/10\n",
      "40/40 [==============================] - 2s 45ms/step - loss: 1.2437 - priority_loss: 0.6936 - department_loss: 2.7508\n",
      "Epoch 8/10\n",
      "40/40 [==============================] - 2s 38ms/step - loss: 1.2427 - priority_loss: 0.6935 - department_loss: 2.7459\n",
      "Epoch 9/10\n",
      "40/40 [==============================] - 1s 24ms/step - loss: 1.2438 - priority_loss: 0.6962 - department_loss: 2.7381\n",
      "Epoch 10/10\n",
      "40/40 [==============================] - 1s 25ms/step - loss: 1.2435 - priority_loss: 0.6956 - department_loss: 2.7396\n"
     ]
    },
    {
     "data": {
      "text/plain": [
       "<tensorflow.python.keras.callbacks.History at 0x20dc8f5f4f0>"
      ]
     },
     "execution_count": 51,
     "metadata": {},
     "output_type": "execute_result"
    }
   ],
   "source": [
    "model.fit(\n",
    "    {\"title\": title_data, \"body\": body_data, \"tags\": tags_data},\n",
    "    {\"priority\": priority_targets, \"department\": dept_targets},\n",
    "    epochs=10,\n",
    "    batch_size=32,\n",
    ")"
   ]
  },
  {
   "cell_type": "markdown",
   "metadata": {},
   "source": [
    "## Saved Moded"
   ]
  },
  {
   "cell_type": "code",
   "execution_count": 56,
   "metadata": {},
   "outputs": [
    {
     "name": "stdout",
     "output_type": "stream",
     "text": [
      "Saved Model/MultiGraphModel_1620543935.h5\n"
     ]
    }
   ],
   "source": [
    "import time\n",
    "t=time.time()\n",
    "model_path='Saved Model/MultiGraphModel_{}.h5'.format(int(t))\n",
    "print(model_path)"
   ]
  },
  {
   "cell_type": "code",
   "execution_count": 57,
   "metadata": {},
   "outputs": [],
   "source": [
    "model.save(model_path)"
   ]
  },
  {
   "cell_type": "markdown",
   "metadata": {},
   "source": [
    "## Load Model"
   ]
  },
  {
   "cell_type": "code",
   "execution_count": 59,
   "metadata": {},
   "outputs": [
    {
     "name": "stdout",
     "output_type": "stream",
     "text": [
      "Model: \"MultiModel\"\n",
      "__________________________________________________________________________________________________\n",
      "Layer (type)                    Output Shape         Param #     Connected to                     \n",
      "==================================================================================================\n",
      "title (InputLayer)              [(None, None)]       0                                            \n",
      "__________________________________________________________________________________________________\n",
      "body (InputLayer)               [(None, None)]       0                                            \n",
      "__________________________________________________________________________________________________\n",
      "embedding (Embedding)           (None, None, 64)     640000      title[0][0]                      \n",
      "__________________________________________________________________________________________________\n",
      "embedding_1 (Embedding)         (None, None, 64)     640000      body[0][0]                       \n",
      "__________________________________________________________________________________________________\n",
      "lstm (LSTM)                     (None, 128)          98816       embedding[0][0]                  \n",
      "__________________________________________________________________________________________________\n",
      "lstm_1 (LSTM)                   (None, 32)           12416       embedding_1[0][0]                \n",
      "__________________________________________________________________________________________________\n",
      "tags (InputLayer)               [(None, 12)]         0                                            \n",
      "__________________________________________________________________________________________________\n",
      "concatenate (Concatenate)       (None, 172)          0           lstm[0][0]                       \n",
      "                                                                 lstm_1[0][0]                     \n",
      "                                                                 tags[0][0]                       \n",
      "__________________________________________________________________________________________________\n",
      "priority (Dense)                (None, 1)            173         concatenate[0][0]                \n",
      "__________________________________________________________________________________________________\n",
      "department (Dense)              (None, 4)            692         concatenate[0][0]                \n",
      "==================================================================================================\n",
      "Total params: 1,392,097\n",
      "Trainable params: 1,392,097\n",
      "Non-trainable params: 0\n",
      "__________________________________________________________________________________________________\n"
     ]
    }
   ],
   "source": [
    "reload_model=keras.models.load_model(model_path)\n",
    "reload_model.summary()"
   ]
  }
 ],
 "metadata": {
  "kernelspec": {
   "display_name": "Python 3",
   "language": "python",
   "name": "python3"
  },
  "language_info": {
   "codemirror_mode": {
    "name": "ipython",
    "version": 3
   },
   "file_extension": ".py",
   "mimetype": "text/x-python",
   "name": "python",
   "nbconvert_exporter": "python",
   "pygments_lexer": "ipython3",
   "version": "3.8.5"
  }
 },
 "nbformat": 4,
 "nbformat_minor": 4
}
