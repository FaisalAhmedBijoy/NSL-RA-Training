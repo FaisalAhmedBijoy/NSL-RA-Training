{
 "cells": [
  {
   "cell_type": "markdown",
   "metadata": {},
   "source": [
    "## Import Library"
   ]
  },
  {
   "cell_type": "code",
   "execution_count": 1,
   "metadata": {},
   "outputs": [],
   "source": [
    "import string"
   ]
  },
  {
   "cell_type": "code",
   "execution_count": 2,
   "metadata": {
    "scrolled": false
   },
   "outputs": [
    {
     "data": {
      "text/plain": [
       "'As I was waiting, a man came out of a side room, and at a glance I was sure he must be Long John. His left leg was cut off close by the hip, and under the left shoulder he carried a crutch, which he managed with wonderful dexterity, hopping about upon it like a bird. He was very tall and strong, with a face as big as a ham—plain and pale, but intelligent and smiling. Indeed, he seemed in the most cheerful spirits, whistling as he moved about among the tables, with a merry word or a slap on the shoulder for the more favoured of his guests.'"
      ]
     },
     "execution_count": 2,
     "metadata": {},
     "output_type": "execute_result"
    }
   ],
   "source": [
    "text='As I was waiting, a man came out of a side room, and at a glance I was sure he must be Long John. His left leg was cut off close by the hip, and under the left shoulder he carried a crutch, which he managed with wonderful dexterity, hopping about upon it like a bird. He was very tall and strong, with a face as big as a ham—plain and pale, but intelligent and smiling. Indeed, he seemed in the most cheerful spirits, whistling as he moved about among the tables, with a merry word or a slap on the shoulder for the more favoured of his guests.'\n",
    "text"
   ]
  },
  {
   "cell_type": "markdown",
   "metadata": {},
   "source": [
    "## Word Counting Function"
   ]
  },
  {
   "cell_type": "code",
   "execution_count": 3,
   "metadata": {},
   "outputs": [],
   "source": [
    "def count_words(text):\n",
    "    text=text.lower()\n",
    "    print(text)\n",
    "    without_punctuation=\"\"\n",
    "    counter={}\n",
    "    for char in text:\n",
    "        if char not in string.punctuation:\n",
    "            without_punctuation=without_punctuation+char\n",
    "    print(without_punctuation)\n",
    "    text_split=without_punctuation.split(\" \")\n",
    "    print(text_split)\n",
    "    for word in text_split:\n",
    "        if word in counter:\n",
    "            counter[word]+=1\n",
    "        else:\n",
    "            counter[word]=1\n",
    "    #print(counter)\n",
    "    return counter"
   ]
  },
  {
   "cell_type": "code",
   "execution_count": 4,
   "metadata": {},
   "outputs": [
    {
     "name": "stdout",
     "output_type": "stream",
     "text": [
      "as i was waiting, a man came out of a side room, and at a glance i was sure he must be long john. his left leg was cut off close by the hip, and under the left shoulder he carried a crutch, which he managed with wonderful dexterity, hopping about upon it like a bird. he was very tall and strong, with a face as big as a ham—plain and pale, but intelligent and smiling. indeed, he seemed in the most cheerful spirits, whistling as he moved about among the tables, with a merry word or a slap on the shoulder for the more favoured of his guests.\n",
      "as i was waiting a man came out of a side room and at a glance i was sure he must be long john his left leg was cut off close by the hip and under the left shoulder he carried a crutch which he managed with wonderful dexterity hopping about upon it like a bird he was very tall and strong with a face as big as a ham—plain and pale but intelligent and smiling indeed he seemed in the most cheerful spirits whistling as he moved about among the tables with a merry word or a slap on the shoulder for the more favoured of his guests\n",
      "['as', 'i', 'was', 'waiting', 'a', 'man', 'came', 'out', 'of', 'a', 'side', 'room', 'and', 'at', 'a', 'glance', 'i', 'was', 'sure', 'he', 'must', 'be', 'long', 'john', 'his', 'left', 'leg', 'was', 'cut', 'off', 'close', 'by', 'the', 'hip', 'and', 'under', 'the', 'left', 'shoulder', 'he', 'carried', 'a', 'crutch', 'which', 'he', 'managed', 'with', 'wonderful', 'dexterity', 'hopping', 'about', 'upon', 'it', 'like', 'a', 'bird', 'he', 'was', 'very', 'tall', 'and', 'strong', 'with', 'a', 'face', 'as', 'big', 'as', 'a', 'ham—plain', 'and', 'pale', 'but', 'intelligent', 'and', 'smiling', 'indeed', 'he', 'seemed', 'in', 'the', 'most', 'cheerful', 'spirits', 'whistling', 'as', 'he', 'moved', 'about', 'among', 'the', 'tables', 'with', 'a', 'merry', 'word', 'or', 'a', 'slap', 'on', 'the', 'shoulder', 'for', 'the', 'more', 'favoured', 'of', 'his', 'guests']\n",
      "{'as': 4, 'i': 2, 'was': 4, 'waiting': 1, 'a': 9, 'man': 1, 'came': 1, 'out': 1, 'of': 2, 'side': 1, 'room': 1, 'and': 5, 'at': 1, 'glance': 1, 'sure': 1, 'he': 6, 'must': 1, 'be': 1, 'long': 1, 'john': 1, 'his': 2, 'left': 2, 'leg': 1, 'cut': 1, 'off': 1, 'close': 1, 'by': 1, 'the': 6, 'hip': 1, 'under': 1, 'shoulder': 2, 'carried': 1, 'crutch': 1, 'which': 1, 'managed': 1, 'with': 3, 'wonderful': 1, 'dexterity': 1, 'hopping': 1, 'about': 2, 'upon': 1, 'it': 1, 'like': 1, 'bird': 1, 'very': 1, 'tall': 1, 'strong': 1, 'face': 1, 'big': 1, 'ham—plain': 1, 'pale': 1, 'but': 1, 'intelligent': 1, 'smiling': 1, 'indeed': 1, 'seemed': 1, 'in': 1, 'most': 1, 'cheerful': 1, 'spirits': 1, 'whistling': 1, 'moved': 1, 'among': 1, 'tables': 1, 'merry': 1, 'word': 1, 'or': 1, 'slap': 1, 'on': 1, 'for': 1, 'more': 1, 'favoured': 1, 'guests': 1}\n"
     ]
    }
   ],
   "source": [
    "total_words=count_words(text) \n",
    "print(total_words)"
   ]
  },
  {
   "cell_type": "code",
   "execution_count": 5,
   "metadata": {
    "scrolled": false
   },
   "outputs": [
    {
     "data": {
      "text/plain": [
       "{'as': 4,\n",
       " 'i': 2,\n",
       " 'was': 4,\n",
       " 'waiting': 1,\n",
       " 'a': 9,\n",
       " 'man': 1,\n",
       " 'came': 1,\n",
       " 'out': 1,\n",
       " 'of': 2,\n",
       " 'side': 1,\n",
       " 'room': 1,\n",
       " 'and': 5,\n",
       " 'at': 1,\n",
       " 'glance': 1,\n",
       " 'sure': 1,\n",
       " 'he': 6,\n",
       " 'must': 1,\n",
       " 'be': 1,\n",
       " 'long': 1,\n",
       " 'john': 1,\n",
       " 'his': 2,\n",
       " 'left': 2,\n",
       " 'leg': 1,\n",
       " 'cut': 1,\n",
       " 'off': 1,\n",
       " 'close': 1,\n",
       " 'by': 1,\n",
       " 'the': 6,\n",
       " 'hip': 1,\n",
       " 'under': 1,\n",
       " 'shoulder': 2,\n",
       " 'carried': 1,\n",
       " 'crutch': 1,\n",
       " 'which': 1,\n",
       " 'managed': 1,\n",
       " 'with': 3,\n",
       " 'wonderful': 1,\n",
       " 'dexterity': 1,\n",
       " 'hopping': 1,\n",
       " 'about': 2,\n",
       " 'upon': 1,\n",
       " 'it': 1,\n",
       " 'like': 1,\n",
       " 'bird': 1,\n",
       " 'very': 1,\n",
       " 'tall': 1,\n",
       " 'strong': 1,\n",
       " 'face': 1,\n",
       " 'big': 1,\n",
       " 'ham—plain': 1,\n",
       " 'pale': 1,\n",
       " 'but': 1,\n",
       " 'intelligent': 1,\n",
       " 'smiling': 1,\n",
       " 'indeed': 1,\n",
       " 'seemed': 1,\n",
       " 'in': 1,\n",
       " 'most': 1,\n",
       " 'cheerful': 1,\n",
       " 'spirits': 1,\n",
       " 'whistling': 1,\n",
       " 'moved': 1,\n",
       " 'among': 1,\n",
       " 'tables': 1,\n",
       " 'merry': 1,\n",
       " 'word': 1,\n",
       " 'or': 1,\n",
       " 'slap': 1,\n",
       " 'on': 1,\n",
       " 'for': 1,\n",
       " 'more': 1,\n",
       " 'favoured': 1,\n",
       " 'guests': 1}"
      ]
     },
     "execution_count": 5,
     "metadata": {},
     "output_type": "execute_result"
    }
   ],
   "source": [
    "total_words"
   ]
  },
  {
   "cell_type": "markdown",
   "metadata": {},
   "source": [
    "## Sorted the word"
   ]
  },
  {
   "cell_type": "code",
   "execution_count": 6,
   "metadata": {
    "scrolled": true
   },
   "outputs": [
    {
     "name": "stdout",
     "output_type": "stream",
     "text": [
      "[('a', 9), ('he', 6), ('the', 6), ('and', 5), ('as', 4), ('was', 4), ('with', 3), ('i', 2), ('of', 2), ('his', 2), ('left', 2), ('shoulder', 2), ('about', 2), ('waiting', 1), ('man', 1), ('came', 1), ('out', 1), ('side', 1), ('room', 1), ('at', 1), ('glance', 1), ('sure', 1), ('must', 1), ('be', 1), ('long', 1), ('john', 1), ('leg', 1), ('cut', 1), ('off', 1), ('close', 1), ('by', 1), ('hip', 1), ('under', 1), ('carried', 1), ('crutch', 1), ('which', 1), ('managed', 1), ('wonderful', 1), ('dexterity', 1), ('hopping', 1), ('upon', 1), ('it', 1), ('like', 1), ('bird', 1), ('very', 1), ('tall', 1), ('strong', 1), ('face', 1), ('big', 1), ('ham—plain', 1), ('pale', 1), ('but', 1), ('intelligent', 1), ('smiling', 1), ('indeed', 1), ('seemed', 1), ('in', 1), ('most', 1), ('cheerful', 1), ('spirits', 1), ('whistling', 1), ('moved', 1), ('among', 1), ('tables', 1), ('merry', 1), ('word', 1), ('or', 1), ('slap', 1), ('on', 1), ('for', 1), ('more', 1), ('favoured', 1), ('guests', 1)]\n"
     ]
    }
   ],
   "source": [
    "sorted_words=sorted(total_words.items(),key= lambda x:x[1],reverse=True)\n",
    "print(sorted_words)"
   ]
  },
  {
   "cell_type": "code",
   "execution_count": 7,
   "metadata": {
    "scrolled": false
   },
   "outputs": [
    {
     "name": "stdout",
     "output_type": "stream",
     "text": [
      "('a', 9)\n",
      "('he', 6)\n",
      "('the', 6)\n",
      "('and', 5)\n",
      "('as', 4)\n",
      "('was', 4)\n",
      "('with', 3)\n",
      "('i', 2)\n",
      "('of', 2)\n",
      "('his', 2)\n",
      "('left', 2)\n",
      "('shoulder', 2)\n",
      "('about', 2)\n",
      "('waiting', 1)\n",
      "('man', 1)\n",
      "('came', 1)\n",
      "('out', 1)\n",
      "('side', 1)\n",
      "('room', 1)\n",
      "('at', 1)\n",
      "('glance', 1)\n",
      "('sure', 1)\n",
      "('must', 1)\n",
      "('be', 1)\n",
      "('long', 1)\n",
      "('john', 1)\n",
      "('leg', 1)\n",
      "('cut', 1)\n",
      "('off', 1)\n",
      "('close', 1)\n",
      "('by', 1)\n",
      "('hip', 1)\n",
      "('under', 1)\n",
      "('carried', 1)\n",
      "('crutch', 1)\n",
      "('which', 1)\n",
      "('managed', 1)\n",
      "('wonderful', 1)\n",
      "('dexterity', 1)\n",
      "('hopping', 1)\n",
      "('upon', 1)\n",
      "('it', 1)\n",
      "('like', 1)\n",
      "('bird', 1)\n",
      "('very', 1)\n",
      "('tall', 1)\n",
      "('strong', 1)\n",
      "('face', 1)\n",
      "('big', 1)\n",
      "('ham—plain', 1)\n",
      "('pale', 1)\n",
      "('but', 1)\n",
      "('intelligent', 1)\n",
      "('smiling', 1)\n",
      "('indeed', 1)\n",
      "('seemed', 1)\n",
      "('in', 1)\n",
      "('most', 1)\n",
      "('cheerful', 1)\n",
      "('spirits', 1)\n",
      "('whistling', 1)\n",
      "('moved', 1)\n",
      "('among', 1)\n",
      "('tables', 1)\n",
      "('merry', 1)\n",
      "('word', 1)\n",
      "('or', 1)\n",
      "('slap', 1)\n",
      "('on', 1)\n",
      "('for', 1)\n",
      "('more', 1)\n",
      "('favoured', 1)\n",
      "('guests', 1)\n"
     ]
    }
   ],
   "source": [
    "for word in sorted_words:\n",
    "    print (word)"
   ]
  },
  {
   "cell_type": "markdown",
   "metadata": {},
   "source": [
    "## First 10 sorted word"
   ]
  },
  {
   "cell_type": "code",
   "execution_count": 8,
   "metadata": {
    "scrolled": false
   },
   "outputs": [
    {
     "name": "stdout",
     "output_type": "stream",
     "text": [
      "('a', 9)\n",
      "('he', 6)\n",
      "('the', 6)\n",
      "('and', 5)\n",
      "('as', 4)\n",
      "('was', 4)\n",
      "('with', 3)\n",
      "('i', 2)\n",
      "('of', 2)\n",
      "('his', 2)\n"
     ]
    }
   ],
   "source": [
    "for word in sorted_words[:10]:\n",
    "    print (word)"
   ]
  },
  {
   "cell_type": "markdown",
   "metadata": {},
   "source": [
    "## Last 10 sorted word"
   ]
  },
  {
   "cell_type": "code",
   "execution_count": 10,
   "metadata": {},
   "outputs": [
    {
     "name": "stdout",
     "output_type": "stream",
     "text": [
      "('tables', 1)\n",
      "('merry', 1)\n",
      "('word', 1)\n",
      "('or', 1)\n",
      "('slap', 1)\n",
      "('on', 1)\n",
      "('for', 1)\n",
      "('more', 1)\n",
      "('favoured', 1)\n",
      "('guests', 1)\n"
     ]
    }
   ],
   "source": [
    "for word in sorted_words[-10:]:\n",
    "    print (word)"
   ]
  }
 ],
 "metadata": {
  "kernelspec": {
   "display_name": "Python 3",
   "language": "python",
   "name": "python3"
  },
  "language_info": {
   "codemirror_mode": {
    "name": "ipython",
    "version": 3
   },
   "file_extension": ".py",
   "mimetype": "text/x-python",
   "name": "python",
   "nbconvert_exporter": "python",
   "pygments_lexer": "ipython3",
   "version": "3.8.5"
  }
 },
 "nbformat": 4,
 "nbformat_minor": 4
}
