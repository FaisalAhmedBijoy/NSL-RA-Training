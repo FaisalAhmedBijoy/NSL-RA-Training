{
 "cells": [
  {
   "cell_type": "markdown",
   "metadata": {},
   "source": [
    "## Resource\n",
    "\n",
    "https://www.datacamp.com/community/tutorials/text-analytics-beginners-nltk"
   ]
  },
  {
   "cell_type": "markdown",
   "metadata": {},
   "source": [
    "Stopwords considered as noise in the text. Text may contain stop words such as is, am, are, this, a, an, the, etc.\n"
   ]
  },
  {
   "cell_type": "code",
   "execution_count": 29,
   "metadata": {},
   "outputs": [],
   "source": [
    "import nltk"
   ]
  },
  {
   "cell_type": "code",
   "execution_count": 30,
   "metadata": {
    "scrolled": false
   },
   "outputs": [],
   "source": [
    "from nltk.corpus import stopwords\n",
    "stop_words=set(stopwords.words('english'))"
   ]
  },
  {
   "cell_type": "markdown",
   "metadata": {},
   "source": [
    "## Download the stops words"
   ]
  },
  {
   "cell_type": "code",
   "execution_count": 31,
   "metadata": {},
   "outputs": [
    {
     "name": "stderr",
     "output_type": "stream",
     "text": [
      "[nltk_data] Downloading package stopwords to\n",
      "[nltk_data]     C:\\Users\\Shimul\\AppData\\Roaming\\nltk_data...\n",
      "[nltk_data]   Package stopwords is already up-to-date!\n"
     ]
    },
    {
     "data": {
      "text/plain": [
       "True"
      ]
     },
     "execution_count": 31,
     "metadata": {},
     "output_type": "execute_result"
    }
   ],
   "source": [
    "nltk.download('stopwords')"
   ]
  },
  {
   "cell_type": "code",
   "execution_count": 32,
   "metadata": {},
   "outputs": [],
   "source": [
    "from nltk.corpus import stopwords\n",
    "stop_words=set(stopwords.words('english'))"
   ]
  },
  {
   "cell_type": "code",
   "execution_count": 33,
   "metadata": {
    "scrolled": false
   },
   "outputs": [
    {
     "name": "stdout",
     "output_type": "stream",
     "text": [
      "{'not', 'its', 's', 'very', 'was', 'do', 'i', \"aren't\", 'there', \"should've\", \"hadn't\", \"haven't\", 'them', 'by', 'after', 'for', 'or', 'has', 'd', 'out', 'have', 'between', 'ain', 'but', 'yourselves', 'be', 'again', 'll', 'been', 'aren', 'at', 'mustn', 'can', 'mightn', 'hasn', 'to', 'same', 'than', 'here', 'ours', 'up', 'some', 'should', 'didn', 'over', 'yours', 'are', 'too', 'ma', 'before', 'weren', 'and', 'itself', 'from', \"couldn't\", 'when', \"you're\", 'himself', 'any', 'so', 'myself', 'my', 'all', 'hadn', \"won't\", 'above', 'is', \"you've\", \"it's\", 'wouldn', 'doesn', 'does', 'if', \"shan't\", 'once', 'such', 'doing', 'her', 'as', 'don', \"she's\", 'with', 'whom', 'where', 'theirs', 'will', 'couldn', 'now', 'they', 'both', 'most', \"don't\", 'we', \"you'd\", 'through', 'shouldn', \"that'll\", 'haven', 'o', 'until', 'during', 'other', 'just', 'him', \"doesn't\", 'in', \"shouldn't\", 'she', \"wasn't\", 'under', 'more', 'below', 'no', 'that', 'ourselves', 'only', 'am', 'about', 'shan', 'wasn', 'he', 'm', \"didn't\", 'while', 'few', \"you'll\", 't', 'it', 'what', 'each', \"wouldn't\", 'you', 'because', 've', 'herself', 'his', 'nor', 'into', 'which', 'a', \"hasn't\", 'who', \"isn't\", \"weren't\", 'further', 'those', 'on', 'own', 'these', 'isn', 'the', 'how', 'against', 'then', 're', 'me', \"mustn't\", 'off', 'of', \"mightn't\", 'this', 'did', 'y', 'needn', 'why', 'being', 'having', \"needn't\", 'won', 'yourself', 'had', 'down', 'were', 'your', 'hers', 'themselves', 'our', 'an', 'their'}\n"
     ]
    }
   ],
   "source": [
    "print(stop_words)"
   ]
  },
  {
   "cell_type": "markdown",
   "metadata": {},
   "source": [
    "## Sentence Tokenization"
   ]
  },
  {
   "cell_type": "code",
   "execution_count": 34,
   "metadata": {},
   "outputs": [],
   "source": [
    "from nltk.tokenize import sent_tokenize"
   ]
  },
  {
   "cell_type": "code",
   "execution_count": 40,
   "metadata": {},
   "outputs": [
    {
     "name": "stdout",
     "output_type": "stream",
     "text": [
      "[\"I'm Faisal Ahmed Bijoy.\", \"I'm a student of  Department of CSE, KUET, Khulna.\", 'I live in Khulna.', 'I should learn Machine Learning.', 'I am an Engineer.']\n"
     ]
    }
   ],
   "source": [
    "text=\"I'm Faisal Ahmed Bijoy. I'm a student of  Department of CSE, KUET, Khulna. I live in Khulna.  I should learn Machine Learning. I am an Engineer.\" \n",
    "tokenization_sent=sent_tokenize(text)\n",
    "print(tokenization_sent)"
   ]
  },
  {
   "cell_type": "markdown",
   "metadata": {},
   "source": [
    "## Remove Stopwords"
   ]
  },
  {
   "cell_type": "code",
   "execution_count": 36,
   "metadata": {
    "scrolled": true
   },
   "outputs": [
    {
     "name": "stdout",
     "output_type": "stream",
     "text": [
      "I'm Faisal Ahmed Bijoy.\n",
      "I'm a student of  Department of CSE, KUET, Khulna.\n",
      "I live in Khulna.\n",
      "I should learn Machine Learning.\n",
      "I am an Engineer.\n"
     ]
    }
   ],
   "source": [
    "filtered_sent=[]\n",
    "for w in tokenization_sent:\n",
    "    print(w)"
   ]
  },
  {
   "cell_type": "code",
   "execution_count": 37,
   "metadata": {},
   "outputs": [],
   "source": [
    "filtered_sent=[]\n",
    "for w in tokenization_sent:\n",
    "    if w not in stop_words:\n",
    "        filtered_sent.append(w)\n",
    "        "
   ]
  },
  {
   "cell_type": "code",
   "execution_count": 38,
   "metadata": {
    "scrolled": true
   },
   "outputs": [
    {
     "name": "stdout",
     "output_type": "stream",
     "text": [
      "Tokenized Sentence:  [\"I'm Faisal Ahmed Bijoy.\", \"I'm a student of  Department of CSE, KUET, Khulna.\", 'I live in Khulna.', 'I should learn Machine Learning.', 'I am an Engineer.']\n",
      "\n",
      "\n",
      "Filtered Sentence:  [\"I'm Faisal Ahmed Bijoy.\", \"I'm a student of  Department of CSE, KUET, Khulna.\", 'I live in Khulna.', 'I should learn Machine Learning.', 'I am an Engineer.']\n"
     ]
    }
   ],
   "source": [
    "print(\"Tokenized Sentence: \",tokenization_sent)\n",
    "print(\"\\n\")\n",
    "print(\"Filtered Sentence: \",filtered_sent)"
   ]
  },
  {
   "cell_type": "code",
   "execution_count": null,
   "metadata": {},
   "outputs": [],
   "source": []
  }
 ],
 "metadata": {
  "kernelspec": {
   "display_name": "Python 3",
   "language": "python",
   "name": "python3"
  },
  "language_info": {
   "codemirror_mode": {
    "name": "ipython",
    "version": 3
   },
   "file_extension": ".py",
   "mimetype": "text/x-python",
   "name": "python",
   "nbconvert_exporter": "python",
   "pygments_lexer": "ipython3",
   "version": "3.8.5"
  }
 },
 "nbformat": 4,
 "nbformat_minor": 4
}
