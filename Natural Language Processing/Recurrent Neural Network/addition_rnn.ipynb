{
  "nbformat": 4,
  "nbformat_minor": 0,
  "metadata": {
    "colab": {
      "name": "addition_rnn",
      "provenance": [],
      "collapsed_sections": [],
      "toc_visible": true
    },
    "kernelspec": {
      "display_name": "Python 3",
      "language": "python",
      "name": "python3"
    },
    "language_info": {
      "codemirror_mode": {
        "name": "ipython",
        "version": 3
      },
      "file_extension": ".py",
      "mimetype": "text/x-python",
      "name": "python",
      "nbconvert_exporter": "python",
      "pygments_lexer": "ipython3",
      "version": "3.7.0"
    }
  },
  "cells": [
    {
      "cell_type": "markdown",
      "metadata": {
        "id": "WPgn_0gbBiPk"
      },
      "source": [
        "# Sequence to sequence learning for performing number addition\n",
        "\n",
        "**Author:** [Smerity](https://twitter.com/Smerity) and others<br>\n",
        "**Date created:** 2015/08/17<br>\n",
        "**Last modified:** 2020/04/17<br>\n",
        "**Description:** A model that learns to add strings of numbers, e.g. \"535+61\" -> \"596\"."
      ]
    },
    {
      "cell_type": "markdown",
      "metadata": {
        "id": "iQEMCdxQBiPv"
      },
      "source": [
        "## Introduction\n",
        "\n",
        "In this example, we train a model to learn to add two numbers, provided as strings.\n",
        "\n",
        "**Example:**\n",
        "\n",
        "- Input: \"535+61\"\n",
        "- Output: \"596\"\n",
        "\n",
        "Input may optionally be reversed, which was shown to increase performance in many tasks\n",
        " in: [Learning to Execute](http://arxiv.org/abs/1410.4615) and\n",
        "[Sequence to Sequence Learning with Neural Networks](\n",
        "\n",
        " http://papers.nips.cc/paper/5346-sequence-to-sequence-learning-with-neural-networks.pdf)\n",
        "\n",
        "Theoretically, sequence order inversion introduces shorter term dependencies between\n",
        " source and target for this problem.\n",
        "\n",
        "**Results:**\n",
        "\n",
        "For two digits (reversed):\n",
        "\n",
        "+ One layer LSTM (128 HN), 5k training examples = 99% train/test accuracy in 55 epochs\n",
        "\n",
        "Three digits (reversed):\n",
        "\n",
        "+ One layer LSTM (128 HN), 50k training examples = 99% train/test accuracy in 100 epochs\n",
        "\n",
        "Four digits (reversed):\n",
        "\n",
        "+ One layer LSTM (128 HN), 400k training examples = 99% train/test accuracy in 20 epochs\n",
        "\n",
        "Five digits (reversed):\n",
        "\n",
        "+ One layer LSTM (128 HN), 550k training examples = 99% train/test accuracy in 30 epochs\n"
      ]
    },
    {
      "cell_type": "markdown",
      "metadata": {
        "id": "k_UV9vCuBiP1"
      },
      "source": [
        "## Setup\n"
      ]
    },
    {
      "cell_type": "code",
      "metadata": {
        "id": "u9l-mFYUBiP3"
      },
      "source": [
        "from tensorflow import keras\n",
        "from tensorflow.keras import layers\n",
        "import numpy as np\n",
        "\n",
        "# Parameters for the model and dataset.\n",
        "TRAINING_SIZE = 50000\n",
        "DIGITS = 3\n",
        "REVERSE = True\n",
        "\n",
        "# Maximum length of input is 'int + int' (e.g., '345+678'). Maximum length of\n",
        "# int is DIGITS.\n",
        "MAXLEN = DIGITS + 1 + DIGITS\n"
      ],
      "execution_count": 1,
      "outputs": []
    },
    {
      "cell_type": "markdown",
      "metadata": {
        "id": "w0frDiYYBiP6"
      },
      "source": [
        "## Generate the data\n"
      ]
    },
    {
      "cell_type": "code",
      "metadata": {
        "id": "xnEgnWqkBiP7",
        "outputId": "661276cc-9fdb-4cd8-8f8f-62e02327f835",
        "colab": {
          "base_uri": "https://localhost:8080/"
        }
      },
      "source": [
        "\n",
        "class CharacterTable:\n",
        "    \"\"\"Given a set of characters:\n",
        "    + Encode them to a one-hot integer representation\n",
        "    + Decode the one-hot or integer representation to their character output\n",
        "    + Decode a vector of probabilities to their character output\n",
        "    \"\"\"\n",
        "\n",
        "    def __init__(self, chars):\n",
        "        \"\"\"Initialize character table.\n",
        "        # Arguments\n",
        "            chars: Characters that can appear in the input.\n",
        "        \"\"\"\n",
        "        self.chars = sorted(set(chars))\n",
        "        self.char_indices = dict((c, i) for i, c in enumerate(self.chars))\n",
        "        self.indices_char = dict((i, c) for i, c in enumerate(self.chars))\n",
        "\n",
        "    def encode(self, C, num_rows):\n",
        "        \"\"\"One-hot encode given string C.\n",
        "        # Arguments\n",
        "            C: string, to be encoded.\n",
        "            num_rows: Number of rows in the returned one-hot encoding. This is\n",
        "                used to keep the # of rows for each data the same.\n",
        "        \"\"\"\n",
        "        x = np.zeros((num_rows, len(self.chars)))\n",
        "        for i, c in enumerate(C):\n",
        "            x[i, self.char_indices[c]] = 1\n",
        "        return x\n",
        "\n",
        "    def decode(self, x, calc_argmax=True):\n",
        "        \"\"\"Decode the given vector or 2D array to their character output.\n",
        "        # Arguments\n",
        "            x: A vector or a 2D array of probabilities or one-hot representations;\n",
        "                or a vector of character indices (used with `calc_argmax=False`).\n",
        "            calc_argmax: Whether to find the character index with maximum\n",
        "                probability, defaults to `True`.\n",
        "        \"\"\"\n",
        "        if calc_argmax:\n",
        "            x = x.argmax(axis=-1)\n",
        "        return \"\".join(self.indices_char[x] for x in x)\n",
        "\n",
        "\n",
        "# All the numbers, plus sign and space for padding.\n",
        "chars = \"0123456789+ \"\n",
        "ctable = CharacterTable(chars)\n",
        "\n",
        "questions = []\n",
        "expected = []\n",
        "seen = set()\n",
        "print(\"Generating data...\")\n",
        "while len(questions) < TRAINING_SIZE:\n",
        "    f = lambda: int(\n",
        "        \"\".join(\n",
        "            np.random.choice(list(\"0123456789\"))\n",
        "            for i in range(np.random.randint(1, DIGITS + 1))\n",
        "        )\n",
        "    )\n",
        "    a, b = f(), f()\n",
        "    # Skip any addition questions we've already seen\n",
        "    # Also skip any such that x+Y == Y+x (hence the sorting).\n",
        "    key = tuple(sorted((a, b)))\n",
        "    if key in seen:\n",
        "        continue\n",
        "    seen.add(key)\n",
        "    # Pad the data with spaces such that it is always MAXLEN.\n",
        "    q = \"{}+{}\".format(a, b)\n",
        "    query = q + \" \" * (MAXLEN - len(q))\n",
        "    ans = str(a + b)\n",
        "    # Answers can be of maximum size DIGITS + 1.\n",
        "    ans += \" \" * (DIGITS + 1 - len(ans))\n",
        "    if REVERSE:\n",
        "        # Reverse the query, e.g., '12+345  ' becomes '  543+21'. (Note the\n",
        "        # space used for padding.)\n",
        "        query = query[::-1]\n",
        "    questions.append(query)\n",
        "    expected.append(ans)\n",
        "print(\"Total questions:\", len(questions))\n"
      ],
      "execution_count": 2,
      "outputs": [
        {
          "output_type": "stream",
          "text": [
            "Generating data...\n",
            "Total questions: 50000\n"
          ],
          "name": "stdout"
        }
      ]
    },
    {
      "cell_type": "markdown",
      "metadata": {
        "id": "UzI_MJPWBiP-"
      },
      "source": [
        "## Vectorize the data\n"
      ]
    },
    {
      "cell_type": "code",
      "metadata": {
        "id": "LwiRucS3BiQA",
        "outputId": "cc58ef6a-a377-48fc-8882-d2124cc39e1c",
        "colab": {
          "base_uri": "https://localhost:8080/"
        }
      },
      "source": [
        "print(\"Vectorization...\")\n",
        "x = np.zeros((len(questions), MAXLEN, len(chars)), dtype=np.bool)\n",
        "y = np.zeros((len(questions), DIGITS + 1, len(chars)), dtype=np.bool)\n",
        "for i, sentence in enumerate(questions):\n",
        "    x[i] = ctable.encode(sentence, MAXLEN)\n",
        "for i, sentence in enumerate(expected):\n",
        "    y[i] = ctable.encode(sentence, DIGITS + 1)\n",
        "\n",
        "# Shuffle (x, y) in unison as the later parts of x will almost all be larger\n",
        "# digits.\n",
        "indices = np.arange(len(y))\n",
        "np.random.shuffle(indices)\n",
        "x = x[indices]\n",
        "y = y[indices]\n",
        "\n",
        "# Explicitly set apart 10% for validation data that we never train over.\n",
        "split_at = len(x) - len(x) // 10\n",
        "(x_train, x_val) = x[:split_at], x[split_at:]\n",
        "(y_train, y_val) = y[:split_at], y[split_at:]\n",
        "\n",
        "print(\"Training Data:\")\n",
        "print(x_train.shape)\n",
        "print(y_train.shape)\n",
        "\n",
        "print(\"Validation Data:\")\n",
        "print(x_val.shape)\n",
        "print(y_val.shape)\n"
      ],
      "execution_count": 3,
      "outputs": [
        {
          "output_type": "stream",
          "text": [
            "Vectorization...\n",
            "Training Data:\n",
            "(45000, 7, 12)\n",
            "(45000, 4, 12)\n",
            "Validation Data:\n",
            "(5000, 7, 12)\n",
            "(5000, 4, 12)\n"
          ],
          "name": "stdout"
        }
      ]
    },
    {
      "cell_type": "markdown",
      "metadata": {
        "id": "H65HHSHvBiQC"
      },
      "source": [
        "## Build the model\n"
      ]
    },
    {
      "cell_type": "code",
      "metadata": {
        "id": "U-5xvsYLBiQE",
        "outputId": "52e255eb-5557-4865-ee37-3e63f3791aaf",
        "colab": {
          "base_uri": "https://localhost:8080/"
        }
      },
      "source": [
        "print(\"Build model...\")\n",
        "num_layers = 1  # Try to add more LSTM layers!\n",
        "\n",
        "model = keras.Sequential()\n",
        "# \"Encode\" the input sequence using a LSTM, producing an output of size 128.\n",
        "# Note: In a situation where your input sequences have a variable length,\n",
        "# use input_shape=(None, num_feature).\n",
        "model.add(layers.LSTM(128, input_shape=(MAXLEN, len(chars))))\n",
        "# As the decoder RNN's input, repeatedly provide with the last output of\n",
        "# RNN for each time step. Repeat 'DIGITS + 1' times as that's the maximum\n",
        "# length of output, e.g., when DIGITS=3, max output is 999+999=1998.\n",
        "model.add(layers.RepeatVector(DIGITS + 1))\n",
        "# The decoder RNN could be multiple layers stacked or a single layer.\n",
        "for _ in range(num_layers):\n",
        "    # By setting return_sequences to True, return not only the last output but\n",
        "    # all the outputs so far in the form of (num_samples, timesteps,\n",
        "    # output_dim). This is necessary as TimeDistributed in the below expects\n",
        "    # the first dimension to be the timesteps.\n",
        "    model.add(layers.LSTM(128, return_sequences=True))\n",
        "\n",
        "# Apply a dense layer to the every temporal slice of an input. For each of step\n",
        "# of the output sequence, decide which character should be chosen.\n",
        "model.add(layers.Dense(len(chars), activation=\"softmax\"))\n",
        "model.compile(loss=\"categorical_crossentropy\", optimizer=\"adam\", metrics=[\"accuracy\"])\n",
        "model.summary()\n"
      ],
      "execution_count": 4,
      "outputs": [
        {
          "output_type": "stream",
          "text": [
            "Build model...\n",
            "Model: \"sequential\"\n",
            "_________________________________________________________________\n",
            "Layer (type)                 Output Shape              Param #   \n",
            "=================================================================\n",
            "lstm (LSTM)                  (None, 128)               72192     \n",
            "_________________________________________________________________\n",
            "repeat_vector (RepeatVector) (None, 4, 128)            0         \n",
            "_________________________________________________________________\n",
            "lstm_1 (LSTM)                (None, 4, 128)            131584    \n",
            "_________________________________________________________________\n",
            "dense (Dense)                (None, 4, 12)             1548      \n",
            "=================================================================\n",
            "Total params: 205,324\n",
            "Trainable params: 205,324\n",
            "Non-trainable params: 0\n",
            "_________________________________________________________________\n"
          ],
          "name": "stdout"
        }
      ]
    },
    {
      "cell_type": "markdown",
      "metadata": {
        "id": "YswxOAYwBiQF"
      },
      "source": [
        "## Train the model\n"
      ]
    },
    {
      "cell_type": "code",
      "metadata": {
        "id": "WSfVloeeBiQG",
        "outputId": "c414d937-2488-4a4a-8c31-34e69c5fece3",
        "colab": {
          "base_uri": "https://localhost:8080/"
        }
      },
      "source": [
        "epochs = 30\n",
        "batch_size = 32\n",
        "\n",
        "\n",
        "# Train the model each generation and show predictions against the validation\n",
        "# dataset.\n",
        "for epoch in range(1, epochs):\n",
        "    print()\n",
        "    print(\"Iteration\", epoch)\n",
        "    model.fit(\n",
        "        x_train,\n",
        "        y_train,\n",
        "        batch_size=batch_size,\n",
        "        epochs=1,\n",
        "        validation_data=(x_val, y_val),\n",
        "    )\n",
        "    # Select 10 samples from the validation set at random so we can visualize\n",
        "    # errors.\n",
        "    for i in range(10):\n",
        "        ind = np.random.randint(0, len(x_val))\n",
        "        rowx, rowy = x_val[np.array([ind])], y_val[np.array([ind])]\n",
        "        preds = np.argmax(model.predict(rowx), axis=-1)\n",
        "        q = ctable.decode(rowx[0])\n",
        "        correct = ctable.decode(rowy[0])\n",
        "        guess = ctable.decode(preds[0], calc_argmax=False)\n",
        "        print(\"Q\", q[::-1] if REVERSE else q, end=\" \")\n",
        "        print(\"T\", correct, end=\" \")\n",
        "        if correct == guess:\n",
        "            print(\"☑ \" + guess)\n",
        "        else:\n",
        "            print(\"☒ \" + guess)\n"
      ],
      "execution_count": 5,
      "outputs": [
        {
          "output_type": "stream",
          "text": [
            "\n",
            "Iteration 1\n",
            "1407/1407 [==============================] - 26s 16ms/step - loss: 1.7628 - accuracy: 0.3544 - val_loss: 1.5606 - val_accuracy: 0.4184\n",
            "Q 24+954  T 978  ☒ 909 \n",
            "Q 103+314 T 417  ☒ 699 \n",
            "Q 14+989  T 1003 ☒ 909 \n",
            "Q 288+103 T 391  ☒ 399 \n",
            "Q 843+162 T 1005 ☒ 109 \n",
            "Q 876+0   T 876  ☒ 877 \n",
            "Q 387+59  T 446  ☒ 399 \n",
            "Q 6+474   T 480  ☒ 155 \n",
            "Q 11+14   T 25   ☒ 11  \n",
            "Q 927+4   T 931  ☒ 909 \n",
            "\n",
            "Iteration 2\n",
            "1407/1407 [==============================] - 23s 17ms/step - loss: 1.3563 - accuracy: 0.4934 - val_loss: 1.2075 - val_accuracy: 0.5465\n",
            "Q 4+709   T 713  ☒ 702 \n",
            "Q 51+235  T 286  ☒ 288 \n",
            "Q 257+237 T 494  ☒ 509 \n",
            "Q 582+862 T 1444 ☒ 1544\n",
            "Q 148+1   T 149  ☒ 156 \n",
            "Q 20+160  T 180  ☒ 176 \n",
            "Q 863+805 T 1668 ☒ 1608\n",
            "Q 246+952 T 1198 ☒ 1200\n",
            "Q 57+733  T 790  ☒ 888 \n",
            "Q 84+459  T 543  ☒ 528 \n",
            "\n",
            "Iteration 3\n",
            "1407/1407 [==============================] - 22s 15ms/step - loss: 1.0419 - accuracy: 0.6152 - val_loss: 0.9501 - val_accuracy: 0.6510\n",
            "Q 7+806   T 813  ☒ 815 \n",
            "Q 942+53  T 995  ☒ 900 \n",
            "Q 58+28   T 86   ☒ 80  \n",
            "Q 293+74  T 367  ☒ 373 \n",
            "Q 681+194 T 875  ☒ 733 \n",
            "Q 159+98  T 257  ☒ 250 \n",
            "Q 91+748  T 839  ☒ 833 \n",
            "Q 82+66   T 148  ☒ 140 \n",
            "Q 11+96   T 107  ☒ 100 \n",
            "Q 9+998   T 1007 ☒ 1000\n",
            "\n",
            "Iteration 4\n",
            "1407/1407 [==============================] - 22s 15ms/step - loss: 0.8956 - accuracy: 0.6694 - val_loss: 0.8501 - val_accuracy: 0.6823\n",
            "Q 472+637 T 1109 ☑ 1109\n",
            "Q 80+9    T 89   ☒ 88  \n",
            "Q 2+749   T 751  ☒ 749 \n",
            "Q 745+76  T 821  ☒ 825 \n",
            "Q 469+7   T 476  ☒ 471 \n",
            "Q 717+823 T 1540 ☒ 1545\n",
            "Q 177+638 T 815  ☑ 815 \n",
            "Q 36+616  T 652  ☒ 645 \n",
            "Q 87+764  T 851  ☒ 855 \n",
            "Q 782+784 T 1566 ☒ 1555\n",
            "\n",
            "Iteration 5\n",
            "1407/1407 [==============================] - 22s 15ms/step - loss: 0.7970 - accuracy: 0.7060 - val_loss: 0.7910 - val_accuracy: 0.7013\n",
            "Q 795+48  T 843  ☒ 844 \n",
            "Q 660+901 T 1561 ☒ 1574\n",
            "Q 748+413 T 1161 ☒ 1162\n",
            "Q 7+758   T 765  ☒ 760 \n",
            "Q 1+175   T 176  ☒ 178 \n",
            "Q 31+848  T 879  ☒ 874 \n",
            "Q 42+786  T 828  ☒ 820 \n",
            "Q 757+34  T 791  ☒ 784 \n",
            "Q 544+5   T 549  ☒ 548 \n",
            "Q 37+954  T 991  ☒ 988 \n",
            "\n",
            "Iteration 6\n",
            "1407/1407 [==============================] - 22s 16ms/step - loss: 0.7232 - accuracy: 0.7340 - val_loss: 0.6784 - val_accuracy: 0.7506\n",
            "Q 402+43  T 445  ☒ 447 \n",
            "Q 859+339 T 1198 ☒ 1296\n",
            "Q 93+452  T 545  ☒ 547 \n",
            "Q 216+713 T 929  ☒ 927 \n",
            "Q 333+89  T 422  ☒ 427 \n",
            "Q 500+55  T 555  ☒ 557 \n",
            "Q 0+766   T 766  ☒ 767 \n",
            "Q 940+92  T 1032 ☒ 1047\n",
            "Q 27+50   T 77   ☒ 64  \n",
            "Q 340+97  T 437  ☑ 437 \n",
            "\n",
            "Iteration 7\n",
            "1407/1407 [==============================] - 22s 15ms/step - loss: 0.5901 - accuracy: 0.7850 - val_loss: 0.4469 - val_accuracy: 0.8443\n",
            "Q 40+183  T 223  ☒ 224 \n",
            "Q 657+961 T 1618 ☒ 1619\n",
            "Q 374+5   T 379  ☑ 379 \n",
            "Q 930+114 T 1044 ☒ 1045\n",
            "Q 967+3   T 970  ☑ 970 \n",
            "Q 876+21  T 897  ☑ 897 \n",
            "Q 3+16    T 19   ☑ 19  \n",
            "Q 486+0   T 486  ☒ 485 \n",
            "Q 602+49  T 651  ☑ 651 \n",
            "Q 153+6   T 159  ☒ 169 \n",
            "\n",
            "Iteration 8\n",
            "1407/1407 [==============================] - 22s 16ms/step - loss: 0.3290 - accuracy: 0.8959 - val_loss: 0.2438 - val_accuracy: 0.9351\n",
            "Q 654+700 T 1354 ☒ 1355\n",
            "Q 973+501 T 1474 ☑ 1474\n",
            "Q 31+724  T 755  ☑ 755 \n",
            "Q 826+59  T 885  ☒ 886 \n",
            "Q 681+25  T 706  ☑ 706 \n",
            "Q 618+0   T 618  ☑ 618 \n",
            "Q 741+442 T 1183 ☒ 1184\n",
            "Q 503+33  T 536  ☑ 536 \n",
            "Q 137+144 T 281  ☑ 281 \n",
            "Q 21+751  T 772  ☑ 772 \n",
            "\n",
            "Iteration 9\n",
            "1407/1407 [==============================] - 22s 16ms/step - loss: 0.1872 - accuracy: 0.9534 - val_loss: 0.1350 - val_accuracy: 0.9714\n",
            "Q 527+738 T 1265 ☑ 1265\n",
            "Q 864+92  T 956  ☑ 956 \n",
            "Q 9+732   T 741  ☑ 741 \n",
            "Q 41+760  T 801  ☑ 801 \n",
            "Q 197+2   T 199  ☑ 199 \n",
            "Q 914+22  T 936  ☑ 936 \n",
            "Q 768+7   T 775  ☑ 775 \n",
            "Q 954+924 T 1878 ☒ 1778\n",
            "Q 599+902 T 1501 ☒ 1401\n",
            "Q 44+581  T 625  ☑ 625 \n",
            "\n",
            "Iteration 10\n",
            "1407/1407 [==============================] - 22s 16ms/step - loss: 0.1263 - accuracy: 0.9694 - val_loss: 0.1039 - val_accuracy: 0.9755\n",
            "Q 717+823 T 1540 ☑ 1540\n",
            "Q 95+544  T 639  ☑ 639 \n",
            "Q 840+19  T 859  ☑ 859 \n",
            "Q 666+5   T 671  ☑ 671 \n",
            "Q 56+795  T 851  ☑ 851 \n",
            "Q 45+549  T 594  ☑ 594 \n",
            "Q 68+727  T 795  ☑ 795 \n",
            "Q 594+1   T 595  ☑ 595 \n",
            "Q 74+104  T 178  ☑ 178 \n",
            "Q 553+42  T 595  ☑ 595 \n",
            "\n",
            "Iteration 11\n",
            "1407/1407 [==============================] - 22s 16ms/step - loss: 0.0858 - accuracy: 0.9806 - val_loss: 0.0710 - val_accuracy: 0.9845\n",
            "Q 626+767 T 1393 ☑ 1393\n",
            "Q 771+43  T 814  ☑ 814 \n",
            "Q 233+27  T 260  ☑ 260 \n",
            "Q 75+533  T 608  ☑ 608 \n",
            "Q 569+879 T 1448 ☒ 1438\n",
            "Q 708+43  T 751  ☑ 751 \n",
            "Q 25+88   T 113  ☑ 113 \n",
            "Q 962+67  T 1029 ☑ 1029\n",
            "Q 81+259  T 340  ☑ 340 \n",
            "Q 91+499  T 590  ☑ 590 \n",
            "\n",
            "Iteration 12\n",
            "1407/1407 [==============================] - 22s 15ms/step - loss: 0.0750 - accuracy: 0.9808 - val_loss: 0.0774 - val_accuracy: 0.9785\n",
            "Q 135+371 T 506  ☑ 506 \n",
            "Q 677+633 T 1310 ☑ 1310\n",
            "Q 757+38  T 795  ☑ 795 \n",
            "Q 599+14  T 613  ☑ 613 \n",
            "Q 850+215 T 1065 ☑ 1065\n",
            "Q 522+638 T 1160 ☑ 1160\n",
            "Q 831+45  T 876  ☑ 876 \n",
            "Q 843+949 T 1792 ☒ 1793\n",
            "Q 664+493 T 1157 ☑ 1157\n",
            "Q 384+93  T 477  ☑ 477 \n",
            "\n",
            "Iteration 13\n",
            "1407/1407 [==============================] - 22s 15ms/step - loss: 0.0589 - accuracy: 0.9848 - val_loss: 0.0462 - val_accuracy: 0.9897\n",
            "Q 444+87  T 531  ☑ 531 \n",
            "Q 68+325  T 393  ☑ 393 \n",
            "Q 363+332 T 695  ☑ 695 \n",
            "Q 785+63  T 848  ☑ 848 \n",
            "Q 246+959 T 1205 ☑ 1205\n",
            "Q 642+263 T 905  ☑ 905 \n",
            "Q 374+5   T 379  ☑ 379 \n",
            "Q 759+51  T 810  ☑ 810 \n",
            "Q 753+923 T 1676 ☑ 1676\n",
            "Q 80+675  T 755  ☑ 755 \n",
            "\n",
            "Iteration 14\n",
            "1407/1407 [==============================] - 22s 15ms/step - loss: 0.0382 - accuracy: 0.9909 - val_loss: 0.1292 - val_accuracy: 0.9574\n",
            "Q 713+2   T 715  ☑ 715 \n",
            "Q 752+616 T 1368 ☑ 1368\n",
            "Q 677+44  T 721  ☑ 721 \n",
            "Q 119+97  T 216  ☑ 216 \n",
            "Q 75+583  T 658  ☒ 657 \n",
            "Q 310+478 T 788  ☑ 788 \n",
            "Q 807+21  T 828  ☑ 828 \n",
            "Q 260+43  T 303  ☑ 303 \n",
            "Q 942+0   T 942  ☑ 942 \n",
            "Q 890+948 T 1838 ☑ 1838\n",
            "\n",
            "Iteration 15\n",
            "1407/1407 [==============================] - 22s 15ms/step - loss: 0.0319 - accuracy: 0.9923 - val_loss: 0.0902 - val_accuracy: 0.9699\n",
            "Q 332+20  T 352  ☑ 352 \n",
            "Q 26+597  T 623  ☑ 623 \n",
            "Q 869+1   T 870  ☑ 870 \n",
            "Q 9+240   T 249  ☑ 249 \n",
            "Q 71+81   T 152  ☑ 152 \n",
            "Q 122+19  T 141  ☒ 142 \n",
            "Q 623+874 T 1497 ☑ 1497\n",
            "Q 252+77  T 329  ☑ 329 \n",
            "Q 79+35   T 114  ☑ 114 \n",
            "Q 183+20  T 203  ☑ 203 \n",
            "\n",
            "Iteration 16\n",
            "1407/1407 [==============================] - 22s 15ms/step - loss: 0.0532 - accuracy: 0.9844 - val_loss: 0.0272 - val_accuracy: 0.9937\n",
            "Q 528+32  T 560  ☑ 560 \n",
            "Q 42+769  T 811  ☑ 811 \n",
            "Q 90+41   T 131  ☑ 131 \n",
            "Q 267+96  T 363  ☑ 363 \n",
            "Q 873+10  T 883  ☑ 883 \n",
            "Q 832+148 T 980  ☑ 980 \n",
            "Q 896+52  T 948  ☑ 948 \n",
            "Q 457+920 T 1377 ☑ 1377\n",
            "Q 29+993  T 1022 ☑ 1022\n",
            "Q 81+54   T 135  ☑ 135 \n",
            "\n",
            "Iteration 17\n",
            "1407/1407 [==============================] - 22s 15ms/step - loss: 0.0277 - accuracy: 0.9931 - val_loss: 0.0218 - val_accuracy: 0.9944\n",
            "Q 25+231  T 256  ☑ 256 \n",
            "Q 35+928  T 963  ☑ 963 \n",
            "Q 76+611  T 687  ☑ 687 \n",
            "Q 373+583 T 956  ☑ 956 \n",
            "Q 828+776 T 1604 ☑ 1604\n",
            "Q 85+157  T 242  ☑ 242 \n",
            "Q 943+0   T 943  ☑ 943 \n",
            "Q 821+20  T 841  ☑ 841 \n",
            "Q 791+59  T 850  ☑ 850 \n",
            "Q 0+635   T 635  ☑ 635 \n",
            "\n",
            "Iteration 18\n",
            "1407/1407 [==============================] - 22s 15ms/step - loss: 0.0286 - accuracy: 0.9932 - val_loss: 0.0233 - val_accuracy: 0.9937\n",
            "Q 896+8   T 904  ☑ 904 \n",
            "Q 68+645  T 713  ☑ 713 \n",
            "Q 789+203 T 992  ☑ 992 \n",
            "Q 444+87  T 531  ☑ 531 \n",
            "Q 259+128 T 387  ☑ 387 \n",
            "Q 92+51   T 143  ☑ 143 \n",
            "Q 49+447  T 496  ☑ 496 \n",
            "Q 11+667  T 678  ☑ 678 \n",
            "Q 86+78   T 164  ☑ 164 \n",
            "Q 1+465   T 466  ☑ 466 \n",
            "\n",
            "Iteration 19\n",
            "1407/1407 [==============================] - 22s 16ms/step - loss: 0.0373 - accuracy: 0.9895 - val_loss: 0.0119 - val_accuracy: 0.9978\n",
            "Q 60+360  T 420  ☑ 420 \n",
            "Q 428+75  T 503  ☑ 503 \n",
            "Q 3+804   T 807  ☑ 807 \n",
            "Q 374+5   T 379  ☑ 379 \n",
            "Q 79+963  T 1042 ☑ 1042\n",
            "Q 692+994 T 1686 ☑ 1686\n",
            "Q 55+954  T 1009 ☑ 1009\n",
            "Q 5+464   T 469  ☑ 469 \n",
            "Q 696+430 T 1126 ☑ 1126\n",
            "Q 83+635  T 718  ☑ 718 \n",
            "\n",
            "Iteration 20\n",
            "1407/1407 [==============================] - 22s 15ms/step - loss: 0.0276 - accuracy: 0.9925 - val_loss: 0.0117 - val_accuracy: 0.9977\n",
            "Q 48+625  T 673  ☑ 673 \n",
            "Q 598+393 T 991  ☑ 991 \n",
            "Q 466+593 T 1059 ☑ 1059\n",
            "Q 109+95  T 204  ☑ 204 \n",
            "Q 562+99  T 661  ☑ 661 \n",
            "Q 90+156  T 246  ☑ 246 \n",
            "Q 39+39   T 78   ☑ 78  \n",
            "Q 2+866   T 868  ☑ 868 \n",
            "Q 748+160 T 908  ☑ 908 \n",
            "Q 825+163 T 988  ☑ 988 \n",
            "\n",
            "Iteration 21\n",
            "1407/1407 [==============================] - 22s 16ms/step - loss: 0.0320 - accuracy: 0.9914 - val_loss: 0.0129 - val_accuracy: 0.9973\n",
            "Q 3+724   T 727  ☑ 727 \n",
            "Q 234+840 T 1074 ☑ 1074\n",
            "Q 386+36  T 422  ☑ 422 \n",
            "Q 440+0   T 440  ☑ 440 \n",
            "Q 68+645  T 713  ☑ 713 \n",
            "Q 570+918 T 1488 ☑ 1488\n",
            "Q 572+41  T 613  ☑ 613 \n",
            "Q 27+6    T 33   ☑ 33  \n",
            "Q 850+889 T 1739 ☑ 1739\n",
            "Q 892+617 T 1509 ☑ 1509\n",
            "\n",
            "Iteration 22\n",
            "1407/1407 [==============================] - 22s 16ms/step - loss: 0.0262 - accuracy: 0.9932 - val_loss: 0.0481 - val_accuracy: 0.9848\n",
            "Q 662+179 T 841  ☑ 841 \n",
            "Q 4+652   T 656  ☑ 656 \n",
            "Q 869+86  T 955  ☑ 955 \n",
            "Q 140+8   T 148  ☑ 148 \n",
            "Q 74+360  T 434  ☑ 434 \n",
            "Q 127+77  T 204  ☑ 204 \n",
            "Q 553+58  T 611  ☑ 611 \n",
            "Q 4+651   T 655  ☑ 655 \n",
            "Q 494+47  T 541  ☑ 541 \n",
            "Q 73+733  T 806  ☑ 806 \n",
            "\n",
            "Iteration 23\n",
            "1407/1407 [==============================] - 22s 16ms/step - loss: 0.0212 - accuracy: 0.9944 - val_loss: 0.0721 - val_accuracy: 0.9796\n",
            "Q 8+898   T 906  ☑ 906 \n",
            "Q 247+7   T 254  ☑ 254 \n",
            "Q 22+323  T 345  ☑ 345 \n",
            "Q 454+74  T 528  ☑ 528 \n",
            "Q 40+183  T 223  ☑ 223 \n",
            "Q 83+183  T 266  ☑ 266 \n",
            "Q 1+792   T 793  ☑ 793 \n",
            "Q 36+98   T 134  ☑ 134 \n",
            "Q 73+719  T 792  ☑ 792 \n",
            "Q 194+2   T 196  ☑ 196 \n",
            "\n",
            "Iteration 24\n",
            "1407/1407 [==============================] - 22s 16ms/step - loss: 0.0092 - accuracy: 0.9980 - val_loss: 0.0063 - val_accuracy: 0.9987\n",
            "Q 409+742 T 1151 ☑ 1151\n",
            "Q 786+646 T 1432 ☑ 1432\n",
            "Q 97+60   T 157  ☑ 157 \n",
            "Q 943+345 T 1288 ☑ 1288\n",
            "Q 857+452 T 1309 ☑ 1309\n",
            "Q 48+37   T 85   ☑ 85  \n",
            "Q 395+978 T 1373 ☑ 1373\n",
            "Q 224+41  T 265  ☑ 265 \n",
            "Q 675+38  T 713  ☑ 713 \n",
            "Q 414+531 T 945  ☑ 945 \n",
            "\n",
            "Iteration 25\n",
            "1407/1407 [==============================] - 23s 16ms/step - loss: 0.0333 - accuracy: 0.9903 - val_loss: 0.0070 - val_accuracy: 0.9991\n",
            "Q 13+648  T 661  ☑ 661 \n",
            "Q 64+405  T 469  ☑ 469 \n",
            "Q 22+972  T 994  ☑ 994 \n",
            "Q 202+968 T 1170 ☑ 1170\n",
            "Q 949+106 T 1055 ☑ 1055\n",
            "Q 137+96  T 233  ☑ 233 \n",
            "Q 80+207  T 287  ☑ 287 \n",
            "Q 27+189  T 216  ☑ 216 \n",
            "Q 148+6   T 154  ☑ 154 \n",
            "Q 567+0   T 567  ☑ 567 \n",
            "\n",
            "Iteration 26\n",
            "1407/1407 [==============================] - 22s 16ms/step - loss: 0.0111 - accuracy: 0.9974 - val_loss: 0.1396 - val_accuracy: 0.9557\n",
            "Q 60+1    T 61   ☑ 61  \n",
            "Q 73+351  T 424  ☑ 424 \n",
            "Q 483+70  T 553  ☒ 563 \n",
            "Q 83+846  T 929  ☑ 929 \n",
            "Q 667+338 T 1005 ☑ 1005\n",
            "Q 836+90  T 926  ☑ 926 \n",
            "Q 751+9   T 760  ☑ 760 \n",
            "Q 734+80  T 814  ☑ 814 \n",
            "Q 54+208  T 262  ☑ 262 \n",
            "Q 47+30   T 77   ☑ 77  \n",
            "\n",
            "Iteration 27\n",
            "1407/1407 [==============================] - 22s 15ms/step - loss: 0.0296 - accuracy: 0.9915 - val_loss: 0.0730 - val_accuracy: 0.9742\n",
            "Q 41+814  T 855  ☑ 855 \n",
            "Q 22+15   T 37   ☑ 37  \n",
            "Q 279+273 T 552  ☒ 553 \n",
            "Q 336+792 T 1128 ☑ 1128\n",
            "Q 57+733  T 790  ☑ 790 \n",
            "Q 53+362  T 415  ☑ 415 \n",
            "Q 654+96  T 750  ☑ 750 \n",
            "Q 59+212  T 271  ☑ 271 \n",
            "Q 549+51  T 600  ☑ 600 \n",
            "Q 756+51  T 807  ☑ 807 \n",
            "\n",
            "Iteration 28\n",
            "1407/1407 [==============================] - 22s 16ms/step - loss: 0.0141 - accuracy: 0.9967 - val_loss: 0.0117 - val_accuracy: 0.9969\n",
            "Q 972+3   T 975  ☑ 975 \n",
            "Q 237+62  T 299  ☑ 299 \n",
            "Q 54+140  T 194  ☑ 194 \n",
            "Q 41+766  T 807  ☑ 807 \n",
            "Q 679+385 T 1064 ☑ 1064\n",
            "Q 754+635 T 1389 ☑ 1389\n",
            "Q 217+981 T 1198 ☑ 1198\n",
            "Q 46+551  T 597  ☑ 597 \n",
            "Q 157+430 T 587  ☑ 587 \n",
            "Q 57+11   T 68   ☑ 68  \n",
            "\n",
            "Iteration 29\n",
            "1407/1407 [==============================] - 22s 16ms/step - loss: 0.0242 - accuracy: 0.9934 - val_loss: 0.0046 - val_accuracy: 0.9994\n",
            "Q 4+699   T 703  ☑ 703 \n",
            "Q 879+23  T 902  ☑ 902 \n",
            "Q 27+331  T 358  ☑ 358 \n",
            "Q 949+95  T 1044 ☑ 1044\n",
            "Q 380+7   T 387  ☑ 387 \n",
            "Q 32+420  T 452  ☑ 452 \n",
            "Q 69+994  T 1063 ☑ 1063\n",
            "Q 16+310  T 326  ☑ 326 \n",
            "Q 746+22  T 768  ☑ 768 \n",
            "Q 9+276   T 285  ☑ 285 \n"
          ],
          "name": "stdout"
        }
      ]
    },
    {
      "cell_type": "markdown",
      "metadata": {
        "id": "Gugw28FSBiQH"
      },
      "source": [
        "You'll get to 99+% validation accuracy after ~30 epochs.\n"
      ]
    },
    {
      "cell_type": "code",
      "metadata": {
        "id": "O9opVwuZKEy1",
        "outputId": "40ed1bbd-f6ee-4497-e3c4-de9f4a18ed1c",
        "colab": {
          "base_uri": "https://localhost:8080/",
          "height": 533
        }
      },
      "source": [
        "keras.utils.plot_model(model,'Addition_RNN.png',show_shapes=True)"
      ],
      "execution_count": 7,
      "outputs": [
        {
          "output_type": "execute_result",
          "data": {
            "image/png": "[encoded data removed]",
            "text/plain": [
              "<IPython.core.display.Image object>"
            ]
          },
          "metadata": {
            "tags": []
          },
          "execution_count": 7
        }
      ]
    },
    {
      "cell_type": "markdown",
      "metadata": {
        "id": "EYGhTIGKKaJn"
      },
      "source": [
        "## Evaluate the model"
      ]
    },
    {
      "cell_type": "code",
      "metadata": {
        "id": "vZ7N-zyOKfS5",
        "outputId": "cfa28888-ad79-4c83-a6a4-8cb19bcfd1a3",
        "colab": {
          "base_uri": "https://localhost:8080/"
        }
      },
      "source": [
        "test_loss,test_accuracy=model.evaluate(x_val,y_val)"
      ],
      "execution_count": 9,
      "outputs": [
        {
          "output_type": "stream",
          "text": [
            "157/157 [==============================] - 1s 5ms/step - loss: 0.0046 - accuracy: 0.9994\n"
          ],
          "name": "stdout"
        }
      ]
    },
    {
      "cell_type": "code",
      "metadata": {
        "id": "UuLJMBToK_5a",
        "outputId": "daa033c5-af5b-4eab-d208-9e4b42c81519",
        "colab": {
          "base_uri": "https://localhost:8080/"
        }
      },
      "source": [
        "x_train[0]"
      ],
      "execution_count": 12,
      "outputs": [
        {
          "output_type": "execute_result",
          "data": {
            "text/plain": [
              "array([[ True, False, False, False, False, False, False, False, False,\n",
              "        False, False, False],\n",
              "       [False, False, False, False, False, False, False, False, False,\n",
              "         True, False, False],\n",
              "       [False, False, False, False, False,  True, False, False, False,\n",
              "        False, False, False],\n",
              "       [False, False, False, False,  True, False, False, False, False,\n",
              "        False, False, False],\n",
              "       [False,  True, False, False, False, False, False, False, False,\n",
              "        False, False, False],\n",
              "       [False, False, False, False, False, False, False, False, False,\n",
              "         True, False, False],\n",
              "       [False, False, False, False, False, False, False, False, False,\n",
              "        False, False,  True]])"
            ]
          },
          "metadata": {
            "tags": []
          },
          "execution_count": 12
        }
      ]
    },
    {
      "cell_type": "code",
      "metadata": {
        "id": "P28yXOsALHCC",
        "outputId": "e8dea55b-c4f0-45ba-b487-1c542540cced",
        "colab": {
          "base_uri": "https://localhost:8080/"
        }
      },
      "source": [
        "y_train[0]"
      ],
      "execution_count": 13,
      "outputs": [
        {
          "output_type": "execute_result",
          "data": {
            "text/plain": [
              "array([[False, False, False, False, False,  True, False, False, False,\n",
              "        False, False, False],\n",
              "       [False, False, False, False, False,  True, False, False, False,\n",
              "        False, False, False],\n",
              "       [False, False, False, False, False, False,  True, False, False,\n",
              "        False, False, False],\n",
              "       [ True, False, False, False, False, False, False, False, False,\n",
              "        False, False, False]])"
            ]
          },
          "metadata": {
            "tags": []
          },
          "execution_count": 13
        }
      ]
    },
    {
      "cell_type": "code",
      "metadata": {
        "id": "cae70LkKK2bT"
      },
      "source": [
        ""
      ],
      "execution_count": 17,
      "outputs": []
    }
  ]
}